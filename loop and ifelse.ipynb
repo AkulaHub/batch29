{
 "cells": [
  {
   "cell_type": "code",
   "execution_count": 1,
   "metadata": {
    "collapsed": false
   },
   "outputs": [
    {
     "name": "stdout",
     "output_type": "stream",
     "text": [
      "Mobile os:\n",
      "\t1.Android\n",
      "\t2.ios\n",
      "\t3.windows\n",
      "enter an option:4\n"
     ]
    }
   ],
   "source": [
    "print \"Mobile os:\\n\\t1.Android\\n\\t2.ios\\n\\t3.windows\"\n",
    "opt=raw_input(\"enter an option:\")\n",
    "if opt==\"1\":\n",
    "    print \"Selected andriod\"\n",
    "    print \"info for android\"\n",
    "if opt==\"2\":\n",
    "    print \"Selected ios\"\n",
    "    print \"info for ios\"\n",
    "if opt==\"3\":\n",
    "    print \"Selected windows\"\n",
    "    print \"info for windows\""
   ]
  },
  {
   "cell_type": "code",
   "execution_count": 2,
   "metadata": {
    "collapsed": false
   },
   "outputs": [
    {
     "name": "stdout",
     "output_type": "stream",
     "text": [
      "Mobile os:\n",
      "\t1.Android\n",
      "\t2.ios\n",
      "\t3.windows\n",
      "enter an option:4\n",
      "wrong option\n"
     ]
    }
   ],
   "source": [
    "print \"Mobile os:\\n\\t1.Android\\n\\t2.ios\\n\\t3.windows\"\n",
    "opt=raw_input(\"enter an option:\")\n",
    "if opt==\"1\":\n",
    "    print \"Selected andriod\"\n",
    "    print \"info for android\"\n",
    "if opt==\"2\":\n",
    "    print \"Selected ios\"\n",
    "    print \"info for ios\"\n",
    "if opt==\"3\":\n",
    "    print \"Selected windows\"\n",
    "    print \"info for windows\"\n",
    "else:\n",
    "    print \"wrong option\""
   ]
  },
  {
   "cell_type": "code",
   "execution_count": 3,
   "metadata": {
    "collapsed": false
   },
   "outputs": [
    {
     "name": "stdout",
     "output_type": "stream",
     "text": [
      "Mobile os:\n",
      "\t1.Android\n",
      "\t2.ios\n",
      "\t3.windows\n",
      "enter an option:2\n",
      "Selected ios\n",
      "info for ios\n",
      "wrong option\n"
     ]
    }
   ],
   "source": [
    "print \"Mobile os:\\n\\t1.Android\\n\\t2.ios\\n\\t3.windows\"\n",
    "opt=raw_input(\"enter an option:\")\n",
    "if opt==\"1\":\n",
    "    print \"Selected andriod\"\n",
    "    print \"info for android\"\n",
    "if opt==\"2\":\n",
    "    print \"Selected ios\"\n",
    "    print \"info for ios\"\n",
    "if opt==\"3\":\n",
    "    print \"Selected windows\"\n",
    "    print \"info for windows\"\n",
    "else:\n",
    "    print \"wrong option\""
   ]
  },
  {
   "cell_type": "code",
   "execution_count": 4,
   "metadata": {
    "collapsed": false
   },
   "outputs": [
    {
     "name": "stdout",
     "output_type": "stream",
     "text": [
      "Mobile os:\n",
      "\t1.Android\n",
      "\t2.ios\n",
      "\t3.windows\n",
      "enter an option:2\n",
      "Selected ios\n",
      "info for ios\n",
      "wrong option\n"
     ]
    }
   ],
   "source": [
    "print \"Mobile os:\\n\\t1.Android\\n\\t2.ios\\n\\t3.windows\"\n",
    "opt=raw_input(\"enter an option:\")\n",
    "if opt==\"1\":\n",
    "    print \"Selected andriod\"\n",
    "    print \"info for android\"\n",
    "if opt==\"2\":\n",
    "    print \"Selected ios\"\n",
    "    print \"info for ios\"\n",
    "if opt==\"3\":\n",
    "    print \"Selected windows\"\n",
    "    print \"info for windows\"\n",
    "else:\n",
    "    print \"wrong option\""
   ]
  },
  {
   "cell_type": "code",
   "execution_count": 5,
   "metadata": {
    "collapsed": false
   },
   "outputs": [
    {
     "name": "stdout",
     "output_type": "stream",
     "text": [
      "Mobile os:\n",
      "\t1.Android\n",
      "\t2.ios\n",
      "\t3.windows\n",
      "enter an option:2\n",
      "Selected ios\n",
      "info for ios\n",
      "wrong option\n",
      "other statemtnd in program \n",
      "program ended\n"
     ]
    }
   ],
   "source": [
    "print \"Mobile os:\\n\\t1.Android\\n\\t2.ios\\n\\t3.windows\"\n",
    "opt=raw_input(\"enter an option:\")\n",
    "if opt==\"1\":\n",
    "    print \"Selected andriod\"\n",
    "    print \"info for android\"\n",
    "if opt==\"2\":\n",
    "    print \"Selected ios\"\n",
    "    print \"info for ios\"\n",
    "if opt==\"3\":\n",
    "    print \"Selected windows\"\n",
    "    print \"info for windows\"\n",
    "else:\n",
    "    print \"wrong option\"\n",
    "print \"other statemtnd in program \"\n",
    "print \"program ended\""
   ]
  },
  {
   "cell_type": "code",
   "execution_count": 6,
   "metadata": {
    "collapsed": false
   },
   "outputs": [
    {
     "name": "stdout",
     "output_type": "stream",
     "text": [
      "Mobile os:\n",
      "\t1.Android\n",
      "\t2.ios\n",
      "\t3.windows\n",
      "enter an option:3\n",
      "Selected windows\n",
      "info for windows\n",
      "other statemtnd in program \n",
      "program ended\n"
     ]
    }
   ],
   "source": [
    "print \"Mobile os:\\n\\t1.Android\\n\\t2.ios\\n\\t3.windows\"\n",
    "opt=raw_input(\"enter an option:\")\n",
    "if opt==\"1\":\n",
    "    print \"Selected andriod\"\n",
    "    print \"info for android\"\n",
    "if opt==\"2\":\n",
    "    print \"Selected ios\"\n",
    "    print \"info for ios\"\n",
    "if opt==\"3\":\n",
    "    print \"Selected windows\"\n",
    "    print \"info for windows\"\n",
    "else:\n",
    "    print \"wrong option\"\n",
    "print \"other statemtnd in program \"\n",
    "print \"program ended\""
   ]
  },
  {
   "cell_type": "code",
   "execution_count": 7,
   "metadata": {
    "collapsed": false
   },
   "outputs": [
    {
     "name": "stdout",
     "output_type": "stream",
     "text": [
      "Mobile os:\n",
      "\t1.Android\n",
      "\t2.ios\n",
      "\t3.windows\n",
      "enter an option:4\n",
      "wrong option\n",
      "other statemtnd in program \n",
      "program ended\n"
     ]
    }
   ],
   "source": [
    "print \"Mobile os:\\n\\t1.Android\\n\\t2.ios\\n\\t3.windows\"\n",
    "opt=raw_input(\"enter an option:\")\n",
    "if opt==\"1\":\n",
    "    print \"Selected andriod\"\n",
    "    print \"info for android\"\n",
    "if opt==\"2\":\n",
    "    print \"Selected ios\"\n",
    "    print \"info for ios\"\n",
    "if opt==\"3\":\n",
    "    print \"Selected windows\"\n",
    "    print \"info for windows\"\n",
    "else:\n",
    "    print \"wrong option\"\n",
    "print \"other statemtnd in program \"\n",
    "print \"program ended\""
   ]
  },
  {
   "cell_type": "code",
   "execution_count": 8,
   "metadata": {
    "collapsed": false
   },
   "outputs": [
    {
     "name": "stdout",
     "output_type": "stream",
     "text": [
      "Mobile os:\n",
      "\t1.Android\n",
      "\t2.ios\n",
      "\t3.windows\n",
      "enter an option:1\n",
      "Selected andriod\n",
      "info for android\n",
      "wrong option\n",
      "other statemtnd in program \n",
      "program ended\n"
     ]
    }
   ],
   "source": [
    "print \"Mobile os:\\n\\t1.Android\\n\\t2.ios\\n\\t3.windows\"\n",
    "opt=raw_input(\"enter an option:\")\n",
    "if opt==\"1\":\n",
    "    print \"Selected andriod\"\n",
    "    print \"info for android\"\n",
    "if opt==\"2\":\n",
    "    print \"Selected ios\"\n",
    "    print \"info for ios\"\n",
    "if opt==\"3\":\n",
    "    print \"Selected windows\"\n",
    "    print \"info for windows\"\n",
    "else:\n",
    "    print \"wrong option\"\n",
    "print \"other statemtnd in program \"\n",
    "print \"program ended\""
   ]
  },
  {
   "cell_type": "code",
   "execution_count": 9,
   "metadata": {
    "collapsed": false
   },
   "outputs": [
    {
     "name": "stdout",
     "output_type": "stream",
     "text": [
      "Mobile os:\n",
      "\t1.Android\n",
      "\t2.ios\n",
      "\t3.windows\n",
      "enter an option:2\n",
      "Selected ios\n",
      "info for ios\n",
      "other statemtnd in program \n",
      "program ended\n"
     ]
    }
   ],
   "source": [
    "print \"Mobile os:\\n\\t1.Android\\n\\t2.ios\\n\\t3.windows\"\n",
    "opt=raw_input(\"enter an option:\")\n",
    "if opt==\"1\":\n",
    "    print \"Selected andriod\"\n",
    "    print \"info for android\"\n",
    "elif opt==\"2\":\n",
    "    print \"Selected ios\"\n",
    "    print \"info for ios\"\n",
    "elif opt==\"3\":\n",
    "    print \"Selected windows\"\n",
    "    print \"info for windows\"\n",
    "else:\n",
    "    print \"wrong option\"\n",
    "print \"other statemtnd in program \"\n",
    "print \"program ended\""
   ]
  },
  {
   "cell_type": "code",
   "execution_count": null,
   "metadata": {
    "collapsed": true
   },
   "outputs": [],
   "source": [
    "print \"program started\"\n",
    "i=0\n",
    "while i<10:\n",
    "    print \"iteration started\"\n",
    "    print i\n",
    "    print \"iteration ended\"\n",
    "print \"other statements in program\"\n",
    "print \"program eded\""
   ]
  },
  {
   "cell_type": "code",
   "execution_count": 10,
   "metadata": {
    "collapsed": false
   },
   "outputs": [
    {
     "name": "stdout",
     "output_type": "stream",
     "text": [
      "program started\n",
      "iteration started\n",
      "i= 0\n",
      "iteration ended\n",
      "iteration started\n",
      "i= 1\n",
      "iteration ended\n",
      "iteration started\n",
      "i= 2\n",
      "iteration ended\n",
      "other statements in program\n",
      "program eded\n"
     ]
    }
   ],
   "source": [
    "print \"program started\"\n",
    "i=0\n",
    "while i<3:\n",
    "    print \"iteration started\"\n",
    "    print \"i=\",i\n",
    "    print \"iteration ended\"\n",
    "    i=i+1\n",
    "print \"other statements in program\"\n",
    "print \"program eded\""
   ]
  },
  {
   "cell_type": "code",
   "execution_count": null,
   "metadata": {
    "collapsed": true
   },
   "outputs": [],
   "source": [
    "print \"program started\"\n",
    "i=0\n",
    "while i<3:\n",
    "    print \"iteration started\"\n",
    "    print \"i=\",i\n",
    "    print \"iteration ended\"\n",
    "i=i+1\n",
    "print \"other statements in program\"\n",
    "print \"program eded\""
   ]
  },
  {
   "cell_type": "code",
   "execution_count": 13,
   "metadata": {
    "collapsed": false
   },
   "outputs": [
    {
     "name": "stdout",
     "output_type": "stream",
     "text": [
      "program started\n",
      "iteration started\n",
      "i= a\n",
      "iteration ended\n",
      "iteration started\n",
      "i= b\n",
      "iteration ended\n",
      "iteration started\n",
      "i= c\n",
      "iteration ended\n",
      "other statements in program\n",
      "program eded\n"
     ]
    }
   ],
   "source": [
    "print \"program started\"\n",
    "for i in \"abc\":\n",
    "    print \"iteration started\"\n",
    "    print \"i=\",i\n",
    "    print \"iteration ended\"\n",
    "print \"other statements in program\"\n",
    "print \"program eded\""
   ]
  },
  {
   "cell_type": "code",
   "execution_count": 11,
   "metadata": {
    "collapsed": false
   },
   "outputs": [
    {
     "data": {
      "text/plain": [
       "True"
      ]
     },
     "execution_count": 11,
     "metadata": {},
     "output_type": "execute_result"
    }
   ],
   "source": [
    "\"python\" in \"python programn\""
   ]
  },
  {
   "cell_type": "code",
   "execution_count": 14,
   "metadata": {
    "collapsed": false
   },
   "outputs": [
    {
     "name": "stdout",
     "output_type": "stream",
     "text": [
      "1\n",
      "2\n",
      "3\n"
     ]
    }
   ],
   "source": [
    "for i in \"123\":\n",
    "    print i"
   ]
  },
  {
   "cell_type": "code",
   "execution_count": 15,
   "metadata": {
    "collapsed": false
   },
   "outputs": [
    {
     "ename": "TypeError",
     "evalue": "'int' object is not iterable",
     "output_type": "error",
     "traceback": [
      "\u001b[0;31m---------------------------------------------------------------------------\u001b[0m",
      "\u001b[0;31mTypeError\u001b[0m                                 Traceback (most recent call last)",
      "\u001b[0;32m<ipython-input-15-ac4b244ebd2f>\u001b[0m in \u001b[0;36m<module>\u001b[0;34m()\u001b[0m\n\u001b[0;32m----> 1\u001b[0;31m \u001b[0;32mfor\u001b[0m \u001b[0mi\u001b[0m \u001b[0;32min\u001b[0m \u001b[0;36m123\u001b[0m\u001b[0;34m:\u001b[0m\u001b[0;34m\u001b[0m\u001b[0m\n\u001b[0m\u001b[1;32m      2\u001b[0m     \u001b[0;32mprint\u001b[0m \u001b[0mi\u001b[0m\u001b[0;34m\u001b[0m\u001b[0m\n",
      "\u001b[0;31mTypeError\u001b[0m: 'int' object is not iterable"
     ]
    }
   ],
   "source": [
    "for i in 123:\n",
    "    print i"
   ]
  },
  {
   "cell_type": "code",
   "execution_count": 16,
   "metadata": {
    "collapsed": false
   },
   "outputs": [
    {
     "name": "stdout",
     "output_type": "stream",
     "text": [
      "program started\n",
      "iteration started\n",
      "i= c\n",
      "iteration ended\n",
      "iteration started\n",
      "i= cpp\n",
      "iteration ended\n",
      "iteration started\n",
      "i= php\n",
      "iteration ended\n",
      "iteration started\n",
      "i= python\n",
      "iteration ended\n",
      "other statements in program\n",
      "program eded\n"
     ]
    }
   ],
   "source": [
    "print \"program started\"\n",
    "for i in ['c','cpp','php','python']:\n",
    "    print \"iteration started\"\n",
    "    print \"i=\",i\n",
    "    print \"iteration ended\"\n",
    "print \"other statements in program\"\n",
    "print \"program eded\""
   ]
  },
  {
   "cell_type": "code",
   "execution_count": 17,
   "metadata": {
    "collapsed": false
   },
   "outputs": [
    {
     "ename": "TypeError",
     "evalue": "'float' object is not iterable",
     "output_type": "error",
     "traceback": [
      "\u001b[0;31m---------------------------------------------------------------------------\u001b[0m",
      "\u001b[0;31mTypeError\u001b[0m                                 Traceback (most recent call last)",
      "\u001b[0;32m<ipython-input-17-89d7b760c2dd>\u001b[0m in \u001b[0;36m<module>\u001b[0;34m()\u001b[0m\n\u001b[0;32m----> 1\u001b[0;31m \u001b[0;32mfor\u001b[0m \u001b[0mi\u001b[0m \u001b[0;32min\u001b[0m \u001b[0;36m1.23\u001b[0m\u001b[0;34m:\u001b[0m\u001b[0;34m\u001b[0m\u001b[0m\n\u001b[0m\u001b[1;32m      2\u001b[0m     \u001b[0;32mprint\u001b[0m \u001b[0mi\u001b[0m\u001b[0;34m\u001b[0m\u001b[0m\n",
      "\u001b[0;31mTypeError\u001b[0m: 'float' object is not iterable"
     ]
    }
   ],
   "source": [
    "for i in 1.23:\n",
    "    print i"
   ]
  },
  {
   "cell_type": "code",
   "execution_count": 18,
   "metadata": {
    "collapsed": false
   },
   "outputs": [
    {
     "ename": "TypeError",
     "evalue": "'complex' object is not iterable",
     "output_type": "error",
     "traceback": [
      "\u001b[0;31m---------------------------------------------------------------------------\u001b[0m",
      "\u001b[0;31mTypeError\u001b[0m                                 Traceback (most recent call last)",
      "\u001b[0;32m<ipython-input-18-8aadcf395034>\u001b[0m in \u001b[0;36m<module>\u001b[0;34m()\u001b[0m\n\u001b[0;32m----> 1\u001b[0;31m \u001b[0;32mfor\u001b[0m \u001b[0mi\u001b[0m  \u001b[0;32min\u001b[0m \u001b[0;36m1\u001b[0m\u001b[0;34m+\u001b[0m\u001b[0;36m2j\u001b[0m\u001b[0;34m:\u001b[0m\u001b[0;34m\u001b[0m\u001b[0m\n\u001b[0m\u001b[1;32m      2\u001b[0m     \u001b[0;32mprint\u001b[0m \u001b[0mi\u001b[0m\u001b[0;34m\u001b[0m\u001b[0m\n",
      "\u001b[0;31mTypeError\u001b[0m: 'complex' object is not iterable"
     ]
    }
   ],
   "source": [
    "for i  in 1+2j:\n",
    "    print i"
   ]
  },
  {
   "cell_type": "code",
   "execution_count": 19,
   "metadata": {
    "collapsed": false
   },
   "outputs": [
    {
     "ename": "TypeError",
     "evalue": "'NoneType' object is not iterable",
     "output_type": "error",
     "traceback": [
      "\u001b[0;31m---------------------------------------------------------------------------\u001b[0m",
      "\u001b[0;31mTypeError\u001b[0m                                 Traceback (most recent call last)",
      "\u001b[0;32m<ipython-input-19-14b074aa601a>\u001b[0m in \u001b[0;36m<module>\u001b[0;34m()\u001b[0m\n\u001b[0;32m----> 1\u001b[0;31m \u001b[0;32mfor\u001b[0m \u001b[0mi\u001b[0m \u001b[0;32min\u001b[0m \u001b[0mNone\u001b[0m\u001b[0;34m:\u001b[0m\u001b[0;34m\u001b[0m\u001b[0m\n\u001b[0m\u001b[1;32m      2\u001b[0m     \u001b[0;32mprint\u001b[0m \u001b[0mi\u001b[0m\u001b[0;34m\u001b[0m\u001b[0m\n",
      "\u001b[0;31mTypeError\u001b[0m: 'NoneType' object is not iterable"
     ]
    }
   ],
   "source": [
    "for i in None:\n",
    "    print i"
   ]
  },
  {
   "cell_type": "code",
   "execution_count": 20,
   "metadata": {
    "collapsed": false
   },
   "outputs": [
    {
     "ename": "TypeError",
     "evalue": "'bool' object is not iterable",
     "output_type": "error",
     "traceback": [
      "\u001b[0;31m---------------------------------------------------------------------------\u001b[0m",
      "\u001b[0;31mTypeError\u001b[0m                                 Traceback (most recent call last)",
      "\u001b[0;32m<ipython-input-20-a05ebf73e86d>\u001b[0m in \u001b[0;36m<module>\u001b[0;34m()\u001b[0m\n\u001b[0;32m----> 1\u001b[0;31m \u001b[0;32mfor\u001b[0m \u001b[0mi\u001b[0m \u001b[0;32min\u001b[0m \u001b[0mTrue\u001b[0m\u001b[0;34m:\u001b[0m\u001b[0;34m\u001b[0m\u001b[0m\n\u001b[0m\u001b[1;32m      2\u001b[0m     \u001b[0;32mprint\u001b[0m \u001b[0mi\u001b[0m\u001b[0;34m\u001b[0m\u001b[0m\n",
      "\u001b[0;31mTypeError\u001b[0m: 'bool' object is not iterable"
     ]
    }
   ],
   "source": [
    "for i in True:\n",
    "    print i"
   ]
  },
  {
   "cell_type": "code",
   "execution_count": 21,
   "metadata": {
    "collapsed": false
   },
   "outputs": [
    {
     "name": "stdout",
     "output_type": "stream",
     "text": [
      "program started\n",
      "Enter a string to iterate: abc\n",
      "iteration started\n",
      "i= a\n",
      "iteration ended\n",
      "iteration started\n",
      "i= b\n",
      "iteration ended\n",
      "iteration started\n",
      "i= c\n",
      "iteration ended\n",
      "other statements in program\n",
      "program eded\n"
     ]
    }
   ],
   "source": [
    "# lopping control statements\n",
    "# break and continue\n",
    "print \"program started\"\n",
    "s=raw_input(\"Enter a string to iterate: \")\n",
    "for i in s:\n",
    "    print \"iteration started\"\n",
    "    print \"i=\",i\n",
    "    print \"iteration ended\"\n",
    "print \"other statements in program\"\n",
    "print \"program eded\""
   ]
  },
  {
   "cell_type": "code",
   "execution_count": 22,
   "metadata": {
    "collapsed": false
   },
   "outputs": [
    {
     "name": "stdout",
     "output_type": "stream",
     "text": [
      "program started\n",
      "Enter a string to iterate: python\n",
      "iteration started\n",
      "i= p\n",
      "iteration ended\n",
      "iteration started\n",
      "i= y\n",
      "iteration ended\n",
      "iteration started\n",
      "i= t\n",
      "iteration ended\n",
      "iteration started\n",
      "i= h\n",
      "iteration ended\n",
      "iteration started\n",
      "i= o\n",
      "iteration ended\n",
      "iteration started\n",
      "i= n\n",
      "iteration ended\n",
      "other statements in program\n",
      "program eded\n"
     ]
    }
   ],
   "source": [
    "# lopping control statements\n",
    "# break and continue\n",
    "print \"program started\"\n",
    "s=raw_input(\"Enter a string to iterate: \")\n",
    "for i in s:\n",
    "    print \"iteration started\"\n",
    "    print \"i=\",i\n",
    "    print \"iteration ended\"\n",
    "print \"other statements in program\"\n",
    "print \"program eded\""
   ]
  },
  {
   "cell_type": "code",
   "execution_count": 23,
   "metadata": {
    "collapsed": false
   },
   "outputs": [
    {
     "name": "stdout",
     "output_type": "stream",
     "text": [
      "program started\n",
      "Enter a string to iterate: a b c\n",
      "iteration started\n",
      "i= a\n",
      "iteration ended\n",
      "iteration started\n",
      "other statements in program\n",
      "program eded\n"
     ]
    }
   ],
   "source": [
    "# lopping control statements\n",
    "# break and continue\n",
    "print \"program started\"\n",
    "s=raw_input(\"Enter a string to iterate: \")\n",
    "for i in s:\n",
    "    print \"iteration started\"\n",
    "    if i==\" \":\n",
    "        break\n",
    "    print \"i=\",i\n",
    "    print \"iteration ended\"\n",
    "print \"other statements in program\"\n",
    "print \"program eded\""
   ]
  },
  {
   "cell_type": "code",
   "execution_count": 24,
   "metadata": {
    "collapsed": false
   },
   "outputs": [
    {
     "name": "stdout",
     "output_type": "stream",
     "text": [
      "program started\n",
      "i outside loop: 1\n",
      "other statements in program\n",
      "program eded\n"
     ]
    }
   ],
   "source": [
    "# lopping control statements\n",
    "# break and continue\n",
    "print \"program started\"\n",
    "i=0\n",
    "while i<10:\n",
    "    i=i+1\n",
    "    break\n",
    "    print \"i value:\",i\n",
    "print \"i outside loop:\",i\n",
    "print \"other statements in program\"\n",
    "print \"program eded\""
   ]
  },
  {
   "cell_type": "code",
   "execution_count": 25,
   "metadata": {
    "collapsed": false
   },
   "outputs": [
    {
     "name": "stdout",
     "output_type": "stream",
     "text": [
      "program started\n",
      "i outside loop: 0\n",
      "other statements in program\n",
      "program eded\n"
     ]
    }
   ],
   "source": [
    "# lopping control statements\n",
    "# break and continue\n",
    "print \"program started\"\n",
    "i=0\n",
    "while i<10:\n",
    "    break\n",
    "    i=i+1\n",
    "    print \"i in inside loop:\",i\n",
    "print \"i outside loop:\",i\n",
    "print \"other statements in program\"\n",
    "print \"program eded\""
   ]
  },
  {
   "cell_type": "code",
   "execution_count": 26,
   "metadata": {
    "collapsed": false
   },
   "outputs": [
    {
     "name": "stdout",
     "output_type": "stream",
     "text": [
      "program started\n",
      "i outside loop: 0\n",
      "other statements in program\n",
      "program eded\n"
     ]
    }
   ],
   "source": [
    "# lopping control statements\n",
    "# break and continue\n",
    "print \"program started\"\n",
    "i=0\n",
    "while i>10:\n",
    "    print i\n",
    "print \"i outside loop:\",i\n",
    "print \"other statements in program\"\n",
    "print \"program eded\""
   ]
  },
  {
   "cell_type": "code",
   "execution_count": 27,
   "metadata": {
    "collapsed": false
   },
   "outputs": [
    {
     "ename": "SyntaxError",
     "evalue": "'break' outside loop (<ipython-input-27-081615c621dd>, line 2)",
     "output_type": "error",
     "traceback": [
      "\u001b[0;36m  File \u001b[0;32m\"<ipython-input-27-081615c621dd>\"\u001b[0;36m, line \u001b[0;32m2\u001b[0m\n\u001b[0;31m    break\u001b[0m\n\u001b[0;31mSyntaxError\u001b[0m\u001b[0;31m:\u001b[0m 'break' outside loop\n"
     ]
    }
   ],
   "source": [
    "if 10<20:\n",
    "    break"
   ]
  },
  {
   "cell_type": "code",
   "execution_count": 29,
   "metadata": {
    "collapsed": false
   },
   "outputs": [
    {
     "name": "stdout",
     "output_type": "stream",
     "text": [
      "program started\n",
      "Enter a string to iterate: a b c\n",
      "iteration started\n",
      "i= a\n",
      "iteration ended\n",
      "iteration started\n",
      "iteration ended\n",
      "iteration started\n",
      "i= b\n",
      "iteration ended\n",
      "iteration started\n",
      "iteration ended\n",
      "iteration started\n",
      "i= c\n",
      "iteration ended\n",
      "other statements in program\n",
      "program eded\n"
     ]
    }
   ],
   "source": [
    "# continue\n",
    "# lopping control statements\n",
    "# break and continue\n",
    "print \"program started\"\n",
    "s=raw_input(\"Enter a string to iterate: \")\n",
    "for i in s:\n",
    "    print \"iteration started\"\n",
    "    if i!=\" \":\n",
    "        print \"i=\",i\n",
    "    print \"iteration ended\"\n",
    "print \"other statements in program\"\n",
    "print \"program eded\""
   ]
  },
  {
   "cell_type": "code",
   "execution_count": 30,
   "metadata": {
    "collapsed": false
   },
   "outputs": [
    {
     "name": "stdout",
     "output_type": "stream",
     "text": [
      "program started\n",
      "Enter a string to iterate: a b c\n",
      "iteration started\n",
      "i= a\n",
      "iteration ended\n",
      "iteration started\n",
      "iteration started\n",
      "i= b\n",
      "iteration ended\n",
      "iteration started\n",
      "iteration started\n",
      "i= c\n",
      "iteration ended\n",
      "other statements in program\n",
      "program eded\n"
     ]
    }
   ],
   "source": [
    "# continue\n",
    "# lopping control statements\n",
    "# break and continue\n",
    "print \"program started\"\n",
    "s=raw_input(\"Enter a string to iterate: \")\n",
    "for i in s:\n",
    "    print \"iteration started\"\n",
    "    if i==\" \":\n",
    "        continue\n",
    "    print \"i=\",i  \n",
    "    print \"iteration ended\"\n",
    "print \"other statements in program\"\n",
    "print \"program eded\""
   ]
  },
  {
   "cell_type": "code",
   "execution_count": 31,
   "metadata": {
    "collapsed": false
   },
   "outputs": [
    {
     "name": "stdout",
     "output_type": "stream",
     "text": [
      "program started\n",
      "i out side loop: 10\n",
      "other statements in program\n",
      "program eded\n"
     ]
    }
   ],
   "source": [
    "# continue\n",
    "# lopping control statements\n",
    "# break and continue\n",
    "print \"program started\"\n",
    "i=0\n",
    "while i<10:\n",
    "    i=i+1\n",
    "    continue\n",
    "    print \"i inside loop:\",i\n",
    "print \"i out side loop:\",i\n",
    "print \"other statements in program\"\n",
    "print \"program eded\""
   ]
  },
  {
   "cell_type": "code",
   "execution_count": null,
   "metadata": {
    "collapsed": true
   },
   "outputs": [],
   "source": [
    "# continue\n",
    "# lopping control statements\n",
    "# break and continue\n",
    "print \"program started\"\n",
    "i=0\n",
    "while i<10:\n",
    "    continue\n",
    "    i=i+1\n",
    "    print \"i inside loop:\",i\n",
    "print \"i out side loop:\",i\n",
    "print \"other statements in program\"\n",
    "print \"program eded\""
   ]
  },
  {
   "cell_type": "code",
   "execution_count": 32,
   "metadata": {
    "collapsed": false
   },
   "outputs": [
    {
     "name": "stdout",
     "output_type": "stream",
     "text": [
      "p\n",
      "p\n"
     ]
    }
   ],
   "source": [
    "for i in \"python\":\n",
    "    print i\n",
    "    break\n",
    "print i"
   ]
  },
  {
   "cell_type": "code",
   "execution_count": 33,
   "metadata": {
    "collapsed": false
   },
   "outputs": [
    {
     "name": "stdout",
     "output_type": "stream",
     "text": [
      "p\n",
      "p\n"
     ]
    }
   ],
   "source": [
    "i=10\n",
    "for i in \"python\":\n",
    "    print i\n",
    "    break\n",
    "print i"
   ]
  },
  {
   "cell_type": "code",
   "execution_count": 34,
   "metadata": {
    "collapsed": false
   },
   "outputs": [
    {
     "name": "stdout",
     "output_type": "stream",
     "text": [
      "p\n"
     ]
    }
   ],
   "source": [
    "i=10\n",
    "for i in \"python\":\n",
    "    break\n",
    "    print i\n",
    "    break\n",
    "print i"
   ]
  },
  {
   "cell_type": "code",
   "execution_count": 35,
   "metadata": {
    "collapsed": false
   },
   "outputs": [
    {
     "name": "stdout",
     "output_type": "stream",
     "text": [
      "p\n"
     ]
    }
   ],
   "source": [
    "i=10\n",
    "for i in \"python\":\n",
    "    break\n",
    "    print i\n",
    "print i"
   ]
  },
  {
   "cell_type": "code",
   "execution_count": 36,
   "metadata": {
    "collapsed": false
   },
   "outputs": [
    {
     "name": "stdout",
     "output_type": "stream",
     "text": [
      "n\n"
     ]
    }
   ],
   "source": [
    "i=10\n",
    "for i in \"python\":\n",
    "    continue\n",
    "    print i\n",
    "print i"
   ]
  },
  {
   "cell_type": "code",
   "execution_count": 37,
   "metadata": {
    "collapsed": false
   },
   "outputs": [
    {
     "name": "stdout",
     "output_type": "stream",
     "text": [
      "20\n"
     ]
    }
   ],
   "source": [
    "def fun(*a):\n",
    "    return max(a)\n",
    "print fun(10,20,3,4,5,6)"
   ]
  },
  {
   "cell_type": "code",
   "execution_count": 38,
   "metadata": {
    "collapsed": false
   },
   "outputs": [
    {
     "name": "stdout",
     "output_type": "stream",
     "text": [
      "20\n"
     ]
    }
   ],
   "source": [
    "def fun(*a):\n",
    "    max_value=a[0]\n",
    "    for i in a[1:]:\n",
    "        if i>max_value:\n",
    "            max_value=i\n",
    "    return max_value\n",
    "    \n",
    "print fun(10,20,3,4,5,6)"
   ]
  },
  {
   "cell_type": "code",
   "execution_count": null,
   "metadata": {
    "collapsed": true
   },
   "outputs": [],
   "source": []
  }
 ],
 "metadata": {
  "kernelspec": {
   "display_name": "Python 2",
   "language": "python",
   "name": "python2"
  },
  "language_info": {
   "codemirror_mode": {
    "name": "ipython",
    "version": 2
   },
   "file_extension": ".py",
   "mimetype": "text/x-python",
   "name": "python",
   "nbconvert_exporter": "python",
   "pygments_lexer": "ipython2",
   "version": "2.7.13"
  }
 },
 "nbformat": 4,
 "nbformat_minor": 2
}
