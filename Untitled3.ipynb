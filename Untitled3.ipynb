{
 "cells": [
  {
   "cell_type": "code",
   "execution_count": 1,
   "metadata": {
    "collapsed": false
   },
   "outputs": [
    {
     "name": "stdout",
     "output_type": "stream",
     "text": [
      "('Anil Kumar', 25)\n"
     ]
    }
   ],
   "source": [
    "class Emp:\n",
    "    def __init__(self,name,age):\n",
    "        self.name=name\n",
    "        self.age=age\n",
    "    def get_data(self):\n",
    "        return self.name, self.age\n",
    "ashok = Emp(\"Ashok Kumar\", 23)\n",
    "anil = Emp(\"Anil Kumar\",25)\n",
    "print anil.get_data()"
   ]
  },
  {
   "cell_type": "code",
   "execution_count": 2,
   "metadata": {
    "collapsed": true
   },
   "outputs": [],
   "source": [
    "class c1:\n",
    "    def op1(self):\n",
    "        print \"op1 in c1\"\n",
    "class c2:\n",
    "    def op2(self):\n",
    "        print \"op2 in c2\"\n",
    "class c3:\n",
    "    def operations(self):\n",
    "        pass\n",
    "o3=c3()\n",
    "o3.operations()"
   ]
  },
  {
   "cell_type": "code",
   "execution_count": 3,
   "metadata": {
    "collapsed": false
   },
   "outputs": [
    {
     "name": "stdout",
     "output_type": "stream",
     "text": [
      "op1 in c1\n",
      "op2 in c2\n"
     ]
    }
   ],
   "source": [
    "class c1:\n",
    "    def op1(self):\n",
    "        print \"op1 in c1\"\n",
    "class c2:\n",
    "    def op2(self):\n",
    "        print \"op2 in c2\"\n",
    "class c3:\n",
    "    def operations(self):\n",
    "        o1=c1()\n",
    "        o2=c2()\n",
    "        o1.op1()\n",
    "        o2.op2()\n",
    "o3=c3()\n",
    "o3.operations()"
   ]
  },
  {
   "cell_type": "code",
   "execution_count": 4,
   "metadata": {
    "collapsed": false
   },
   "outputs": [
    {
     "ename": "TypeError",
     "evalue": "unbound method op1() must be called with c1 instance as first argument (got c3 instance instead)",
     "output_type": "error",
     "traceback": [
      "\u001b[0;31m---------------------------------------------------------------------------\u001b[0m",
      "\u001b[0;31mTypeError\u001b[0m                                 Traceback (most recent call last)",
      "\u001b[0;32m<ipython-input-4-97e28b6956ba>\u001b[0m in \u001b[0;36m<module>\u001b[0;34m()\u001b[0m\n\u001b[1;32m     10\u001b[0m         \u001b[0mc2\u001b[0m\u001b[0;34m.\u001b[0m\u001b[0mop2\u001b[0m\u001b[0;34m(\u001b[0m\u001b[0mself\u001b[0m\u001b[0;34m)\u001b[0m\u001b[0;34m\u001b[0m\u001b[0m\n\u001b[1;32m     11\u001b[0m \u001b[0mo3\u001b[0m\u001b[0;34m=\u001b[0m\u001b[0mc3\u001b[0m\u001b[0;34m(\u001b[0m\u001b[0;34m)\u001b[0m\u001b[0;34m\u001b[0m\u001b[0m\n\u001b[0;32m---> 12\u001b[0;31m \u001b[0mo3\u001b[0m\u001b[0;34m.\u001b[0m\u001b[0moperations\u001b[0m\u001b[0;34m(\u001b[0m\u001b[0;34m)\u001b[0m\u001b[0;34m\u001b[0m\u001b[0m\n\u001b[0m",
      "\u001b[0;32m<ipython-input-4-97e28b6956ba>\u001b[0m in \u001b[0;36moperations\u001b[0;34m(self)\u001b[0m\n\u001b[1;32m      7\u001b[0m \u001b[0;32mclass\u001b[0m \u001b[0mc3\u001b[0m\u001b[0;34m:\u001b[0m\u001b[0;34m\u001b[0m\u001b[0m\n\u001b[1;32m      8\u001b[0m     \u001b[0;32mdef\u001b[0m \u001b[0moperations\u001b[0m\u001b[0;34m(\u001b[0m\u001b[0mself\u001b[0m\u001b[0;34m)\u001b[0m\u001b[0;34m:\u001b[0m\u001b[0;34m\u001b[0m\u001b[0m\n\u001b[0;32m----> 9\u001b[0;31m         \u001b[0mc1\u001b[0m\u001b[0;34m.\u001b[0m\u001b[0mop1\u001b[0m\u001b[0;34m(\u001b[0m\u001b[0mself\u001b[0m\u001b[0;34m)\u001b[0m\u001b[0;34m\u001b[0m\u001b[0m\n\u001b[0m\u001b[1;32m     10\u001b[0m         \u001b[0mc2\u001b[0m\u001b[0;34m.\u001b[0m\u001b[0mop2\u001b[0m\u001b[0;34m(\u001b[0m\u001b[0mself\u001b[0m\u001b[0;34m)\u001b[0m\u001b[0;34m\u001b[0m\u001b[0m\n\u001b[1;32m     11\u001b[0m \u001b[0mo3\u001b[0m\u001b[0;34m=\u001b[0m\u001b[0mc3\u001b[0m\u001b[0;34m(\u001b[0m\u001b[0;34m)\u001b[0m\u001b[0;34m\u001b[0m\u001b[0m\n",
      "\u001b[0;31mTypeError\u001b[0m: unbound method op1() must be called with c1 instance as first argument (got c3 instance instead)"
     ]
    }
   ],
   "source": [
    "class c1:\n",
    "    def op1(self):\n",
    "        print \"op1 in c1\"\n",
    "class c2:\n",
    "    def op2(self):\n",
    "        print \"op2 in c2\"\n",
    "class c3:\n",
    "    def operations(self):\n",
    "        c1.op1(self)\n",
    "        c2.op2(self)\n",
    "o3=c3()\n",
    "o3.operations()"
   ]
  },
  {
   "cell_type": "code",
   "execution_count": 5,
   "metadata": {
    "collapsed": false
   },
   "outputs": [
    {
     "ename": "AttributeError",
     "evalue": "c3 instance has no attribute 'op1'",
     "output_type": "error",
     "traceback": [
      "\u001b[0;31m---------------------------------------------------------------------------\u001b[0m",
      "\u001b[0;31mAttributeError\u001b[0m                            Traceback (most recent call last)",
      "\u001b[0;32m<ipython-input-5-95d279af5b88>\u001b[0m in \u001b[0;36m<module>\u001b[0;34m()\u001b[0m\n\u001b[1;32m     10\u001b[0m         \u001b[0mself\u001b[0m\u001b[0;34m.\u001b[0m\u001b[0mop2\u001b[0m\u001b[0;34m(\u001b[0m\u001b[0;34m)\u001b[0m\u001b[0;34m\u001b[0m\u001b[0m\n\u001b[1;32m     11\u001b[0m \u001b[0mo3\u001b[0m\u001b[0;34m=\u001b[0m\u001b[0mc3\u001b[0m\u001b[0;34m(\u001b[0m\u001b[0;34m)\u001b[0m\u001b[0;34m\u001b[0m\u001b[0m\n\u001b[0;32m---> 12\u001b[0;31m \u001b[0mo3\u001b[0m\u001b[0;34m.\u001b[0m\u001b[0moperations\u001b[0m\u001b[0;34m(\u001b[0m\u001b[0;34m)\u001b[0m\u001b[0;34m\u001b[0m\u001b[0m\n\u001b[0m",
      "\u001b[0;32m<ipython-input-5-95d279af5b88>\u001b[0m in \u001b[0;36moperations\u001b[0;34m(self)\u001b[0m\n\u001b[1;32m      7\u001b[0m \u001b[0;32mclass\u001b[0m \u001b[0mc3\u001b[0m\u001b[0;34m:\u001b[0m\u001b[0;34m\u001b[0m\u001b[0m\n\u001b[1;32m      8\u001b[0m     \u001b[0;32mdef\u001b[0m \u001b[0moperations\u001b[0m\u001b[0;34m(\u001b[0m\u001b[0mself\u001b[0m\u001b[0;34m)\u001b[0m\u001b[0;34m:\u001b[0m\u001b[0;34m\u001b[0m\u001b[0m\n\u001b[0;32m----> 9\u001b[0;31m         \u001b[0mself\u001b[0m\u001b[0;34m.\u001b[0m\u001b[0mop1\u001b[0m\u001b[0;34m(\u001b[0m\u001b[0;34m)\u001b[0m\u001b[0;34m\u001b[0m\u001b[0m\n\u001b[0m\u001b[1;32m     10\u001b[0m         \u001b[0mself\u001b[0m\u001b[0;34m.\u001b[0m\u001b[0mop2\u001b[0m\u001b[0;34m(\u001b[0m\u001b[0;34m)\u001b[0m\u001b[0;34m\u001b[0m\u001b[0m\n\u001b[1;32m     11\u001b[0m \u001b[0mo3\u001b[0m\u001b[0;34m=\u001b[0m\u001b[0mc3\u001b[0m\u001b[0;34m(\u001b[0m\u001b[0;34m)\u001b[0m\u001b[0;34m\u001b[0m\u001b[0m\n",
      "\u001b[0;31mAttributeError\u001b[0m: c3 instance has no attribute 'op1'"
     ]
    }
   ],
   "source": [
    "class c1:\n",
    "    def op1(self):\n",
    "        print \"op1 in c1\"\n",
    "class c2:\n",
    "    def op2(self):\n",
    "        print \"op2 in c2\"\n",
    "class c3:\n",
    "    def operations(self):\n",
    "        self.op1()\n",
    "        self.op2()\n",
    "o3=c3()\n",
    "o3.operations()"
   ]
  },
  {
   "cell_type": "code",
   "execution_count": 6,
   "metadata": {
    "collapsed": false
   },
   "outputs": [
    {
     "name": "stdout",
     "output_type": "stream",
     "text": [
      "op1 in c1\n",
      "op2 in c2\n"
     ]
    }
   ],
   "source": [
    "class c1:\n",
    "    def op1(self):\n",
    "        print \"op1 in c1\"\n",
    "class c2:\n",
    "    def op2(self):\n",
    "        print \"op2 in c2\"\n",
    "class c3(c1,c2):\n",
    "    def operations(self):\n",
    "        self.op1()\n",
    "        self.op2()\n",
    "o3=c3()\n",
    "o3.operations()"
   ]
  },
  {
   "cell_type": "code",
   "execution_count": 7,
   "metadata": {
    "collapsed": false
   },
   "outputs": [
    {
     "name": "stdout",
     "output_type": "stream",
     "text": [
      "op1 in c3\n",
      "op2 in c2\n"
     ]
    }
   ],
   "source": [
    "class c1:\n",
    "    def op1(self):\n",
    "        print \"op1 in c1\"\n",
    "class c2:\n",
    "    def op2(self):\n",
    "        print \"op2 in c2\"\n",
    "class c3(c1,c2):\n",
    "    def operations(self):\n",
    "        self.op1()\n",
    "        self.op2()\n",
    "    def op1(self):\n",
    "        print \"op1 in c3\"\n",
    "        \n",
    "o3=c3()\n",
    "o3.operations()"
   ]
  },
  {
   "cell_type": "code",
   "execution_count": 8,
   "metadata": {
    "collapsed": false
   },
   "outputs": [
    {
     "name": "stdout",
     "output_type": "stream",
     "text": [
      "op1 in c1\n",
      "op2 in c2\n"
     ]
    }
   ],
   "source": [
    "class c1:\n",
    "    def op1(self):\n",
    "        print \"op1 in c1\"\n",
    "class c2:\n",
    "    def op2(self):\n",
    "        print \"op2 in c2\"\n",
    "class c3(c1,c2):\n",
    "    def operations(self):\n",
    "        try:\n",
    "            c1.op1(self)\n",
    "        except:\n",
    "            self.op1()\n",
    "        self.op2()\n",
    "    \n",
    "        \n",
    "o3=c3()\n",
    "o3.operations()"
   ]
  },
  {
   "cell_type": "code",
   "execution_count": 9,
   "metadata": {
    "collapsed": false
   },
   "outputs": [
    {
     "name": "stdout",
     "output_type": "stream",
     "text": [
      "op1 in c1\n",
      "op2 in c2\n"
     ]
    }
   ],
   "source": [
    "class c1:\n",
    "    def op1(self):\n",
    "        print \"op1 in c1\"\n",
    "class c2:\n",
    "    def op2(self):\n",
    "        print \"op2 in c2\"\n",
    "class c3(c1,c2):\n",
    "    def operations(self):\n",
    "        try:\n",
    "            c1.op1(self)\n",
    "        except:\n",
    "            self.op1()\n",
    "        self.op2()\n",
    "    def op1(self):\n",
    "            print \"op1 in c3\"\n",
    "    \n",
    "        \n",
    "o3=c3()\n",
    "o3.operations()"
   ]
  },
  {
   "cell_type": "code",
   "execution_count": 10,
   "metadata": {
    "collapsed": false
   },
   "outputs": [
    {
     "name": "stdout",
     "output_type": "stream",
     "text": [
      "op1 in c3\n",
      "op2 in c2\n"
     ]
    }
   ],
   "source": [
    "class c1:\n",
    "    pass\n",
    "\n",
    "class c2:\n",
    "    def op2(self):\n",
    "        print \"op2 in c2\"\n",
    "class c3(c1,c2):\n",
    "    def operations(self):\n",
    "        try:\n",
    "            c1.op1(self)\n",
    "        except:\n",
    "            self.op1()\n",
    "        self.op2()\n",
    "    def op1(self):\n",
    "            print \"op1 in c3\"\n",
    "    \n",
    "        \n",
    "o3=c3()\n",
    "o3.operations()"
   ]
  },
  {
   "cell_type": "code",
   "execution_count": 12,
   "metadata": {
    "collapsed": false
   },
   "outputs": [
    {
     "name": "stdout",
     "output_type": "stream",
     "text": [
      "op1 in c3\n",
      "op2 in c2\n",
      "op2 in c2\n"
     ]
    }
   ],
   "source": [
    "class c1:\n",
    "    pass\n",
    "\n",
    "class c2:\n",
    "    def op2(self):\n",
    "        print \"op2 in c2\"\n",
    "class c3(c1,c2):\n",
    "    def operations(self):\n",
    "        try:\n",
    "            c1.op1(self)\n",
    "        except:\n",
    "            self.op1()\n",
    "        self.op2()\n",
    "    def op1(self):\n",
    "            print \"op1 in c3\"\n",
    "    \n",
    "        \n",
    "o3=c3()\n",
    "o3.operations()\n",
    "o3.op2()"
   ]
  },
  {
   "cell_type": "code",
   "execution_count": 13,
   "metadata": {
    "collapsed": false
   },
   "outputs": [
    {
     "ename": "TypeError",
     "evalue": "__init__() takes exactly 3 arguments (1 given)",
     "output_type": "error",
     "traceback": [
      "\u001b[0;31m---------------------------------------------------------------------------\u001b[0m",
      "\u001b[0;31mTypeError\u001b[0m                                 Traceback (most recent call last)",
      "\u001b[0;32m<ipython-input-13-84cd6f71839d>\u001b[0m in \u001b[0;36m<module>\u001b[0;34m()\u001b[0m\n\u001b[1;32m     21\u001b[0m \u001b[0;34m\u001b[0m\u001b[0m\n\u001b[1;32m     22\u001b[0m \u001b[0;34m\u001b[0m\u001b[0m\n\u001b[0;32m---> 23\u001b[0;31m \u001b[0mo3\u001b[0m\u001b[0;34m=\u001b[0m\u001b[0mc3\u001b[0m\u001b[0;34m(\u001b[0m\u001b[0;34m)\u001b[0m\u001b[0;34m\u001b[0m\u001b[0m\n\u001b[0m\u001b[1;32m     24\u001b[0m \u001b[0mo3\u001b[0m\u001b[0;34m.\u001b[0m\u001b[0moperations\u001b[0m\u001b[0;34m(\u001b[0m\u001b[0;34m)\u001b[0m\u001b[0;34m\u001b[0m\u001b[0m\n\u001b[1;32m     25\u001b[0m \u001b[0mo3\u001b[0m\u001b[0;34m.\u001b[0m\u001b[0mop2\u001b[0m\u001b[0;34m(\u001b[0m\u001b[0;34m)\u001b[0m\u001b[0;34m\u001b[0m\u001b[0m\n",
      "\u001b[0;31mTypeError\u001b[0m: __init__() takes exactly 3 arguments (1 given)"
     ]
    }
   ],
   "source": [
    "class c1:\n",
    "    pass\n",
    "\n",
    "class c2:\n",
    "    def op2(self):\n",
    "        print \"op2 in c2\"\n",
    "class c3(c1,c2):\n",
    "    def __init__(self,a,b):\n",
    "        self.a=a\n",
    "        self.b=b\n",
    "        \n",
    "    def operations(self):\n",
    "        print self.a,self.b\n",
    "        try:\n",
    "            c1.op1(self)\n",
    "        except:\n",
    "            self.op1()\n",
    "        self.op2()\n",
    "    def op1(self):\n",
    "            print \"op1 in c3\"\n",
    "    \n",
    "        \n",
    "o3=c3()\n",
    "o3.operations()\n",
    "o3.op2()"
   ]
  },
  {
   "cell_type": "code",
   "execution_count": 14,
   "metadata": {
    "collapsed": false
   },
   "outputs": [
    {
     "name": "stdout",
     "output_type": "stream",
     "text": [
      "10 20\n",
      "op1 in c3\n",
      "op2 in c2\n",
      "op2 in c2\n"
     ]
    }
   ],
   "source": [
    "class c1:\n",
    "    pass\n",
    "\n",
    "class c2:\n",
    "    def op2(self):\n",
    "        print \"op2 in c2\"\n",
    "class c3(c1,c2):\n",
    "    def __init__(self,a,b):\n",
    "        self.a=a\n",
    "        self.b=b\n",
    "        \n",
    "    def operations(self):\n",
    "        print self.a,self.b\n",
    "        try:\n",
    "            c1.op1(self)\n",
    "        except:\n",
    "            self.op1()\n",
    "        self.op2()\n",
    "    def op1(self):\n",
    "            print \"op1 in c3\"\n",
    "    \n",
    "        \n",
    "o3=c3(10,20)\n",
    "o3.operations()\n",
    "o3.op2()"
   ]
  },
  {
   "cell_type": "code",
   "execution_count": 15,
   "metadata": {
    "collapsed": false
   },
   "outputs": [
    {
     "name": "stdout",
     "output_type": "stream",
     "text": [
      "10 20\n",
      "op1 in c3\n",
      "op2 in c2\n",
      "10 20\n",
      "op2 in c2\n",
      "10 20\n"
     ]
    }
   ],
   "source": [
    "class c1:\n",
    "    pass\n",
    "\n",
    "class c2:\n",
    "    def op2(self):\n",
    "        print \"op2 in c2\"\n",
    "        print self.a,self.b\n",
    "class c3(c1,c2):\n",
    "    def __init__(self,a,b):\n",
    "        self.a=a\n",
    "        self.b=b\n",
    "        \n",
    "    def operations(self):\n",
    "        print self.a,self.b\n",
    "        try:\n",
    "            c1.op1(self)\n",
    "        except:\n",
    "            self.op1()\n",
    "        self.op2()\n",
    "    def op1(self):\n",
    "            print \"op1 in c3\"\n",
    "    \n",
    "        \n",
    "o3=c3(10,20)\n",
    "o3.operations()\n",
    "o3.op2()"
   ]
  },
  {
   "cell_type": "code",
   "execution_count": 16,
   "metadata": {
    "collapsed": false
   },
   "outputs": [
    {
     "ename": "TypeError",
     "evalue": "__init__() takes exactly 3 arguments (1 given)",
     "output_type": "error",
     "traceback": [
      "\u001b[0;31m---------------------------------------------------------------------------\u001b[0m",
      "\u001b[0;31mTypeError\u001b[0m                                 Traceback (most recent call last)",
      "\u001b[0;32m<ipython-input-16-faa737924303>\u001b[0m in \u001b[0;36m<module>\u001b[0;34m()\u001b[0m\n\u001b[1;32m     22\u001b[0m \u001b[0;34m\u001b[0m\u001b[0m\n\u001b[1;32m     23\u001b[0m \u001b[0;34m\u001b[0m\u001b[0m\n\u001b[0;32m---> 24\u001b[0;31m \u001b[0mo3\u001b[0m\u001b[0;34m=\u001b[0m\u001b[0mc3\u001b[0m\u001b[0;34m(\u001b[0m\u001b[0;34m)\u001b[0m\u001b[0;34m\u001b[0m\u001b[0m\n\u001b[0m\u001b[1;32m     25\u001b[0m \u001b[0mo3\u001b[0m\u001b[0;34m.\u001b[0m\u001b[0moperations\u001b[0m\u001b[0;34m(\u001b[0m\u001b[0;34m)\u001b[0m\u001b[0;34m\u001b[0m\u001b[0m\n\u001b[1;32m     26\u001b[0m \u001b[0mo3\u001b[0m\u001b[0;34m.\u001b[0m\u001b[0mop2\u001b[0m\u001b[0;34m(\u001b[0m\u001b[0;34m)\u001b[0m\u001b[0;34m\u001b[0m\u001b[0m\n",
      "\u001b[0;31mTypeError\u001b[0m: __init__() takes exactly 3 arguments (1 given)"
     ]
    }
   ],
   "source": [
    "class c1:\n",
    "    pass\n",
    "\n",
    "class c2:\n",
    "    def __init__(self,a,b):\n",
    "        self.a=a\n",
    "        self.b=b\n",
    "        \n",
    "    def op2(self):\n",
    "        print \"op2 in c2\"\n",
    "        print self.a,self.b\n",
    "class c3(c1,c2):    \n",
    "    def operations(self):\n",
    "        print self.a,self.b\n",
    "        try:\n",
    "            c1.op1(self)\n",
    "        except:\n",
    "            self.op1()\n",
    "        self.op2()\n",
    "    def op1(self):\n",
    "            print \"op1 in c3\"\n",
    "    \n",
    "        \n",
    "o3=c3()\n",
    "o3.operations()\n",
    "o3.op2()"
   ]
  },
  {
   "cell_type": "code",
   "execution_count": 17,
   "metadata": {
    "collapsed": false
   },
   "outputs": [
    {
     "name": "stdout",
     "output_type": "stream",
     "text": [
      "10 20\n",
      "op1 in c3\n",
      "op2 in c2\n",
      "10 20\n",
      "op2 in c2\n",
      "10 20\n"
     ]
    }
   ],
   "source": [
    "class c1:\n",
    "    pass\n",
    "\n",
    "class c2:\n",
    "    def __init__(self,a,b):\n",
    "        self.a=a\n",
    "        self.b=b\n",
    "        \n",
    "    def op2(self):\n",
    "        print \"op2 in c2\"\n",
    "        print self.a,self.b\n",
    "class c3(c1,c2):    \n",
    "    def operations(self):\n",
    "        print self.a,self.b\n",
    "        try:\n",
    "            c1.op1(self)\n",
    "        except:\n",
    "            self.op1()\n",
    "        self.op2()\n",
    "    def op1(self):\n",
    "            print \"op1 in c3\"\n",
    "    \n",
    "        \n",
    "o3=c3(10,20)\n",
    "o3.operations()\n",
    "o3.op2()"
   ]
  },
  {
   "cell_type": "code",
   "execution_count": 18,
   "metadata": {
    "collapsed": false
   },
   "outputs": [
    {
     "ename": "AttributeError",
     "evalue": "c3 instance has no attribute 'a'",
     "output_type": "error",
     "traceback": [
      "\u001b[0;31m---------------------------------------------------------------------------\u001b[0m",
      "\u001b[0;31mAttributeError\u001b[0m                            Traceback (most recent call last)",
      "\u001b[0;32m<ipython-input-18-0df4f7092d2b>\u001b[0m in \u001b[0;36m<module>\u001b[0;34m()\u001b[0m\n\u001b[1;32m     26\u001b[0m \u001b[0;34m\u001b[0m\u001b[0m\n\u001b[1;32m     27\u001b[0m \u001b[0mo3\u001b[0m\u001b[0;34m=\u001b[0m\u001b[0mc3\u001b[0m\u001b[0;34m(\u001b[0m\u001b[0;36m10\u001b[0m\u001b[0;34m)\u001b[0m\u001b[0;34m\u001b[0m\u001b[0m\n\u001b[0;32m---> 28\u001b[0;31m \u001b[0mo3\u001b[0m\u001b[0;34m.\u001b[0m\u001b[0moperations\u001b[0m\u001b[0;34m(\u001b[0m\u001b[0;34m)\u001b[0m\u001b[0;34m\u001b[0m\u001b[0m\n\u001b[0m\u001b[1;32m     29\u001b[0m \u001b[0mo3\u001b[0m\u001b[0;34m.\u001b[0m\u001b[0mop2\u001b[0m\u001b[0;34m(\u001b[0m\u001b[0;34m)\u001b[0m\u001b[0;34m\u001b[0m\u001b[0m\n",
      "\u001b[0;32m<ipython-input-18-0df4f7092d2b>\u001b[0m in \u001b[0;36moperations\u001b[0;34m(self)\u001b[0m\n\u001b[1;32m     15\u001b[0m \u001b[0;34m\u001b[0m\u001b[0m\n\u001b[1;32m     16\u001b[0m     \u001b[0;32mdef\u001b[0m \u001b[0moperations\u001b[0m\u001b[0;34m(\u001b[0m\u001b[0mself\u001b[0m\u001b[0;34m)\u001b[0m\u001b[0;34m:\u001b[0m\u001b[0;34m\u001b[0m\u001b[0m\n\u001b[0;32m---> 17\u001b[0;31m         \u001b[0;32mprint\u001b[0m \u001b[0mself\u001b[0m\u001b[0;34m.\u001b[0m\u001b[0ma\u001b[0m\u001b[0;34m,\u001b[0m\u001b[0mself\u001b[0m\u001b[0;34m.\u001b[0m\u001b[0mb\u001b[0m\u001b[0;34m\u001b[0m\u001b[0m\n\u001b[0m\u001b[1;32m     18\u001b[0m         \u001b[0;32mtry\u001b[0m\u001b[0;34m:\u001b[0m\u001b[0;34m\u001b[0m\u001b[0m\n\u001b[1;32m     19\u001b[0m             \u001b[0mc1\u001b[0m\u001b[0;34m.\u001b[0m\u001b[0mop1\u001b[0m\u001b[0;34m(\u001b[0m\u001b[0mself\u001b[0m\u001b[0;34m)\u001b[0m\u001b[0;34m\u001b[0m\u001b[0m\n",
      "\u001b[0;31mAttributeError\u001b[0m: c3 instance has no attribute 'a'"
     ]
    }
   ],
   "source": [
    "class c1:\n",
    "    pass\n",
    "\n",
    "class c2:\n",
    "    def __init__(self,a,b):\n",
    "        self.a=a\n",
    "        self.b=b\n",
    "        \n",
    "    def op2(self):\n",
    "        print \"op2 in c2\"\n",
    "        print self.a,self.b\n",
    "class c3(c1,c2): \n",
    "    def __init__(self,c):\n",
    "        self.c=c\n",
    "        \n",
    "    def operations(self):\n",
    "        print self.a,self.b\n",
    "        try:\n",
    "            c1.op1(self)\n",
    "        except:\n",
    "            self.op1()\n",
    "        self.op2()\n",
    "    def op1(self):\n",
    "            print \"op1 in c3\"\n",
    "    \n",
    "        \n",
    "o3=c3(10)\n",
    "o3.operations()\n",
    "o3.op2()"
   ]
  },
  {
   "cell_type": "code",
   "execution_count": 19,
   "metadata": {
    "collapsed": false
   },
   "outputs": [
    {
     "ename": "TypeError",
     "evalue": "__init__() takes exactly 4 arguments (3 given)",
     "output_type": "error",
     "traceback": [
      "\u001b[0;31m---------------------------------------------------------------------------\u001b[0m",
      "\u001b[0;31mTypeError\u001b[0m                                 Traceback (most recent call last)",
      "\u001b[0;32m<ipython-input-19-0338acd6f022>\u001b[0m in \u001b[0;36m<module>\u001b[0;34m()\u001b[0m\n\u001b[1;32m     26\u001b[0m \u001b[0;34m\u001b[0m\u001b[0m\n\u001b[1;32m     27\u001b[0m \u001b[0;34m\u001b[0m\u001b[0m\n\u001b[0;32m---> 28\u001b[0;31m \u001b[0mo3\u001b[0m\u001b[0;34m=\u001b[0m\u001b[0mc3\u001b[0m\u001b[0;34m(\u001b[0m\u001b[0;36m10\u001b[0m\u001b[0;34m,\u001b[0m\u001b[0;36m100\u001b[0m\u001b[0;34m,\u001b[0m\u001b[0;36m1000\u001b[0m\u001b[0;34m)\u001b[0m\u001b[0;34m\u001b[0m\u001b[0m\n\u001b[0m\u001b[1;32m     29\u001b[0m \u001b[0mo3\u001b[0m\u001b[0;34m.\u001b[0m\u001b[0moperations\u001b[0m\u001b[0;34m(\u001b[0m\u001b[0;34m)\u001b[0m\u001b[0;34m\u001b[0m\u001b[0m\n\u001b[1;32m     30\u001b[0m \u001b[0mo3\u001b[0m\u001b[0;34m.\u001b[0m\u001b[0mop2\u001b[0m\u001b[0;34m(\u001b[0m\u001b[0;34m)\u001b[0m\u001b[0;34m\u001b[0m\u001b[0m\n",
      "\u001b[0;32m<ipython-input-19-0338acd6f022>\u001b[0m in \u001b[0;36m__init__\u001b[0;34m(self, c, a, b)\u001b[0m\n\u001b[1;32m     13\u001b[0m     \u001b[0;32mdef\u001b[0m \u001b[0m__init__\u001b[0m\u001b[0;34m(\u001b[0m\u001b[0mself\u001b[0m\u001b[0;34m,\u001b[0m\u001b[0mc\u001b[0m\u001b[0;34m,\u001b[0m\u001b[0ma\u001b[0m\u001b[0;34m,\u001b[0m\u001b[0mb\u001b[0m\u001b[0;34m)\u001b[0m\u001b[0;34m:\u001b[0m\u001b[0;34m\u001b[0m\u001b[0m\n\u001b[1;32m     14\u001b[0m         \u001b[0mself\u001b[0m\u001b[0;34m.\u001b[0m\u001b[0mc\u001b[0m\u001b[0;34m=\u001b[0m\u001b[0mc\u001b[0m\u001b[0;34m\u001b[0m\u001b[0m\n\u001b[0;32m---> 15\u001b[0;31m         \u001b[0mself\u001b[0m\u001b[0;34m.\u001b[0m\u001b[0m__init__\u001b[0m\u001b[0;34m(\u001b[0m\u001b[0ma\u001b[0m\u001b[0;34m,\u001b[0m\u001b[0mb\u001b[0m\u001b[0;34m)\u001b[0m\u001b[0;34m\u001b[0m\u001b[0m\n\u001b[0m\u001b[1;32m     16\u001b[0m \u001b[0;34m\u001b[0m\u001b[0m\n\u001b[1;32m     17\u001b[0m     \u001b[0;32mdef\u001b[0m \u001b[0moperations\u001b[0m\u001b[0;34m(\u001b[0m\u001b[0mself\u001b[0m\u001b[0;34m)\u001b[0m\u001b[0;34m:\u001b[0m\u001b[0;34m\u001b[0m\u001b[0m\n",
      "\u001b[0;31mTypeError\u001b[0m: __init__() takes exactly 4 arguments (3 given)"
     ]
    }
   ],
   "source": [
    "class c1:\n",
    "    pass\n",
    "\n",
    "class c2:\n",
    "    def __init__(self,a,b):\n",
    "        self.a=a\n",
    "        self.b=b\n",
    "        \n",
    "    def op2(self):\n",
    "        print \"op2 in c2\"\n",
    "        print self.a,self.b\n",
    "class c3(c1,c2): \n",
    "    def __init__(self,c,a,b):\n",
    "        self.c=c\n",
    "        self.__init__(a,b)\n",
    "        \n",
    "    def operations(self):\n",
    "        print self.a,self.b\n",
    "        try:\n",
    "            c1.op1(self)\n",
    "        except:\n",
    "            self.op1()\n",
    "        self.op2()\n",
    "    def op1(self):\n",
    "            print \"op1 in c3\"\n",
    "    \n",
    "        \n",
    "o3=c3(10,100,1000)\n",
    "o3.operations()\n",
    "o3.op2()"
   ]
  },
  {
   "cell_type": "code",
   "execution_count": 20,
   "metadata": {
    "collapsed": false
   },
   "outputs": [
    {
     "name": "stdout",
     "output_type": "stream",
     "text": [
      "100 1000\n",
      "op1 in c3\n",
      "op2 in c2\n",
      "100 1000\n",
      "op2 in c2\n",
      "100 1000\n"
     ]
    }
   ],
   "source": [
    "class c1:\n",
    "    pass\n",
    "\n",
    "class c2:\n",
    "    def __init__(self,a,b):\n",
    "        self.a=a\n",
    "        self.b=b\n",
    "        \n",
    "    def op2(self):\n",
    "        print \"op2 in c2\"\n",
    "        print self.a,self.b\n",
    "class c3(c1,c2): \n",
    "    def __init__(self,c,a,b):\n",
    "        self.c=c\n",
    "        c2.__init__(self,a,b)\n",
    "        \n",
    "    def operations(self):\n",
    "        print self.a,self.b\n",
    "        try:\n",
    "            c1.op1(self)\n",
    "        except:\n",
    "            self.op1()\n",
    "        self.op2()\n",
    "    def op1(self):\n",
    "            print \"op1 in c3\"\n",
    "    \n",
    "        \n",
    "o3=c3(10,100,1000)\n",
    "o3.operations()\n",
    "o3.op2()"
   ]
  },
  {
   "cell_type": "code",
   "execution_count": 22,
   "metadata": {
    "collapsed": false
   },
   "outputs": [
    {
     "name": "stdout",
     "output_type": "stream",
     "text": [
      "100 1000\n",
      "op1 in c3\n",
      "op2 in c2\n",
      "100 1000\n",
      "op2 in c2\n",
      "100 1000\n"
     ]
    }
   ],
   "source": [
    "class c1(object):\n",
    "    pass\n",
    "\n",
    "class c2(object):\n",
    "    def __init__(self,a,b):\n",
    "        self.a=a\n",
    "        self.b=b\n",
    "        \n",
    "    def op2(self):\n",
    "        print \"op2 in c2\"\n",
    "        print self.a,self.b\n",
    "        \n",
    "class c3(c1,c2): \n",
    "    def __init__(self,c,a,b):\n",
    "        self.c=c\n",
    "        super(c3,self).__init__(a,b)\n",
    "        \n",
    "    def operations(self):\n",
    "        print self.a,self.b\n",
    "        try:\n",
    "            c1.op1(self)\n",
    "        except:\n",
    "            self.op1()\n",
    "        self.op2()\n",
    "    def op1(self):\n",
    "            print \"op1 in c3\"\n",
    "    \n",
    "        \n",
    "o3=c3(10,100,1000)\n",
    "o3.operations()\n",
    "o3.op2()"
   ]
  },
  {
   "cell_type": "code",
   "execution_count": null,
   "metadata": {
    "collapsed": true
   },
   "outputs": [],
   "source": [
    "# method overloading.\n",
    "class c1:\n",
    "    def op1(self):\n",
    "        print \"op1\"\n",
    "        \n",
    "    def op1(self, a, b):\n",
    "        print \"op1 with two arguments,a=%s,b=%s\"%(a,b)\n",
    "o1=c1()\n",
    "o1.op1()\n",
    "o1.op1(10,20)\n",
    "    "
   ]
  },
  {
   "cell_type": "code",
   "execution_count": 23,
   "metadata": {
    "collapsed": false
   },
   "outputs": [
    {
     "ename": "TypeError",
     "evalue": "op1() takes exactly 2 arguments (0 given)",
     "output_type": "error",
     "traceback": [
      "\u001b[0;31m---------------------------------------------------------------------------\u001b[0m",
      "\u001b[0;31mTypeError\u001b[0m                                 Traceback (most recent call last)",
      "\u001b[0;32m<ipython-input-23-42f800a52eb9>\u001b[0m in \u001b[0;36m<module>\u001b[0;34m()\u001b[0m\n\u001b[1;32m      4\u001b[0m \u001b[0;32mdef\u001b[0m \u001b[0mop1\u001b[0m\u001b[0;34m(\u001b[0m\u001b[0ma\u001b[0m\u001b[0;34m,\u001b[0m \u001b[0mb\u001b[0m\u001b[0;34m)\u001b[0m\u001b[0;34m:\u001b[0m\u001b[0;34m\u001b[0m\u001b[0m\n\u001b[1;32m      5\u001b[0m         \u001b[0;32mprint\u001b[0m \u001b[0;34m\"op1 with two arguments,a=%s,b=%s\"\u001b[0m\u001b[0;34m%\u001b[0m\u001b[0;34m(\u001b[0m\u001b[0ma\u001b[0m\u001b[0;34m,\u001b[0m\u001b[0mb\u001b[0m\u001b[0;34m)\u001b[0m\u001b[0;34m\u001b[0m\u001b[0m\n\u001b[0;32m----> 6\u001b[0;31m \u001b[0mop1\u001b[0m\u001b[0;34m(\u001b[0m\u001b[0;34m)\u001b[0m\u001b[0;34m\u001b[0m\u001b[0m\n\u001b[0m",
      "\u001b[0;31mTypeError\u001b[0m: op1() takes exactly 2 arguments (0 given)"
     ]
    }
   ],
   "source": [
    "def op1():\n",
    "        print \"op1\"\n",
    "        \n",
    "def op1(a, b):\n",
    "        print \"op1 with two arguments,a=%s,b=%s\"%(a,b)\n",
    "op1()"
   ]
  },
  {
   "cell_type": "code",
   "execution_count": 24,
   "metadata": {
    "collapsed": false
   },
   "outputs": [
    {
     "ename": "TypeError",
     "evalue": "op1() takes exactly 3 arguments (0 given)",
     "output_type": "error",
     "traceback": [
      "\u001b[0;31m---------------------------------------------------------------------------\u001b[0m",
      "\u001b[0;31mTypeError\u001b[0m                                 Traceback (most recent call last)",
      "\u001b[0;32m<ipython-input-24-2494164d6b81>\u001b[0m in \u001b[0;36m<module>\u001b[0;34m()\u001b[0m\n\u001b[1;32m      6\u001b[0m \u001b[0;32mdef\u001b[0m \u001b[0mop1\u001b[0m\u001b[0;34m(\u001b[0m\u001b[0ma\u001b[0m\u001b[0;34m,\u001b[0m \u001b[0mb\u001b[0m\u001b[0;34m,\u001b[0m \u001b[0mc\u001b[0m\u001b[0;34m)\u001b[0m\u001b[0;34m:\u001b[0m\u001b[0;34m\u001b[0m\u001b[0m\n\u001b[1;32m      7\u001b[0m         \u001b[0;32mprint\u001b[0m \u001b[0;34m\"op1 with two arguments,a=%s,b=%s\"\u001b[0m\u001b[0;34m%\u001b[0m\u001b[0;34m(\u001b[0m\u001b[0ma\u001b[0m\u001b[0;34m,\u001b[0m\u001b[0mb\u001b[0m\u001b[0;34m,\u001b[0m\u001b[0mc\u001b[0m\u001b[0;34m)\u001b[0m\u001b[0;34m\u001b[0m\u001b[0m\n\u001b[0;32m----> 8\u001b[0;31m \u001b[0mop1\u001b[0m\u001b[0;34m(\u001b[0m\u001b[0;34m)\u001b[0m\u001b[0;34m\u001b[0m\u001b[0m\n\u001b[0m",
      "\u001b[0;31mTypeError\u001b[0m: op1() takes exactly 3 arguments (0 given)"
     ]
    }
   ],
   "source": [
    "def op1():\n",
    "        print \"op1\"\n",
    "        \n",
    "def op1(a, b):\n",
    "        print \"op1 with two arguments,a=%s,b=%s\"%(a,b)\n",
    "def op1(a, b, c):\n",
    "        print \"op1 with two arguments,a=%s,b=%s\"%(a,b,c)\n",
    "op1()"
   ]
  },
  {
   "cell_type": "code",
   "execution_count": 25,
   "metadata": {
    "collapsed": false
   },
   "outputs": [
    {
     "ename": "TypeError",
     "evalue": "op1() takes exactly 3 arguments (1 given)",
     "output_type": "error",
     "traceback": [
      "\u001b[0;31m---------------------------------------------------------------------------\u001b[0m",
      "\u001b[0;31mTypeError\u001b[0m                                 Traceback (most recent call last)",
      "\u001b[0;32m<ipython-input-25-124c476b857b>\u001b[0m in \u001b[0;36m<module>\u001b[0;34m()\u001b[0m\n\u001b[1;32m      7\u001b[0m         \u001b[0;32mprint\u001b[0m \u001b[0;34m\"op1 with two arguments,a=%s,b=%s\"\u001b[0m\u001b[0;34m%\u001b[0m\u001b[0;34m(\u001b[0m\u001b[0ma\u001b[0m\u001b[0;34m,\u001b[0m\u001b[0mb\u001b[0m\u001b[0;34m)\u001b[0m\u001b[0;34m\u001b[0m\u001b[0m\n\u001b[1;32m      8\u001b[0m \u001b[0mo1\u001b[0m\u001b[0;34m=\u001b[0m\u001b[0mc1\u001b[0m\u001b[0;34m(\u001b[0m\u001b[0;34m)\u001b[0m\u001b[0;34m\u001b[0m\u001b[0m\n\u001b[0;32m----> 9\u001b[0;31m \u001b[0mo1\u001b[0m\u001b[0;34m.\u001b[0m\u001b[0mop1\u001b[0m\u001b[0;34m(\u001b[0m\u001b[0;34m)\u001b[0m\u001b[0;34m\u001b[0m\u001b[0m\n\u001b[0m\u001b[1;32m     10\u001b[0m \u001b[0mo1\u001b[0m\u001b[0;34m.\u001b[0m\u001b[0mop1\u001b[0m\u001b[0;34m(\u001b[0m\u001b[0;36m10\u001b[0m\u001b[0;34m,\u001b[0m\u001b[0;36m20\u001b[0m\u001b[0;34m)\u001b[0m\u001b[0;34m\u001b[0m\u001b[0m\n\u001b[1;32m     11\u001b[0m \u001b[0;34m\u001b[0m\u001b[0m\n",
      "\u001b[0;31mTypeError\u001b[0m: op1() takes exactly 3 arguments (1 given)"
     ]
    }
   ],
   "source": [
    "# method overloading.\n",
    "class c1:\n",
    "    def op1(self):\n",
    "        print \"op1\"\n",
    "        \n",
    "    def op1(self, a, b):\n",
    "        print \"op1 with two arguments,a=%s,b=%s\"%(a,b)\n",
    "o1=c1()\n",
    "o1.op1()\n",
    "o1.op1(10,20)\n",
    "    "
   ]
  },
  {
   "cell_type": "code",
   "execution_count": 26,
   "metadata": {
    "collapsed": false
   },
   "outputs": [
    {
     "name": "stdout",
     "output_type": "stream",
     "text": [
      "op1 with two arguments,a=10,b=20\n"
     ]
    }
   ],
   "source": [
    "# method overloading.\n",
    "class c1:\n",
    "    def op1(self):\n",
    "        print \"op1\"\n",
    "        \n",
    "    def op1(self, a, b):\n",
    "        print \"op1 with two arguments,a=%s,b=%s\"%(a,b)\n",
    "o1=c1()\n",
    "\n",
    "o1.op1(10,20)\n",
    "    "
   ]
  },
  {
   "cell_type": "code",
   "execution_count": 27,
   "metadata": {
    "collapsed": false
   },
   "outputs": [
    {
     "name": "stdout",
     "output_type": "stream",
     "text": [
      "op1 ()\n",
      "op1 (10, 20)\n",
      "op1 (10, 20, 30)\n"
     ]
    }
   ],
   "source": [
    "# method overloading.\n",
    "class c1:\n",
    "    def op1(self,*args):\n",
    "        print \"op1\",args\n",
    "        \n",
    "o1=c1()\n",
    "o1.op1()\n",
    "o1.op1(10,20)\n",
    "o1.op1(10,20,30)\n",
    "\n",
    "    "
   ]
  },
  {
   "cell_type": "code",
   "execution_count": null,
   "metadata": {
    "collapsed": true
   },
   "outputs": [],
   "source": []
  }
 ],
 "metadata": {
  "kernelspec": {
   "display_name": "Python 2",
   "language": "python",
   "name": "python2"
  },
  "language_info": {
   "codemirror_mode": {
    "name": "ipython",
    "version": 2
   },
   "file_extension": ".py",
   "mimetype": "text/x-python",
   "name": "python",
   "nbconvert_exporter": "python",
   "pygments_lexer": "ipython2",
   "version": "2.7.13"
  }
 },
 "nbformat": 4,
 "nbformat_minor": 2
}
