{
 "cells": [
  {
   "cell_type": "code",
   "execution_count": 1,
   "metadata": {
    "collapsed": true
   },
   "outputs": [],
   "source": [
    "f=open('data.csv','w')"
   ]
  },
  {
   "cell_type": "code",
   "execution_count": 2,
   "metadata": {
    "collapsed": true
   },
   "outputs": [],
   "source": [
    "f.write(\"id,name,sal\")"
   ]
  },
  {
   "cell_type": "code",
   "execution_count": 3,
   "metadata": {
    "collapsed": true
   },
   "outputs": [],
   "source": [
    "f.close()"
   ]
  },
  {
   "cell_type": "code",
   "execution_count": 4,
   "metadata": {
    "collapsed": false
   },
   "outputs": [
    {
     "ename": "ValueError",
     "evalue": "I/O operation on closed file",
     "output_type": "error",
     "traceback": [
      "\u001b[0;31m---------------------------------------------------------------------------\u001b[0m",
      "\u001b[0;31mValueError\u001b[0m                                Traceback (most recent call last)",
      "\u001b[0;32m<ipython-input-4-fcb9d2b27e74>\u001b[0m in \u001b[0;36m<module>\u001b[0;34m()\u001b[0m\n\u001b[0;32m----> 1\u001b[0;31m \u001b[0mf\u001b[0m\u001b[0;34m.\u001b[0m\u001b[0mwrite\u001b[0m\u001b[0;34m(\u001b[0m\u001b[0;34m\"1,name1,1234656\"\u001b[0m\u001b[0;34m)\u001b[0m\u001b[0;34m\u001b[0m\u001b[0m\n\u001b[0m",
      "\u001b[0;31mValueError\u001b[0m: I/O operation on closed file"
     ]
    }
   ],
   "source": [
    "f.write(\"1,name1,1234656\")"
   ]
  },
  {
   "cell_type": "code",
   "execution_count": 5,
   "metadata": {
    "collapsed": true
   },
   "outputs": [],
   "source": [
    "f=open('data.csv','w')"
   ]
  },
  {
   "cell_type": "code",
   "execution_count": 6,
   "metadata": {
    "collapsed": true
   },
   "outputs": [],
   "source": [
    "f=open('data.csv','w')\n",
    "f.write(\"id,name,sal\")\n",
    "f.write(\"\\n1,name1,1242353\")\n",
    "f.close()"
   ]
  },
  {
   "cell_type": "code",
   "execution_count": 7,
   "metadata": {
    "collapsed": true
   },
   "outputs": [],
   "source": [
    "persons = [\"1,name1,123456\",\"2,name2,23423424\"]\n",
    "f=open('data.csv','w')\n",
    "f.write(\"id,name,sal\")\n",
    "f.writelines(persons)\n",
    "f.close()"
   ]
  },
  {
   "cell_type": "code",
   "execution_count": 8,
   "metadata": {
    "collapsed": false
   },
   "outputs": [
    {
     "ename": "TypeError",
     "evalue": "expected a string or other character buffer object",
     "output_type": "error",
     "traceback": [
      "\u001b[0;31m---------------------------------------------------------------------------\u001b[0m",
      "\u001b[0;31mTypeError\u001b[0m                                 Traceback (most recent call last)",
      "\u001b[0;32m<ipython-input-8-d27e3a22b85e>\u001b[0m in \u001b[0;36m<module>\u001b[0;34m()\u001b[0m\n\u001b[1;32m      1\u001b[0m \u001b[0mpersons\u001b[0m \u001b[0;34m=\u001b[0m \u001b[0;34m[\u001b[0m\u001b[0;34m\"id,name,sal\"\u001b[0m\u001b[0;34m,\u001b[0m\u001b[0;34m\"\\n1,name1,123456\"\u001b[0m\u001b[0;34m,\u001b[0m\u001b[0;34m\"\\n2,name2,23423424\"\u001b[0m\u001b[0;34m]\u001b[0m\u001b[0;34m\u001b[0m\u001b[0m\n\u001b[1;32m      2\u001b[0m \u001b[0mf\u001b[0m\u001b[0;34m=\u001b[0m\u001b[0mopen\u001b[0m\u001b[0;34m(\u001b[0m\u001b[0;34m'data.csv'\u001b[0m\u001b[0;34m,\u001b[0m\u001b[0;34m'w'\u001b[0m\u001b[0;34m)\u001b[0m\u001b[0;34m\u001b[0m\u001b[0m\n\u001b[0;32m----> 3\u001b[0;31m \u001b[0mf\u001b[0m\u001b[0;34m.\u001b[0m\u001b[0mwrite\u001b[0m\u001b[0;34m(\u001b[0m\u001b[0mpersons\u001b[0m\u001b[0;34m)\u001b[0m\u001b[0;34m\u001b[0m\u001b[0m\n\u001b[0m\u001b[1;32m      4\u001b[0m \u001b[0mf\u001b[0m\u001b[0;34m.\u001b[0m\u001b[0mclose\u001b[0m\u001b[0;34m(\u001b[0m\u001b[0;34m)\u001b[0m\u001b[0;34m\u001b[0m\u001b[0m\n",
      "\u001b[0;31mTypeError\u001b[0m: expected a string or other character buffer object"
     ]
    }
   ],
   "source": [
    "persons = [\"id,name,sal\",\"\\n1,name1,123456\",\"\\n2,name2,23423424\"]\n",
    "f=open('data.csv','w')\n",
    "f.write(persons)\n",
    "f.close()"
   ]
  },
  {
   "cell_type": "code",
   "execution_count": 9,
   "metadata": {
    "collapsed": true
   },
   "outputs": [],
   "source": [
    "persons = [\"id,name,sal\",\"\\n1,name1,123456\",\"\\n2,name2,23423424\"]\n",
    "f=open('data.csv','w')\n",
    "data = \"\".join(persons)\n",
    "f.write(data)\n",
    "f.close()"
   ]
  },
  {
   "cell_type": "code",
   "execution_count": 10,
   "metadata": {
    "collapsed": true
   },
   "outputs": [],
   "source": [
    "persons = [\"id,name,sal\",\"\\n1,name1,123456\",\"\\n2,name2,23423424\"]\n",
    "f=open('data.csv','w')\n",
    "data = \"\".join(persons)\n",
    "f.write(data)\n",
    "f.flush()\n",
    "f.write(\"\\n3,name3,233432454\")"
   ]
  },
  {
   "cell_type": "code",
   "execution_count": 11,
   "metadata": {
    "collapsed": true
   },
   "outputs": [],
   "source": [
    "f.close()"
   ]
  },
  {
   "cell_type": "code",
   "execution_count": 12,
   "metadata": {
    "collapsed": true
   },
   "outputs": [],
   "source": [
    "f=open(\"data.csv\",'a')\n",
    "f.write(\"\\n4,name4,4365464564\")\n",
    "f.close()"
   ]
  },
  {
   "cell_type": "code",
   "execution_count": 13,
   "metadata": {
    "collapsed": false
   },
   "outputs": [
    {
     "ename": "IOError",
     "evalue": "[Errno 2] No such file or directory: 'data1.csv'",
     "output_type": "error",
     "traceback": [
      "\u001b[0;31m---------------------------------------------------------------------------\u001b[0m",
      "\u001b[0;31mIOError\u001b[0m                                   Traceback (most recent call last)",
      "\u001b[0;32m<ipython-input-13-134a83aaac40>\u001b[0m in \u001b[0;36m<module>\u001b[0;34m()\u001b[0m\n\u001b[0;32m----> 1\u001b[0;31m \u001b[0mf\u001b[0m\u001b[0;34m=\u001b[0m\u001b[0mopen\u001b[0m\u001b[0;34m(\u001b[0m\u001b[0;34m'data1.csv'\u001b[0m\u001b[0;34m,\u001b[0m\u001b[0;34m'r'\u001b[0m\u001b[0;34m)\u001b[0m\u001b[0;34m\u001b[0m\u001b[0m\n\u001b[0m",
      "\u001b[0;31mIOError\u001b[0m: [Errno 2] No such file or directory: 'data1.csv'"
     ]
    }
   ],
   "source": [
    "f=open('data1.csv','r')"
   ]
  },
  {
   "cell_type": "code",
   "execution_count": 14,
   "metadata": {
    "collapsed": true
   },
   "outputs": [],
   "source": [
    "f=open('data.csv','r')\n",
    "data=f.read()\n"
   ]
  },
  {
   "cell_type": "code",
   "execution_count": 15,
   "metadata": {
    "collapsed": false
   },
   "outputs": [
    {
     "name": "stdout",
     "output_type": "stream",
     "text": [
      "id,name,sal\n",
      "1,name1,123456\n",
      "2,name2,23423424\n",
      "3,name3,233432454\n",
      "4,name4,4365464564\n"
     ]
    }
   ],
   "source": [
    "print data"
   ]
  },
  {
   "cell_type": "code",
   "execution_count": 16,
   "metadata": {
    "collapsed": false
   },
   "outputs": [
    {
     "name": "stdout",
     "output_type": "stream",
     "text": [
      "Enter id:12\n",
      "Enter name:anil\n",
      "Enter salary:3242354\n"
     ]
    }
   ],
   "source": [
    "f=open('data.csv','a')\n",
    "p_id=raw_input(\"Enter id:\")\n",
    "p_name=raw_input(\"Enter name:\")\n",
    "p_sal=raw_input(\"Enter salary:\")\n",
    "res=\"\"\n",
    "if p_id.isdigit() and p_name.isalpha() and p_sal.isdigit():\n",
    "    res=res+\"\\n%s,%s,%s\"%(p_id,p_name,p_sal)\n",
    "    f.write(res)\n",
    "    f.close()\n",
    "else:\n",
    "    print \"please enter valid data\""
   ]
  },
  {
   "cell_type": "code",
   "execution_count": 17,
   "metadata": {
    "collapsed": false
   },
   "outputs": [
    {
     "name": "stdout",
     "output_type": "stream",
     "text": [
      "Enter id:12\n",
      "Enter name:name123\n",
      "Enter salary:345345\n",
      "insert failed\n",
      "please enter valid data\n"
     ]
    }
   ],
   "source": [
    "f=open('data.csv','a')\n",
    "p_id=raw_input(\"Enter id:\")\n",
    "p_name=raw_input(\"Enter name:\")\n",
    "p_sal=raw_input(\"Enter salary:\")\n",
    "res=\"\"\n",
    "if p_id.isdigit() and p_name.isalpha() and p_sal.isdigit():\n",
    "    res=res+\"\\n%s,%s,%s\"%(p_id,p_name,p_sal)\n",
    "    f.write(res)\n",
    "    f.close()\n",
    "    print \"inserted successfully\"\n",
    "else:\n",
    "    print \"insert failed\"\n",
    "    print \"please enter valid data\""
   ]
  },
  {
   "cell_type": "code",
   "execution_count": 18,
   "metadata": {
    "collapsed": false
   },
   "outputs": [
    {
     "name": "stdout",
     "output_type": "stream",
     "text": [
      "Enter id:12\n",
      "Enter name:ertete\n",
      "Enter salary:34534534\n",
      "inserted successfully\n"
     ]
    }
   ],
   "source": [
    "f=open('data.xlsx','a')\n",
    "f.write(\"id,name,sal\")\n",
    "p_id=raw_input(\"Enter id:\")\n",
    "p_name=raw_input(\"Enter name:\")\n",
    "p_sal=raw_input(\"Enter salary:\")\n",
    "res=\"\"\n",
    "if p_id.isdigit() and p_name.isalpha() and p_sal.isdigit():\n",
    "    res=res+\"\\n%s,%s,%s\"%(p_id,p_name,p_sal)\n",
    "    f.write(res)\n",
    "    f.close()\n",
    "    print \"inserted successfully\"\n",
    "else:\n",
    "    print \"insert failed\"\n",
    "    print \"please enter valid data\""
   ]
  },
  {
   "cell_type": "code",
   "execution_count": 19,
   "metadata": {
    "collapsed": true
   },
   "outputs": [],
   "source": [
    "f=open(\"data.csv\",'r')\n",
    "data=f.read()"
   ]
  },
  {
   "cell_type": "code",
   "execution_count": 20,
   "metadata": {
    "collapsed": false
   },
   "outputs": [
    {
     "data": {
      "text/plain": [
       "'id,name,sal\\n1,name1,123456\\n2,name2,23423424\\n3,name3,233432454\\n4,name4,4365464564\\n12,anil,3242354'"
      ]
     },
     "execution_count": 20,
     "metadata": {},
     "output_type": "execute_result"
    }
   ],
   "source": [
    "data"
   ]
  },
  {
   "cell_type": "code",
   "execution_count": 21,
   "metadata": {
    "collapsed": false
   },
   "outputs": [
    {
     "name": "stdout",
     "output_type": "stream",
     "text": [
      "id,name,sal\n",
      "1,name1,123456\n",
      "2,name2,23423424\n",
      "3,name3,233432454\n",
      "4,name4,4365464564\n",
      "12,anil,3242354\n"
     ]
    }
   ],
   "source": [
    "print data"
   ]
  },
  {
   "cell_type": "code",
   "execution_count": 22,
   "metadata": {
    "collapsed": false
   },
   "outputs": [
    {
     "data": {
      "text/plain": [
       "str"
      ]
     },
     "execution_count": 22,
     "metadata": {},
     "output_type": "execute_result"
    }
   ],
   "source": [
    "type(data)"
   ]
  },
  {
   "cell_type": "code",
   "execution_count": 23,
   "metadata": {
    "collapsed": false
   },
   "outputs": [
    {
     "name": "stdout",
     "output_type": "stream",
     "text": [
      "i\n"
     ]
    }
   ],
   "source": [
    "for i in data:\n",
    "    print i\n",
    "    break"
   ]
  },
  {
   "cell_type": "code",
   "execution_count": 24,
   "metadata": {
    "collapsed": false
   },
   "outputs": [
    {
     "name": "stdout",
     "output_type": "stream",
     "text": [
      "id,name,sal\n"
     ]
    }
   ],
   "source": [
    "rows=data.split('\\n')\n",
    "for row in rows:\n",
    "    print row\n",
    "    break"
   ]
  },
  {
   "cell_type": "code",
   "execution_count": 25,
   "metadata": {
    "collapsed": true
   },
   "outputs": [],
   "source": [
    "import pandas as pd"
   ]
  },
  {
   "cell_type": "code",
   "execution_count": 26,
   "metadata": {
    "collapsed": false
   },
   "outputs": [
    {
     "name": "stdout",
     "output_type": "stream",
     "text": [
      "   id   name         sal\n",
      "3   4  name4  4365464564\n"
     ]
    }
   ],
   "source": [
    "data=pd.read_csv('data.csv')\n",
    "print data[data.sal==max(data.sal)]"
   ]
  },
  {
   "cell_type": "code",
   "execution_count": null,
   "metadata": {
    "collapsed": true
   },
   "outputs": [],
   "source": []
  }
 ],
 "metadata": {
  "kernelspec": {
   "display_name": "Python 2",
   "language": "python",
   "name": "python2"
  },
  "language_info": {
   "codemirror_mode": {
    "name": "ipython",
    "version": 2
   },
   "file_extension": ".py",
   "mimetype": "text/x-python",
   "name": "python",
   "nbconvert_exporter": "python",
   "pygments_lexer": "ipython2",
   "version": "2.7.13"
  }
 },
 "nbformat": 4,
 "nbformat_minor": 2
}
