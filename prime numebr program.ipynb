{
 "cells": [
  {
   "cell_type": "code",
   "execution_count": 1,
   "metadata": {
    "collapsed": false
   },
   "outputs": [
    {
     "name": "stdout",
     "output_type": "stream",
     "text": [
      "Enter number to check prime or not:12\n"
     ]
    }
   ],
   "source": [
    "number = raw_input(\"Enter number to check prime or not:\")\n",
    "number = int(number)\n"
   ]
  },
  {
   "cell_type": "code",
   "execution_count": 2,
   "metadata": {
    "collapsed": false
   },
   "outputs": [
    {
     "data": {
      "text/plain": [
       "12"
      ]
     },
     "execution_count": 2,
     "metadata": {},
     "output_type": "execute_result"
    }
   ],
   "source": [
    "number"
   ]
  },
  {
   "cell_type": "code",
   "execution_count": 3,
   "metadata": {
    "collapsed": false
   },
   "outputs": [
    {
     "data": {
      "text/plain": [
       "[0, 1, 2, 3, 4, 5, 6, 7, 8, 9]"
      ]
     },
     "execution_count": 3,
     "metadata": {},
     "output_type": "execute_result"
    }
   ],
   "source": [
    "range(10)"
   ]
  },
  {
   "cell_type": "code",
   "execution_count": 4,
   "metadata": {
    "collapsed": false
   },
   "outputs": [
    {
     "data": {
      "text/plain": [
       "[1, 2, 3, 4, 5, 6, 7, 8, 9]"
      ]
     },
     "execution_count": 4,
     "metadata": {},
     "output_type": "execute_result"
    }
   ],
   "source": [
    "range(1,10)"
   ]
  },
  {
   "cell_type": "code",
   "execution_count": 5,
   "metadata": {
    "collapsed": false
   },
   "outputs": [
    {
     "data": {
      "text/plain": [
       "[5, 6, 7, 8, 9, 10, 11, 12, 13, 14]"
      ]
     },
     "execution_count": 5,
     "metadata": {},
     "output_type": "execute_result"
    }
   ],
   "source": [
    "range(5,15)"
   ]
  },
  {
   "cell_type": "code",
   "execution_count": 6,
   "metadata": {
    "collapsed": false
   },
   "outputs": [
    {
     "name": "stdout",
     "output_type": "stream",
     "text": [
      "Enter n1:12\n",
      "Enter n2:6\n"
     ]
    }
   ],
   "source": [
    "n1 = int(raw_input(\"Enter n1:\"))\n",
    "n2 = int(raw_input(\"Enter n2:\"))"
   ]
  },
  {
   "cell_type": "code",
   "execution_count": 7,
   "metadata": {
    "collapsed": false
   },
   "outputs": [
    {
     "data": {
      "text/plain": [
       "0"
      ]
     },
     "execution_count": 7,
     "metadata": {},
     "output_type": "execute_result"
    }
   ],
   "source": [
    "n1%n2"
   ]
  },
  {
   "cell_type": "code",
   "execution_count": 8,
   "metadata": {
    "collapsed": false
   },
   "outputs": [
    {
     "data": {
      "text/plain": [
       "2"
      ]
     },
     "execution_count": 8,
     "metadata": {},
     "output_type": "execute_result"
    }
   ],
   "source": [
    "12%5"
   ]
  },
  {
   "cell_type": "code",
   "execution_count": 9,
   "metadata": {
    "collapsed": false
   },
   "outputs": [
    {
     "name": "stdout",
     "output_type": "stream",
     "text": [
      "divisible\n"
     ]
    }
   ],
   "source": [
    "if n1%n2==0:\n",
    "    print \"divisible\"\n",
    "else:\n",
    "    print \"nodivisible\""
   ]
  },
  {
   "cell_type": "code",
   "execution_count": 10,
   "metadata": {
    "collapsed": false
   },
   "outputs": [
    {
     "name": "stdout",
     "output_type": "stream",
     "text": [
      "Enter n1:12\n",
      "Enter n2:5\n",
      "nodivisible\n"
     ]
    }
   ],
   "source": [
    "n1 = int(raw_input(\"Enter n1:\"))\n",
    "n2 = int(raw_input(\"Enter n2:\"))\n",
    "if n1%n2==0:\n",
    "    print \"divisible\"\n",
    "else:\n",
    "    print \"nodivisible\""
   ]
  },
  {
   "cell_type": "code",
   "execution_count": 11,
   "metadata": {
    "collapsed": false
   },
   "outputs": [
    {
     "name": "stdout",
     "output_type": "stream",
     "text": [
      "Enter n1:12\n",
      "Enter n2:4\n",
      "divisible\n"
     ]
    }
   ],
   "source": [
    "n1 = int(raw_input(\"Enter n1:\"))\n",
    "n2 = int(raw_input(\"Enter n2:\"))\n",
    "if n1%n2==0:\n",
    "    print \"divisible\"\n",
    "else:\n",
    "    print \"nodivisible\""
   ]
  },
  {
   "cell_type": "code",
   "execution_count": 12,
   "metadata": {
    "collapsed": false
   },
   "outputs": [
    {
     "name": "stdout",
     "output_type": "stream",
     "text": [
      "Enter number to check prime or not:13\n",
      "[2, 3, 4, 5, 6, 7, 8, 9, 10, 11, 12]\n"
     ]
    }
   ],
   "source": [
    "number = raw_input(\"Enter number to check prime or not:\")\n",
    "number = int(number)\n",
    "print range(2,number)"
   ]
  },
  {
   "cell_type": "code",
   "execution_count": 13,
   "metadata": {
    "collapsed": false
   },
   "outputs": [
    {
     "name": "stdout",
     "output_type": "stream",
     "text": [
      "iter\n",
      "2\n",
      "iter\n",
      "3\n",
      "iter\n",
      "4\n",
      "iter\n",
      "5\n",
      "iter\n",
      "6\n",
      "iter\n",
      "7\n",
      "iter\n",
      "8\n",
      "iter\n",
      "9\n",
      "iter\n",
      "10\n",
      "iter\n",
      "11\n",
      "iter\n",
      "12\n"
     ]
    }
   ],
   "source": [
    "for i in range(2,number):\n",
    "    print \"iter\"\n",
    "    print i"
   ]
  },
  {
   "cell_type": "code",
   "execution_count": 14,
   "metadata": {
    "collapsed": false
   },
   "outputs": [
    {
     "name": "stdout",
     "output_type": "stream",
     "text": [
      "Enter number to check prime or not:13\n",
      "it is a prime number\n",
      "it is a prime number\n",
      "it is a prime number\n",
      "it is a prime number\n",
      "it is a prime number\n",
      "it is a prime number\n",
      "it is a prime number\n",
      "it is a prime number\n",
      "it is a prime number\n",
      "it is a prime number\n",
      "it is a prime number\n"
     ]
    }
   ],
   "source": [
    "number = raw_input(\"Enter number to check prime or not:\")\n",
    "number = int(number)\n",
    "for i in range(2,number):\n",
    "    if number%i==0:\n",
    "        print \"not a prime\"\n",
    "    else:\n",
    "        print \"it is a prime number\""
   ]
  },
  {
   "cell_type": "code",
   "execution_count": 15,
   "metadata": {
    "collapsed": false
   },
   "outputs": [
    {
     "name": "stdout",
     "output_type": "stream",
     "text": [
      "Enter number to check prime or not:27\n",
      "it is a prime number\n",
      "not a prime\n",
      "it is a prime number\n",
      "it is a prime number\n",
      "it is a prime number\n",
      "it is a prime number\n",
      "it is a prime number\n",
      "not a prime\n",
      "it is a prime number\n",
      "it is a prime number\n",
      "it is a prime number\n",
      "it is a prime number\n",
      "it is a prime number\n",
      "it is a prime number\n",
      "it is a prime number\n",
      "it is a prime number\n",
      "it is a prime number\n",
      "it is a prime number\n",
      "it is a prime number\n",
      "it is a prime number\n",
      "it is a prime number\n",
      "it is a prime number\n",
      "it is a prime number\n",
      "it is a prime number\n",
      "it is a prime number\n"
     ]
    }
   ],
   "source": [
    "number = raw_input(\"Enter number to check prime or not:\")\n",
    "number = int(number)\n",
    "for i in range(2,number):\n",
    "    if number%i==0:\n",
    "        print \"not a prime\"\n",
    "    else:\n",
    "        print \"it is a prime number\""
   ]
  },
  {
   "cell_type": "code",
   "execution_count": 16,
   "metadata": {
    "collapsed": false
   },
   "outputs": [
    {
     "name": "stdout",
     "output_type": "stream",
     "text": [
      "Enter number to check prime or not:4\n",
      "not a prime number\n"
     ]
    }
   ],
   "source": [
    "number = raw_input(\"Enter number to check prime or not:\")\n",
    "number = int(number)\n",
    "for i in range(2,number):\n",
    "    if number%i==0:\n",
    "        print \"not a prime number\"\n",
    "        break\n",
    "        \n",
    "    else:\n",
    "        print \"it is a prime number\""
   ]
  },
  {
   "cell_type": "code",
   "execution_count": 17,
   "metadata": {
    "collapsed": false
   },
   "outputs": [
    {
     "name": "stdout",
     "output_type": "stream",
     "text": [
      "Enter number to check prime or not:27\n",
      "it is a prime number\n",
      "not a prime number\n"
     ]
    }
   ],
   "source": [
    "number = raw_input(\"Enter number to check prime or not:\")\n",
    "number = int(number)\n",
    "for i in range(2,number):\n",
    "    if number%i==0:\n",
    "        print \"not a prime number\"\n",
    "        break\n",
    "        \n",
    "    else:\n",
    "        print \"it is a prime number\""
   ]
  },
  {
   "cell_type": "code",
   "execution_count": 18,
   "metadata": {
    "collapsed": false
   },
   "outputs": [
    {
     "name": "stdout",
     "output_type": "stream",
     "text": [
      "Enter number to check prime or not:13\n",
      "prime number\n"
     ]
    }
   ],
   "source": [
    "number = raw_input(\"Enter number to check prime or not:\")\n",
    "number = int(number)\n",
    "count=0\n",
    "for i in range(2,number):\n",
    "    if number%i==0:\n",
    "        count = count+1\n",
    "\n",
    "if count==0:\n",
    "    print \"prime number\"\n",
    "else:\n",
    "    print \"not a prime number\"\n",
    "    "
   ]
  },
  {
   "cell_type": "code",
   "execution_count": 19,
   "metadata": {
    "collapsed": false
   },
   "outputs": [
    {
     "name": "stdout",
     "output_type": "stream",
     "text": [
      "Enter number to check prime or not:12\n",
      "not a prime number\n"
     ]
    }
   ],
   "source": [
    "number = raw_input(\"Enter number to check prime or not:\")\n",
    "number = int(number)\n",
    "count=0\n",
    "for i in range(2,number):\n",
    "    if number%i==0:\n",
    "        count = count+1\n",
    "\n",
    "if count==0:\n",
    "    print \"prime number\"\n",
    "else:\n",
    "    print \"not a prime number\"\n",
    "    "
   ]
  },
  {
   "cell_type": "code",
   "execution_count": 20,
   "metadata": {
    "collapsed": false
   },
   "outputs": [
    {
     "name": "stdout",
     "output_type": "stream",
     "text": [
      "Enter number to check prime or not:37\n",
      "prime number\n"
     ]
    }
   ],
   "source": [
    "number = raw_input(\"Enter number to check prime or not:\")\n",
    "number = int(number)\n",
    "count=0\n",
    "for i in range(2,number):\n",
    "    if number%i==0:\n",
    "        count = count+1\n",
    "if count==0:\n",
    "    print \"prime number\"\n",
    "else:\n",
    "    print \"not a prime number\"\n",
    "    "
   ]
  },
  {
   "cell_type": "code",
   "execution_count": 21,
   "metadata": {
    "collapsed": false
   },
   "outputs": [
    {
     "name": "stdout",
     "output_type": "stream",
     "text": [
      "Enter number to check prime or not:12\n",
      "not a prime number\n"
     ]
    }
   ],
   "source": [
    "number = raw_input(\"Enter number to check prime or not:\")\n",
    "number = int(number)\n",
    "count=0\n",
    "for i in range(2,number):\n",
    "    \n",
    "    if number%i==0:\n",
    "        count = count+1\n",
    "if count==0:\n",
    "    print \"prime number\"\n",
    "else:\n",
    "    print \"not a prime number\"\n",
    "    "
   ]
  },
  {
   "cell_type": "code",
   "execution_count": 22,
   "metadata": {
    "collapsed": false
   },
   "outputs": [
    {
     "name": "stdout",
     "output_type": "stream",
     "text": [
      "Enter number to check prime or not:12\n",
      "i= 2\n",
      "i= 3\n",
      "i= 4\n",
      "i= 5\n",
      "i= 6\n",
      "i= 7\n",
      "i= 8\n",
      "i= 9\n",
      "i= 10\n",
      "i= 11\n",
      "not a prime number\n"
     ]
    }
   ],
   "source": [
    "number = raw_input(\"Enter number to check prime or not:\")\n",
    "number = int(number)\n",
    "count=0\n",
    "for i in range(2,number):\n",
    "    print \"i=\",i\n",
    "    if number%i==0:\n",
    "        count = count+1\n",
    "if count==0:\n",
    "    print \"prime number\"\n",
    "else:\n",
    "    print \"not a prime number\"\n",
    "    "
   ]
  },
  {
   "cell_type": "code",
   "execution_count": 23,
   "metadata": {
    "collapsed": false
   },
   "outputs": [
    {
     "name": "stdout",
     "output_type": "stream",
     "text": [
      "Enter number to check prime or not:12\n",
      "i= 2\n",
      "not a prime number\n"
     ]
    }
   ],
   "source": [
    "number = raw_input(\"Enter number to check prime or not:\")\n",
    "number = int(number)\n",
    "count=0\n",
    "for i in range(2,number):\n",
    "    print \"i=\",i\n",
    "    if number%i==0:\n",
    "        count = count+1\n",
    "        break\n",
    "if count==0:\n",
    "    print \"prime number\"\n",
    "else:\n",
    "    print \"not a prime number\"\n",
    "    "
   ]
  },
  {
   "cell_type": "code",
   "execution_count": 24,
   "metadata": {
    "collapsed": false
   },
   "outputs": [
    {
     "name": "stdout",
     "output_type": "stream",
     "text": [
      "Enter number to check prime or not:27\n",
      "i= 2\n",
      "i= 3\n",
      "not a prime number\n"
     ]
    }
   ],
   "source": [
    "number = raw_input(\"Enter number to check prime or not:\")\n",
    "number = int(number)\n",
    "count=0\n",
    "for i in range(2,number):\n",
    "    print \"i=\",i\n",
    "    if number%i==0:\n",
    "        count = count+1\n",
    "        break\n",
    "if count==0:\n",
    "    print \"prime number\"\n",
    "else:\n",
    "    print \"not a prime number\"\n",
    "    "
   ]
  },
  {
   "cell_type": "code",
   "execution_count": 25,
   "metadata": {
    "collapsed": false
   },
   "outputs": [
    {
     "name": "stdout",
     "output_type": "stream",
     "text": [
      "Enter number to check prime or not:13\n",
      "i= 2\n",
      "i= 3\n",
      "i= 4\n",
      "i= 5\n",
      "i= 6\n",
      "i= 7\n",
      "i= 8\n",
      "i= 9\n",
      "i= 10\n",
      "i= 11\n",
      "i= 12\n",
      "prime number\n"
     ]
    }
   ],
   "source": [
    "number = raw_input(\"Enter number to check prime or not:\")\n",
    "number = int(number)\n",
    "count=0\n",
    "for i in range(2,number):\n",
    "    print \"i=\",i\n",
    "    if number%i==0:\n",
    "        count = count+1\n",
    "        break\n",
    "if count==0:\n",
    "    print \"prime number\"\n",
    "else:\n",
    "    print \"not a prime number\"\n",
    "    "
   ]
  },
  {
   "cell_type": "code",
   "execution_count": 26,
   "metadata": {
    "collapsed": false
   },
   "outputs": [
    {
     "name": "stdout",
     "output_type": "stream",
     "text": [
      "Enter number to check prime or not:12\n",
      "i= 2\n",
      "2\n"
     ]
    }
   ],
   "source": [
    "number = raw_input(\"Enter number to check prime or not:\")\n",
    "number = int(number)\n",
    "\n",
    "for i in range(2,number):\n",
    "    print \"i=\",i\n",
    "    if number%i==0:\n",
    "        break\n",
    "print i\n"
   ]
  },
  {
   "cell_type": "code",
   "execution_count": 27,
   "metadata": {
    "collapsed": false
   },
   "outputs": [
    {
     "name": "stdout",
     "output_type": "stream",
     "text": [
      "Enter number to check prime or not:13\n",
      "i= 2\n",
      "i= 3\n",
      "i= 4\n",
      "i= 5\n",
      "i= 6\n",
      "i= 7\n",
      "i= 8\n",
      "i= 9\n",
      "i= 10\n",
      "i= 11\n",
      "i= 12\n",
      "12\n"
     ]
    }
   ],
   "source": [
    "number = raw_input(\"Enter number to check prime or not:\")\n",
    "number = int(number)\n",
    "\n",
    "for i in range(2,number):\n",
    "    print \"i=\",i\n",
    "    if number%i==0:\n",
    "        break\n",
    "print i\n"
   ]
  },
  {
   "cell_type": "code",
   "execution_count": 28,
   "metadata": {
    "collapsed": false
   },
   "outputs": [
    {
     "name": "stdout",
     "output_type": "stream",
     "text": [
      "Enter number to check prime or not:12\n",
      "i= 2\n",
      "not a prime\n"
     ]
    }
   ],
   "source": [
    "number = raw_input(\"Enter number to check prime or not:\")\n",
    "number = int(number)\n",
    "\n",
    "for i in range(2,number):\n",
    "    print \"i=\",i\n",
    "    if number%i==0:\n",
    "        break\n",
    "if i==number-1:\n",
    "    print \"prime\"\n",
    "else:\n",
    "    print \"not a prime\""
   ]
  },
  {
   "cell_type": "code",
   "execution_count": 29,
   "metadata": {
    "collapsed": false
   },
   "outputs": [
    {
     "name": "stdout",
     "output_type": "stream",
     "text": [
      "Enter number to check prime or not:13\n",
      "i= 2\n",
      "i= 3\n",
      "i= 4\n",
      "i= 5\n",
      "i= 6\n",
      "i= 7\n",
      "i= 8\n",
      "i= 9\n",
      "i= 10\n",
      "i= 11\n",
      "i= 12\n",
      "prime\n"
     ]
    }
   ],
   "source": [
    "number = raw_input(\"Enter number to check prime or not:\")\n",
    "number = int(number)\n",
    "\n",
    "for i in range(2,number):\n",
    "    print \"i=\",i\n",
    "    if number%i==0:\n",
    "        break\n",
    "if i==number-1:\n",
    "    print \"prime\"\n",
    "else:\n",
    "    print \"not a prime\""
   ]
  },
  {
   "cell_type": "code",
   "execution_count": 30,
   "metadata": {
    "collapsed": false
   },
   "outputs": [
    {
     "name": "stdout",
     "output_type": "stream",
     "text": [
      "Enter number to check prime or not:27\n",
      "i= 2\n",
      "i= 3\n",
      "not a prime\n"
     ]
    }
   ],
   "source": [
    "number = raw_input(\"Enter number to check prime or not:\")\n",
    "number = int(number)\n",
    "\n",
    "for i in range(2,number):\n",
    "    print \"i=\",i\n",
    "    if number%i==0:\n",
    "        break\n",
    "if i==number-1:\n",
    "    print \"prime\"\n",
    "else:\n",
    "    print \"not a prime\""
   ]
  },
  {
   "cell_type": "code",
   "execution_count": 31,
   "metadata": {
    "collapsed": false
   },
   "outputs": [
    {
     "name": "stdout",
     "output_type": "stream",
     "text": [
      "0\n",
      "1\n",
      "2\n",
      "3\n",
      "4\n",
      "5\n",
      "6\n",
      "7\n",
      "8\n",
      "9\n",
      "10\n",
      "11\n",
      "this is else block for for loop\n"
     ]
    }
   ],
   "source": [
    "for i in range(12):\n",
    "    print i\n",
    "else:\n",
    "    print \"this is else block for for loop\""
   ]
  },
  {
   "cell_type": "code",
   "execution_count": 32,
   "metadata": {
    "collapsed": false
   },
   "outputs": [
    {
     "name": "stdout",
     "output_type": "stream",
     "text": [
      "0\n"
     ]
    }
   ],
   "source": [
    "for i in range(12):\n",
    "    print i\n",
    "    break\n",
    "else:\n",
    "    print \"this is else block for for loop\""
   ]
  },
  {
   "cell_type": "code",
   "execution_count": 35,
   "metadata": {
    "collapsed": false
   },
   "outputs": [
    {
     "name": "stdout",
     "output_type": "stream",
     "text": [
      "Enter number to check prime or not:12\n",
      "i= 2\n",
      "it is not a prime number\n"
     ]
    }
   ],
   "source": [
    "number = raw_input(\"Enter number to check prime or not:\")\n",
    "number = int(number)\n",
    "\n",
    "for i in range(2,number):\n",
    "    print \"i=\",i\n",
    "    if number%i==0:\n",
    "        print \"it is not a prime number\"\n",
    "        break\n",
    "else:\n",
    "    print \"given number is a prime number\""
   ]
  },
  {
   "cell_type": "code",
   "execution_count": 36,
   "metadata": {
    "collapsed": false
   },
   "outputs": [
    {
     "name": "stdout",
     "output_type": "stream",
     "text": [
      "Enter number to check prime or not:13\n",
      "i= 2\n",
      "i= 3\n",
      "i= 4\n",
      "i= 5\n",
      "i= 6\n",
      "i= 7\n",
      "i= 8\n",
      "i= 9\n",
      "i= 10\n",
      "i= 11\n",
      "i= 12\n",
      "given number is a prime number\n"
     ]
    }
   ],
   "source": [
    "number = raw_input(\"Enter number to check prime or not:\")\n",
    "number = int(number)\n",
    "\n",
    "for i in range(2,number):\n",
    "    print \"i=\",i\n",
    "    if number%i==0:\n",
    "        print \"it is not a prime number\"\n",
    "        break\n",
    "else:\n",
    "    print \"given number is a prime number\""
   ]
  },
  {
   "cell_type": "code",
   "execution_count": null,
   "metadata": {
    "collapsed": true
   },
   "outputs": [],
   "source": [
    "# wap to find the biggest prime number in the given range\n",
    "# print all primenumbers with in the reange\n",
    "# take a number check whether it is armsrong number\n",
    "# take a number check whether it is perfect number\n"
   ]
  }
 ],
 "metadata": {
  "kernelspec": {
   "display_name": "Python 2",
   "language": "python",
   "name": "python2"
  },
  "language_info": {
   "codemirror_mode": {
    "name": "ipython",
    "version": 2
   },
   "file_extension": ".py",
   "mimetype": "text/x-python",
   "name": "python",
   "nbconvert_exporter": "python",
   "pygments_lexer": "ipython2",
   "version": "2.7.13"
  }
 },
 "nbformat": 4,
 "nbformat_minor": 2
}
