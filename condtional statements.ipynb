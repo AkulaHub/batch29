{
 "cells": [
  {
   "cell_type": "code",
   "execution_count": 1,
   "metadata": {
    "collapsed": false
   },
   "outputs": [
    {
     "name": "stdout",
     "output_type": "stream",
     "text": [
      "True\n"
     ]
    }
   ],
   "source": [
    "a=10\n",
    "b=10+0j\n",
    "print a==b"
   ]
  },
  {
   "cell_type": "code",
   "execution_count": 3,
   "metadata": {
    "collapsed": false
   },
   "outputs": [
    {
     "name": "stdout",
     "output_type": "stream",
     "text": [
      "some statements to starts the program\n",
      "some other statements in the program\n",
      "some statements to end the program\n"
     ]
    }
   ],
   "source": [
    "print \"some statements to starts the program\"\n",
    "if 10>20:\n",
    " print \"10>20 is true\"\n",
    "print \"some other statements in the program\"\n",
    "print \"some statements to end the program\""
   ]
  },
  {
   "cell_type": "code",
   "execution_count": 2,
   "metadata": {
    "collapsed": false
   },
   "outputs": [
    {
     "data": {
      "text/plain": [
       "False"
      ]
     },
     "execution_count": 2,
     "metadata": {},
     "output_type": "execute_result"
    }
   ],
   "source": [
    "10>20"
   ]
  },
  {
   "cell_type": "code",
   "execution_count": 4,
   "metadata": {
    "collapsed": false
   },
   "outputs": [
    {
     "name": "stdout",
     "output_type": "stream",
     "text": [
      "some statements to starts the program\n",
      "10>20 is false\n",
      "some other statements in the program\n",
      "some statements to end the program\n"
     ]
    }
   ],
   "source": [
    "print \"some statements to starts the program\"\n",
    "if 10>20:\n",
    " print \"10>20 is true\"\n",
    "else:\n",
    " print \"10>20 is false\"\n",
    "print \"some other statements in the program\"\n",
    "print \"some statements to end the program\""
   ]
  },
  {
   "cell_type": "code",
   "execution_count": 5,
   "metadata": {
    "collapsed": false
   },
   "outputs": [
    {
     "name": "stdout",
     "output_type": "stream",
     "text": [
      "some statements to starts the program\n",
      "some other statements in the program\n",
      "some statements to end the program\n"
     ]
    }
   ],
   "source": [
    "print \"some statements to starts the program\"\n",
    "if 10>20:\n",
    " print \"10>20 is true\"\n",
    "\n",
    "print \"some other statements in the program\"\n",
    "print \"some statements to end the program\""
   ]
  },
  {
   "cell_type": "code",
   "execution_count": 6,
   "metadata": {
    "collapsed": false
   },
   "outputs": [
    {
     "ename": "IndentationError",
     "evalue": "expected an indented block (<ipython-input-6-bed956688445>, line 5)",
     "output_type": "error",
     "traceback": [
      "\u001b[0;36m  File \u001b[0;32m\"<ipython-input-6-bed956688445>\"\u001b[0;36m, line \u001b[0;32m5\u001b[0m\n\u001b[0;31m    print \"some other statements in the program\"\u001b[0m\n\u001b[0m        ^\u001b[0m\n\u001b[0;31mIndentationError\u001b[0m\u001b[0;31m:\u001b[0m expected an indented block\n"
     ]
    }
   ],
   "source": [
    "print \"some statements to starts the program\"\n",
    "if 10>20:\n",
    " print \"10>20 is true\"\n",
    "else:\n",
    "print \"some other statements in the program\"\n",
    "print \"some statements to end the program\""
   ]
  },
  {
   "cell_type": "code",
   "execution_count": 7,
   "metadata": {
    "collapsed": false
   },
   "outputs": [
    {
     "ename": "IndentationError",
     "evalue": "expected an indented block (<ipython-input-7-3228f9be2dbb>, line 6)",
     "output_type": "error",
     "traceback": [
      "\u001b[0;36m  File \u001b[0;32m\"<ipython-input-7-3228f9be2dbb>\"\u001b[0;36m, line \u001b[0;32m6\u001b[0m\n\u001b[0;31m    print \"some other statements in the program\"\u001b[0m\n\u001b[0m        ^\u001b[0m\n\u001b[0;31mIndentationError\u001b[0m\u001b[0;31m:\u001b[0m expected an indented block\n"
     ]
    }
   ],
   "source": [
    "print \"some statements to starts the program\"\n",
    "if 10>20:\n",
    " print \"10>20 is true\"\n",
    "else:\n",
    " \n",
    "print \"some other statements in the program\"\n",
    "print \"some statements to end the program\""
   ]
  },
  {
   "cell_type": "code",
   "execution_count": 8,
   "metadata": {
    "collapsed": false
   },
   "outputs": [
    {
     "name": "stdout",
     "output_type": "stream",
     "text": [
      "some statements to starts the program\n",
      "some other statements in the program\n",
      "some statements to end the program\n"
     ]
    }
   ],
   "source": [
    "print \"some statements to starts the program\"\n",
    "if 10>20:\n",
    " print \"10>20 is true\"\n",
    "else:\n",
    " pass\n",
    "print \"some other statements in the program\"\n",
    "print \"some statements to end the program\""
   ]
  },
  {
   "cell_type": "code",
   "execution_count": 9,
   "metadata": {
    "collapsed": false
   },
   "outputs": [
    {
     "name": "stdout",
     "output_type": "stream",
     "text": [
      "some statements to starts the program\n",
      "else block\n",
      "some other statements in the program\n",
      "some statements to end the program\n"
     ]
    }
   ],
   "source": [
    "print \"some statements to starts the program\"\n",
    "if 10>20:\n",
    " print \"10>20 is true\"\n",
    "else:\n",
    " pass\n",
    " print \"else block\"\n",
    "print \"some other statements in the program\"\n",
    "print \"some statements to end the program\""
   ]
  },
  {
   "cell_type": "code",
   "execution_count": 10,
   "metadata": {
    "collapsed": false
   },
   "outputs": [
    {
     "name": "stdout",
     "output_type": "stream",
     "text": [
      "some statements to starts the program\n",
      "else block\n",
      "10>20 is false\n",
      "else blcok ended\n",
      "some other statements in the program\n",
      "some statements to end the program\n"
     ]
    }
   ],
   "source": [
    "print \"some statements to starts the program\"\n",
    "if 10>20:\n",
    "    print \"if block started\"\n",
    "    print \"10>20 is true\"\n",
    "    print \"if block ended\"\n",
    "else:\n",
    "    print \"else block\"\n",
    "    print \"10>20 is false\"\n",
    "    print \"else blcok ended\"\n",
    "print \"some other statements in the program\"\n",
    "print \"some statements to end the program\""
   ]
  },
  {
   "cell_type": "code",
   "execution_count": 11,
   "metadata": {
    "collapsed": false
   },
   "outputs": [
    {
     "name": "stdout",
     "output_type": "stream",
     "text": [
      "some statements to starts the program\n",
      "else block\n",
      "10>20 is false\n",
      "else blcok ended\n",
      "some other statements in the program\n",
      "some statements to end the program\n"
     ]
    }
   ],
   "source": [
    "print \"some statements to starts the program\"\n",
    "if 10>20:\n",
    "    print \"if block started\"\n",
    "    print \"10>20 is true\"\n",
    "    print \"if block ended\"\n",
    "else:\n",
    " print \"else block\"\n",
    " print \"10>20 is false\"\n",
    " print \"else blcok ended\"\n",
    "print \"some other statements in the program\"\n",
    "print \"some statements to end the program\""
   ]
  },
  {
   "cell_type": "code",
   "execution_count": 12,
   "metadata": {
    "collapsed": false
   },
   "outputs": [
    {
     "name": "stdout",
     "output_type": "stream",
     "text": [
      "some statements to starts the program\n",
      "if block ended\n"
     ]
    }
   ],
   "source": [
    "print \"some statements to starts the program\"\n",
    "if 10>20:\n",
    "    print \"if block started\"\n",
    "    print \"10>20 is true\"\n",
    "print \"if block ended\""
   ]
  },
  {
   "cell_type": "code",
   "execution_count": 13,
   "metadata": {
    "collapsed": false
   },
   "outputs": [
    {
     "ename": "SyntaxError",
     "evalue": "invalid syntax (<ipython-input-13-6c74ca163bda>, line 6)",
     "output_type": "error",
     "traceback": [
      "\u001b[0;36m  File \u001b[0;32m\"<ipython-input-13-6c74ca163bda>\"\u001b[0;36m, line \u001b[0;32m6\u001b[0m\n\u001b[0;31m    else:\u001b[0m\n\u001b[0m       ^\u001b[0m\n\u001b[0;31mSyntaxError\u001b[0m\u001b[0;31m:\u001b[0m invalid syntax\n"
     ]
    }
   ],
   "source": [
    "print \"some statements to starts the program\"\n",
    "if 10>20:\n",
    "    print \"if block started\"\n",
    "    print \"10>20 is true\"\n",
    "print \"if block ended\"\n",
    "else:\n",
    " print \"else block\"\n",
    " print \"10>20 is false\"\n",
    " print \"else blcok ended\"\n",
    "print \"some other statements in the program\"\n",
    "print \"some statements to end the program\""
   ]
  },
  {
   "cell_type": "code",
   "execution_count": 14,
   "metadata": {
    "collapsed": false
   },
   "outputs": [
    {
     "ename": "IndentationError",
     "evalue": "unexpected indent (<ipython-input-14-cf667f493e89>, line 4)",
     "output_type": "error",
     "traceback": [
      "\u001b[0;36m  File \u001b[0;32m\"<ipython-input-14-cf667f493e89>\"\u001b[0;36m, line \u001b[0;32m4\u001b[0m\n\u001b[0;31m    print \"10>20 is true\"\u001b[0m\n\u001b[0m    ^\u001b[0m\n\u001b[0;31mIndentationError\u001b[0m\u001b[0;31m:\u001b[0m unexpected indent\n"
     ]
    }
   ],
   "source": [
    "print \"some statements to starts the program\"\n",
    "if 10>20:\n",
    " print \"if block started\"\n",
    "    print \"10>20 is true\"\n",
    "    print \"if block ended\"\n",
    "else:\n",
    " print \"else block\"\n",
    " print \"10>20 is false\"\n",
    " print \"else blcok ended\"\n",
    "print \"some other statements in the program\"\n",
    "print \"some statements to end the program\""
   ]
  },
  {
   "cell_type": "code",
   "execution_count": 15,
   "metadata": {
    "collapsed": false
   },
   "outputs": [
    {
     "name": "stdout",
     "output_type": "stream",
     "text": [
      "helo world\n"
     ]
    }
   ],
   "source": [
    "print \"helo world\""
   ]
  },
  {
   "cell_type": "code",
   "execution_count": 16,
   "metadata": {
    "collapsed": false
   },
   "outputs": [
    {
     "ename": "SyntaxError",
     "evalue": "EOL while scanning string literal (<ipython-input-16-bcc3c185e0fa>, line 1)",
     "output_type": "error",
     "traceback": [
      "\u001b[0;36m  File \u001b[0;32m\"<ipython-input-16-bcc3c185e0fa>\"\u001b[0;36m, line \u001b[0;32m1\u001b[0m\n\u001b[0;31m    print \"hello\u001b[0m\n\u001b[0m               ^\u001b[0m\n\u001b[0;31mSyntaxError\u001b[0m\u001b[0;31m:\u001b[0m EOL while scanning string literal\n"
     ]
    }
   ],
   "source": [
    "print \"hello\n",
    "world \""
   ]
  },
  {
   "cell_type": "code",
   "execution_count": 17,
   "metadata": {
    "collapsed": false
   },
   "outputs": [
    {
     "name": "stdout",
     "output_type": "stream",
     "text": [
      "hello world \n"
     ]
    }
   ],
   "source": [
    "print \"hello \\\n",
    "world \""
   ]
  },
  {
   "cell_type": "code",
   "execution_count": 18,
   "metadata": {
    "collapsed": false
   },
   "outputs": [
    {
     "name": "stdout",
     "output_type": "stream",
     "text": [
      "\n",
      "    hello \n",
      "    world \n",
      "\n"
     ]
    }
   ],
   "source": [
    "print \"\"\"\n",
    "    hello \n",
    "    world \n",
    "\"\"\""
   ]
  },
  {
   "cell_type": "code",
   "execution_count": 19,
   "metadata": {
    "collapsed": false
   },
   "outputs": [
    {
     "name": "stdout",
     "output_type": "stream",
     "text": [
      "\n",
      "    hello \n",
      "            world \n",
      "\n"
     ]
    }
   ],
   "source": [
    "print \"\"\"\n",
    "    hello \n",
    "            world \n",
    "\"\"\""
   ]
  },
  {
   "cell_type": "code",
   "execution_count": 20,
   "metadata": {
    "collapsed": false
   },
   "outputs": [
    {
     "name": "stdout",
     "output_type": "stream",
     "text": [
      "Name: Anil\n"
     ]
    }
   ],
   "source": [
    "name=\"Anil\"\n",
    "age=23\n",
    "height=5.6\n",
    "# Name: Anil, Age:23, Height: 5.6\n",
    "print \"Name:\",name"
   ]
  },
  {
   "cell_type": "code",
   "execution_count": 21,
   "metadata": {
    "collapsed": false
   },
   "outputs": [
    {
     "name": "stdout",
     "output_type": "stream",
     "text": [
      "Name: Anil Age: 23 Height: 5.6\n"
     ]
    }
   ],
   "source": [
    "name=\"Anil\"\n",
    "age=23\n",
    "height=5.6\n",
    "# Name: Anil, Age:23, Height: 5.6\n",
    "print \"Name:\",name,\"Age:\",age,\"Height:\",height"
   ]
  },
  {
   "cell_type": "code",
   "execution_count": 22,
   "metadata": {
    "collapsed": false
   },
   "outputs": [
    {
     "name": "stdout",
     "output_type": "stream",
     "text": [
      "Name: Anil , Age: 23 , Height: 5.6\n"
     ]
    }
   ],
   "source": [
    "name=\"Anil\"\n",
    "age=23\n",
    "height=5.6\n",
    "# Name: Anil, Age:23, Height: 5.6\n",
    "print \"Name:\",name,\", Age:\",age,\", Height:\",height"
   ]
  },
  {
   "cell_type": "code",
   "execution_count": 23,
   "metadata": {
    "collapsed": false
   },
   "outputs": [
    {
     "name": "stdout",
     "output_type": "stream",
     "text": [
      "Name: Anil ,Age: 23 ,Height: 5.6\n"
     ]
    }
   ],
   "source": [
    "name=\"Anil\"\n",
    "age=23\n",
    "height=5.6\n",
    "# Name: Anil, Age:23, Height: 5.6\n",
    "print \"Name:\",name,\",Age:\",age,\",Height:\",height"
   ]
  },
  {
   "cell_type": "code",
   "execution_count": 24,
   "metadata": {
    "collapsed": false
   },
   "outputs": [
    {
     "ename": "SyntaxError",
     "evalue": "invalid syntax (<ipython-input-24-631df12d110c>, line 5)",
     "output_type": "error",
     "traceback": [
      "\u001b[0;36m  File \u001b[0;32m\"<ipython-input-24-631df12d110c>\"\u001b[0;36m, line \u001b[0;32m5\u001b[0m\n\u001b[0;31m    print \"Name:\",\",\"name,\",Age:\",age,\",Height:\",height\u001b[0m\n\u001b[0m                        ^\u001b[0m\n\u001b[0;31mSyntaxError\u001b[0m\u001b[0;31m:\u001b[0m invalid syntax\n"
     ]
    }
   ],
   "source": [
    "name=\"Anil\"\n",
    "age=23\n",
    "height=5.6\n",
    "# Name: Anil, Age:23, Height: 5.6\n",
    "print \"Name:\",\",\"name,\",Age:\",age,\",Height:\",height"
   ]
  },
  {
   "cell_type": "code",
   "execution_count": 25,
   "metadata": {
    "collapsed": false
   },
   "outputs": [
    {
     "name": "stdout",
     "output_type": "stream",
     "text": [
      "Name: name\n"
     ]
    }
   ],
   "source": [
    "print \"Name: name\""
   ]
  },
  {
   "cell_type": "code",
   "execution_count": 26,
   "metadata": {
    "collapsed": false
   },
   "outputs": [
    {
     "ename": "SyntaxError",
     "evalue": "invalid syntax (<ipython-input-26-ee67461543c1>, line 1)",
     "output_type": "error",
     "traceback": [
      "\u001b[0;36m  File \u001b[0;32m\"<ipython-input-26-ee67461543c1>\"\u001b[0;36m, line \u001b[0;32m1\u001b[0m\n\u001b[0;31m    print \"Name:\"name\u001b[0m\n\u001b[0m                    ^\u001b[0m\n\u001b[0;31mSyntaxError\u001b[0m\u001b[0;31m:\u001b[0m invalid syntax\n"
     ]
    }
   ],
   "source": [
    "print \"Name:\"name"
   ]
  },
  {
   "cell_type": "code",
   "execution_count": 27,
   "metadata": {
    "collapsed": true
   },
   "outputs": [],
   "source": [
    "res=\"Name:\"+name"
   ]
  },
  {
   "cell_type": "code",
   "execution_count": 28,
   "metadata": {
    "collapsed": false
   },
   "outputs": [
    {
     "data": {
      "text/plain": [
       "'Name:Anil'"
      ]
     },
     "execution_count": 28,
     "metadata": {},
     "output_type": "execute_result"
    }
   ],
   "source": [
    "res"
   ]
  },
  {
   "cell_type": "code",
   "execution_count": 30,
   "metadata": {
    "collapsed": false
   },
   "outputs": [
    {
     "name": "stdout",
     "output_type": "stream",
     "text": [
      "Name:Anil\n"
     ]
    }
   ],
   "source": [
    "print res"
   ]
  },
  {
   "cell_type": "code",
   "execution_count": 31,
   "metadata": {
    "collapsed": false
   },
   "outputs": [
    {
     "name": "stdout",
     "output_type": "stream",
     "text": [
      "Name:Anil\n"
     ]
    }
   ],
   "source": [
    "print \"Name:\"+name"
   ]
  },
  {
   "cell_type": "code",
   "execution_count": 32,
   "metadata": {
    "collapsed": false
   },
   "outputs": [
    {
     "name": "stdout",
     "output_type": "stream",
     "text": [
      "Name: Anil, Age:"
     ]
    },
    {
     "ename": "TypeError",
     "evalue": "unsupported operand type(s) for +: 'int' and 'str'",
     "output_type": "error",
     "traceback": [
      "\u001b[0;31m---------------------------------------------------------------------------\u001b[0m",
      "\u001b[0;31mTypeError\u001b[0m                                 Traceback (most recent call last)",
      "\u001b[0;32m<ipython-input-32-e93630f63585>\u001b[0m in \u001b[0;36m<module>\u001b[0;34m()\u001b[0m\n\u001b[1;32m      3\u001b[0m \u001b[0mheight\u001b[0m\u001b[0;34m=\u001b[0m\u001b[0;36m5.6\u001b[0m\u001b[0;34m\u001b[0m\u001b[0m\n\u001b[1;32m      4\u001b[0m \u001b[0;31m# Name: Anil, Age:23, Height: 5.6\u001b[0m\u001b[0;34m\u001b[0m\u001b[0;34m\u001b[0m\u001b[0m\n\u001b[0;32m----> 5\u001b[0;31m \u001b[0;32mprint\u001b[0m \u001b[0;34m\"Name:\"\u001b[0m\u001b[0;34m,\u001b[0m\u001b[0mname\u001b[0m\u001b[0;34m+\u001b[0m\u001b[0;34m\", Age:\"\u001b[0m\u001b[0;34m,\u001b[0m\u001b[0mage\u001b[0m\u001b[0;34m+\u001b[0m\u001b[0;34m\", Height:\"\u001b[0m\u001b[0;34m,\u001b[0m\u001b[0mheight\u001b[0m\u001b[0;34m\u001b[0m\u001b[0m\n\u001b[0m",
      "\u001b[0;31mTypeError\u001b[0m: unsupported operand type(s) for +: 'int' and 'str'"
     ]
    }
   ],
   "source": [
    "name=\"Anil\"\n",
    "age=23\n",
    "height=5.6\n",
    "# Name: Anil, Age:23, Height: 5.6\n",
    "print \"Name:\",name+\", Age:\",age+\", Height:\",height"
   ]
  },
  {
   "cell_type": "code",
   "execution_count": 33,
   "metadata": {
    "collapsed": false
   },
   "outputs": [
    {
     "name": "stdout",
     "output_type": "stream",
     "text": [
      " Name: Anil, Age:\n"
     ]
    }
   ],
   "source": [
    "name=\"Anil\"\n",
    "age=23\n",
    "height=5.6\n",
    "# Name: Anil, Age:23, Height: 5.6\n",
    "print \"Name:\",name+\", Age:\""
   ]
  },
  {
   "cell_type": "code",
   "execution_count": 36,
   "metadata": {
    "collapsed": false
   },
   "outputs": [
    {
     "name": "stdout",
     "output_type": "stream",
     "text": [
      "Name: Anil, Age: 23, Height: 5.6\n"
     ]
    }
   ],
   "source": [
    "name=\"Anil\"\n",
    "age=23\n",
    "height=5.6\n",
    "# Name: Anil, Age:23, Height: 5.6\n",
    "'''\n",
    "multi line startements\n",
    "'''\n",
    "print \"Name:\",name+\", Age:\",str(age)+\", Height:\",height"
   ]
  },
  {
   "cell_type": "code",
   "execution_count": 35,
   "metadata": {
    "collapsed": false
   },
   "outputs": [
    {
     "name": "stdout",
     "output_type": "stream",
     "text": [
      "10 product cost\n"
     ]
    }
   ],
   "source": [
    "a=10\n",
    "b=\"product cost\"\n",
    "print a,b"
   ]
  },
  {
   "cell_type": "code",
   "execution_count": 37,
   "metadata": {
    "collapsed": false
   },
   "outputs": [
    {
     "name": "stdout",
     "output_type": "stream",
     "text": [
      "0x38e7\n"
     ]
    }
   ],
   "source": [
    "\n",
    "a=14567\n",
    "print hex(a)"
   ]
  },
  {
   "cell_type": "code",
   "execution_count": 38,
   "metadata": {
    "collapsed": false
   },
   "outputs": [
    {
     "name": "stdout",
     "output_type": "stream",
     "text": [
      "%x 14567\n"
     ]
    }
   ],
   "source": [
    "# format specifiers\n",
    "a=14567\n",
    "print \"%x\",a"
   ]
  },
  {
   "cell_type": "code",
   "execution_count": 39,
   "metadata": {
    "collapsed": false
   },
   "outputs": [
    {
     "name": "stdout",
     "output_type": "stream",
     "text": [
      "38e7\n"
     ]
    }
   ],
   "source": [
    "# format specifiers\n",
    "a=14567\n",
    "print \"%x\"%a"
   ]
  },
  {
   "cell_type": "code",
   "execution_count": 40,
   "metadata": {
    "collapsed": false
   },
   "outputs": [
    {
     "name": "stdout",
     "output_type": "stream",
     "text": [
      "hexa decimal format: 38e7\n"
     ]
    }
   ],
   "source": [
    "# format specifiers\n",
    "a=14567\n",
    "print \"hexa decimal format: %x\"%a"
   ]
  },
  {
   "cell_type": "code",
   "execution_count": 41,
   "metadata": {
    "collapsed": false
   },
   "outputs": [
    {
     "name": "stdout",
     "output_type": "stream",
     "text": [
      "Product cost: 23.456780\n"
     ]
    }
   ],
   "source": [
    "# %s, %d, %f\n",
    "cost=23.45678\n",
    "# product cost: 23.46\n",
    "print \"Product cost: %f\"%cost"
   ]
  },
  {
   "cell_type": "code",
   "execution_count": 42,
   "metadata": {
    "collapsed": false
   },
   "outputs": [
    {
     "name": "stdout",
     "output_type": "stream",
     "text": [
      "Product cost: 23.46\n"
     ]
    }
   ],
   "source": [
    "# %s, %d, %f\n",
    "cost=23.45678\n",
    "# product cost: 23.46\n",
    "print \"Product cost: %.2f\"%cost"
   ]
  },
  {
   "cell_type": "code",
   "execution_count": 43,
   "metadata": {
    "collapsed": false
   },
   "outputs": [
    {
     "name": "stdout",
     "output_type": "stream",
     "text": [
      "Product cost: 23\n"
     ]
    }
   ],
   "source": [
    "# %s, %d, %f\n",
    "cost=23.45678\n",
    "# product cost: 23.46\n",
    "print \"Product cost: %d\"%cost"
   ]
  },
  {
   "cell_type": "code",
   "execution_count": 44,
   "metadata": {
    "collapsed": false
   },
   "outputs": [
    {
     "name": "stdout",
     "output_type": "stream",
     "text": [
      "Product cost: 23\n"
     ]
    }
   ],
   "source": [
    "# %s, %d, %f\n",
    "cost=23.45678\n",
    "cost_int = int(cost)\n",
    "# product cost: 23.46\n",
    "print \"Product cost:\",cost_int"
   ]
  },
  {
   "cell_type": "code",
   "execution_count": 45,
   "metadata": {
    "collapsed": false
   },
   "outputs": [
    {
     "ename": "TypeError",
     "evalue": "cannot concatenate 'str' and 'int' objects",
     "output_type": "error",
     "traceback": [
      "\u001b[0;31m---------------------------------------------------------------------------\u001b[0m",
      "\u001b[0;31mTypeError\u001b[0m                                 Traceback (most recent call last)",
      "\u001b[0;32m<ipython-input-45-da5ba8c466c4>\u001b[0m in \u001b[0;36m<module>\u001b[0;34m()\u001b[0m\n\u001b[1;32m      3\u001b[0m \u001b[0mcost_int\u001b[0m \u001b[0;34m=\u001b[0m \u001b[0mint\u001b[0m\u001b[0;34m(\u001b[0m\u001b[0mcost\u001b[0m\u001b[0;34m)\u001b[0m\u001b[0;34m\u001b[0m\u001b[0m\n\u001b[1;32m      4\u001b[0m \u001b[0;31m# product cost: 23.46\u001b[0m\u001b[0;34m\u001b[0m\u001b[0;34m\u001b[0m\u001b[0m\n\u001b[0;32m----> 5\u001b[0;31m \u001b[0;32mprint\u001b[0m \u001b[0;34m\"Product cost:\"\u001b[0m\u001b[0;34m+\u001b[0m\u001b[0mcost_int\u001b[0m\u001b[0;34m\u001b[0m\u001b[0m\n\u001b[0m",
      "\u001b[0;31mTypeError\u001b[0m: cannot concatenate 'str' and 'int' objects"
     ]
    }
   ],
   "source": [
    "# %s, %d, %f\n",
    "cost=23.45678\n",
    "cost_int = int(cost)\n",
    "# product cost: 23.46\n",
    "print \"Product cost:\"+cost_int"
   ]
  },
  {
   "cell_type": "code",
   "execution_count": 46,
   "metadata": {
    "collapsed": false
   },
   "outputs": [
    {
     "name": "stdout",
     "output_type": "stream",
     "text": [
      "Product cost:23\n"
     ]
    }
   ],
   "source": [
    "# %s, %d, %f\n",
    "cost=23.45678\n",
    "cost_int = int(cost)\n",
    "# product cost: 23.46\n",
    "print \"Product cost:\"+str(cost_int)"
   ]
  },
  {
   "cell_type": "code",
   "execution_count": 47,
   "metadata": {
    "collapsed": false
   },
   "outputs": [
    {
     "name": "stdout",
     "output_type": "stream",
     "text": [
      "Product cost:23\n"
     ]
    }
   ],
   "source": [
    "# %s, %d, %f\n",
    "cost=23.45678\n",
    "# product cost: 23.46\n",
    "print \"Product cost:%d\"%cost"
   ]
  },
  {
   "cell_type": "code",
   "execution_count": 48,
   "metadata": {
    "collapsed": false
   },
   "outputs": [
    {
     "name": "stdout",
     "output_type": "stream",
     "text": [
      "Octal:30071\n"
     ]
    }
   ],
   "source": [
    "print \"Octal:%o\"%12345"
   ]
  },
  {
   "cell_type": "code",
   "execution_count": 49,
   "metadata": {
    "collapsed": false
   },
   "outputs": [
    {
     "name": "stdout",
     "output_type": "stream",
     "text": [
      "product cost:12.34\n"
     ]
    }
   ],
   "source": [
    "a=12.34\n",
    "print \"product cost:\"+str(a)"
   ]
  },
  {
   "cell_type": "code",
   "execution_count": 50,
   "metadata": {
    "collapsed": false
   },
   "outputs": [
    {
     "name": "stdout",
     "output_type": "stream",
     "text": [
      "product cost:12.34\n"
     ]
    }
   ],
   "source": [
    "a=12.34\n",
    "print \"product cost:%s\"%a"
   ]
  },
  {
   "cell_type": "code",
   "execution_count": 51,
   "metadata": {
    "collapsed": false
   },
   "outputs": [
    {
     "name": "stdout",
     "output_type": "stream",
     "text": [
      "Name: Anil, Age: 23, Height: 5.6\n",
      "Name: Anil, Age: 23, Height: 5.6\n"
     ]
    }
   ],
   "source": [
    "name=\"Anil\"\n",
    "age=23\n",
    "height=5.6\n",
    "# Name: Anil, Age:23, Height: 5.6\n",
    "'''\n",
    "multi line startements\n",
    "'''\n",
    "print \"Name:\",name+\", Age:\",str(age)+\", Height:\",height\n",
    "print \"Name: %s, Age: %s, Height: %s\"%(name, age, height)"
   ]
  },
  {
   "cell_type": "code",
   "execution_count": 52,
   "metadata": {
    "collapsed": false
   },
   "outputs": [
    {
     "name": "stdout",
     "output_type": "stream",
     "text": [
      "Name: Anil, Age: 23, Height: 5.6\n",
      "Name: Anil, Age: 5.6, Height: 23\n"
     ]
    }
   ],
   "source": [
    "name=\"Anil\"\n",
    "age=23\n",
    "height=5.6\n",
    "# Name: Anil, Age:23, Height: 5.6\n",
    "'''\n",
    "multi line startements\n",
    "'''\n",
    "print \"Name:\",name+\", Age:\",str(age)+\", Height:\",height\n",
    "print \"Name: %s, Age: %s, Height: %s\"%(name, height, age)"
   ]
  },
  {
   "cell_type": "code",
   "execution_count": 53,
   "metadata": {
    "collapsed": false
   },
   "outputs": [
    {
     "name": "stdout",
     "output_type": "stream",
     "text": [
      "Product cost:23\n"
     ]
    }
   ],
   "source": [
    "# %s, %d, %f\n",
    "cost=23.45678\n",
    "# product cost: 23.46\n",
    "print \"Product cost:%d\"%cost"
   ]
  },
  {
   "cell_type": "code",
   "execution_count": 54,
   "metadata": {
    "collapsed": false
   },
   "outputs": [
    {
     "name": "stdout",
     "output_type": "stream",
     "text": [
      "Product cost:   23\n"
     ]
    }
   ],
   "source": [
    "# %s, %d, %f\n",
    "cost=23.45678\n",
    "# product cost: 23.46\n",
    "print \"Product cost:%5d\"%cost"
   ]
  },
  {
   "cell_type": "code",
   "execution_count": 55,
   "metadata": {
    "collapsed": false
   },
   "outputs": [
    {
     "name": "stdout",
     "output_type": "stream",
     "text": [
      "line1\n",
      "line2\n"
     ]
    }
   ],
   "source": [
    "print \"line1\"\n",
    "print \"line2\""
   ]
  },
  {
   "cell_type": "code",
   "execution_count": 56,
   "metadata": {
    "collapsed": false
   },
   "outputs": [
    {
     "name": "stdout",
     "output_type": "stream",
     "text": [
      "line1\n",
      "line2\n"
     ]
    }
   ],
   "source": [
    "print \"line1\\nline2\""
   ]
  },
  {
   "cell_type": "code",
   "execution_count": 57,
   "metadata": {
    "collapsed": false
   },
   "outputs": [
    {
     "name": "stdout",
     "output_type": "stream",
     "text": [
      "line1\n",
      "line2\t tabspace\n"
     ]
    }
   ],
   "source": [
    "print \"line1\\nline2\\t tabspace\""
   ]
  },
  {
   "cell_type": "code",
   "execution_count": 58,
   "metadata": {
    "collapsed": false
   },
   "outputs": [
    {
     "name": "stdout",
     "output_type": "stream",
     "text": [
      "line1\\nline2\\ttabspace\n"
     ]
    }
   ],
   "source": [
    "print \"line1\\\\nline2\\\\ttabspace\""
   ]
  },
  {
   "cell_type": "code",
   "execution_count": 59,
   "metadata": {
    "collapsed": false
   },
   "outputs": [
    {
     "name": "stdout",
     "output_type": "stream",
     "text": [
      "sdkfjsdf\\nsdfsd\\tdfjfjks\\nsdfsf\\tsdfsf\n"
     ]
    }
   ],
   "source": [
    "print r'sdkfjsdf\\nsdfsd\\tdfjfjks\\nsdfsf\\tsdfsf'"
   ]
  },
  {
   "cell_type": "code",
   "execution_count": 60,
   "metadata": {
    "collapsed": false
   },
   "outputs": [
    {
     "name": "stdout",
     "output_type": "stream",
     "text": [
      "it's a cool day\n"
     ]
    }
   ],
   "source": [
    "# it's a cool day\n",
    "print \"it's a cool day\""
   ]
  },
  {
   "cell_type": "code",
   "execution_count": 61,
   "metadata": {
    "collapsed": false
   },
   "outputs": [
    {
     "ename": "SyntaxError",
     "evalue": "invalid syntax (<ipython-input-61-c92531e46ab5>, line 2)",
     "output_type": "error",
     "traceback": [
      "\u001b[0;36m  File \u001b[0;32m\"<ipython-input-61-c92531e46ab5>\"\u001b[0;36m, line \u001b[0;32m2\u001b[0m\n\u001b[0;31m    print 'it's a cool day'\u001b[0m\n\u001b[0m              ^\u001b[0m\n\u001b[0;31mSyntaxError\u001b[0m\u001b[0;31m:\u001b[0m invalid syntax\n"
     ]
    }
   ],
   "source": [
    "# it's a cool day\n",
    "print 'it's a cool day'"
   ]
  },
  {
   "cell_type": "code",
   "execution_count": 62,
   "metadata": {
    "collapsed": false
   },
   "outputs": [
    {
     "name": "stdout",
     "output_type": "stream",
     "text": [
      "it's a cool day\n"
     ]
    }
   ],
   "source": [
    "# it's a cool day\n",
    "print 'it\\'s a cool day'"
   ]
  },
  {
   "cell_type": "code",
   "execution_count": 63,
   "metadata": {
    "collapsed": false
   },
   "outputs": [
    {
     "ename": "SyntaxError",
     "evalue": "invalid syntax (<ipython-input-63-a1c4612fff93>, line 2)",
     "output_type": "error",
     "traceback": [
      "\u001b[0;36m  File \u001b[0;32m\"<ipython-input-63-a1c4612fff93>\"\u001b[0;36m, line \u001b[0;32m2\u001b[0m\n\u001b[0;31m    print r'it's a cool day'\u001b[0m\n\u001b[0m               ^\u001b[0m\n\u001b[0;31mSyntaxError\u001b[0m\u001b[0;31m:\u001b[0m invalid syntax\n"
     ]
    }
   ],
   "source": [
    "# it's a cool day\n",
    "print r'it's a cool day'"
   ]
  },
  {
   "cell_type": "code",
   "execution_count": 64,
   "metadata": {
    "collapsed": false
   },
   "outputs": [
    {
     "name": "stdout",
     "output_type": "stream",
     "text": [
      "\n",
      "   1\n",
      "2 4 5 6\n",
      "    8\n",
      "9 10 11 12\n",
      "\n"
     ]
    }
   ],
   "source": [
    "print \"\"\"\n",
    "   1\n",
    "2 4 5 6\n",
    "    8\n",
    "9 10 11 12\n",
    "\"\"\""
   ]
  },
  {
   "cell_type": "code",
   "execution_count": 65,
   "metadata": {
    "collapsed": false
   },
   "outputs": [
    {
     "name": "stdout",
     "output_type": "stream",
     "text": [
      "   12 4 5 6    89 10 11 12\n"
     ]
    }
   ],
   "source": [
    "print \"\\\n",
    "   1\\\n",
    "2 4 5 6\\\n",
    "    8\\\n",
    "9 10 11 12\\\n",
    "\""
   ]
  },
  {
   "cell_type": "code",
   "execution_count": 66,
   "metadata": {
    "collapsed": false
   },
   "outputs": [
    {
     "name": "stdout",
     "output_type": "stream",
     "text": [
      "\n",
      "   1\n",
      "2 4 5 6\n",
      "    89 10 11 12\n",
      "\n"
     ]
    }
   ],
   "source": [
    "print \"\\n\\\n",
    "   1\\n\\\n",
    "2 4 5 6\\n\\\n",
    "    8\\\n",
    "9 10 11 12\\n\\\n",
    "\""
   ]
  },
  {
   "cell_type": "code",
   "execution_count": 67,
   "metadata": {
    "collapsed": false
   },
   "outputs": [
    {
     "name": "stdout",
     "output_type": "stream",
     "text": [
      "\n"
     ]
    }
   ],
   "source": [
    "\"\"\"\n",
    "Mobile os:\n",
    "    1.Android\n",
    "    2.ios\n",
    "    3.windows\n",
    "\"\"\"\n",
    "print "
   ]
  },
  {
   "cell_type": "code",
   "execution_count": 68,
   "metadata": {
    "collapsed": false
   },
   "outputs": [
    {
     "name": "stdout",
     "output_type": "stream",
     "text": [
      "Mobile os:\n",
      "\t1.Android\n",
      "\t2.ios\n",
      "\t3.windows\n"
     ]
    }
   ],
   "source": [
    "print \"Mobile os:\\n\\t1.Android\\n\\t2.ios\\n\\t3.windows\""
   ]
  },
  {
   "cell_type": "code",
   "execution_count": 69,
   "metadata": {
    "collapsed": false
   },
   "outputs": [
    {
     "name": "stdout",
     "output_type": "stream",
     "text": [
      "Mobile os:\n",
      "\t1.Android\n",
      "\t2.ios\n",
      "\t3.windows\n",
      "enter an option:1\n",
      "1\n"
     ]
    }
   ],
   "source": [
    "print \"Mobile os:\\n\\t1.Android\\n\\t2.ios\\n\\t3.windows\"\n",
    "opt=raw_input(\"enter an option:\")\n",
    "print opt"
   ]
  },
  {
   "cell_type": "code",
   "execution_count": 70,
   "metadata": {
    "collapsed": false
   },
   "outputs": [
    {
     "name": "stdout",
     "output_type": "stream",
     "text": [
      "Mobile os:\n",
      "\t1.Android\n",
      "\t2.ios\n",
      "\t3.windows\n",
      "enter an option:1\n"
     ]
    }
   ],
   "source": [
    "print \"Mobile os:\\n\\t1.Android\\n\\t2.ios\\n\\t3.windows\"\n",
    "opt=raw_input(\"enter an option:\")\n",
    "if opt==1:\n",
    "    print \"Selected andriod\"\n",
    "    print \"info for android\"\n",
    "if opt==2:\n",
    "    print \"Selected ios\"\n",
    "    print \"info for ios\"\n",
    "if opt==3:\n",
    "    print \"Selected windows\"\n",
    "    print \"info for windows\""
   ]
  },
  {
   "cell_type": "code",
   "execution_count": 71,
   "metadata": {
    "collapsed": false
   },
   "outputs": [
    {
     "data": {
      "text/plain": [
       "False"
      ]
     },
     "execution_count": 71,
     "metadata": {},
     "output_type": "execute_result"
    }
   ],
   "source": [
    "\"1\"==1"
   ]
  },
  {
   "cell_type": "code",
   "execution_count": 72,
   "metadata": {
    "collapsed": false
   },
   "outputs": [
    {
     "name": "stdout",
     "output_type": "stream",
     "text": [
      "Mobile os:\n",
      "\t1.Android\n",
      "\t2.ios\n",
      "\t3.windows\n",
      "enter an option:1\n",
      "Selected andriod\n",
      "info for android\n"
     ]
    }
   ],
   "source": [
    "print \"Mobile os:\\n\\t1.Android\\n\\t2.ios\\n\\t3.windows\"\n",
    "opt=raw_input(\"enter an option:\")\n",
    "if opt==\"1\":\n",
    "    print \"Selected andriod\"\n",
    "    print \"info for android\"\n",
    "if opt==\"2\":\n",
    "    print \"Selected ios\"\n",
    "    print \"info for ios\"\n",
    "if opt==\"3\":\n",
    "    print \"Selected windows\"\n",
    "    print \"info for windows\""
   ]
  },
  {
   "cell_type": "code",
   "execution_count": 73,
   "metadata": {
    "collapsed": false
   },
   "outputs": [
    {
     "name": "stdout",
     "output_type": "stream",
     "text": [
      "Mobile os:\n",
      "\t1.Android\n",
      "\t2.ios\n",
      "\t3.windows\n",
      "enter an option:2\n",
      "Selected ios\n",
      "info for ios\n"
     ]
    }
   ],
   "source": [
    "print \"Mobile os:\\n\\t1.Android\\n\\t2.ios\\n\\t3.windows\"\n",
    "opt=raw_input(\"enter an option:\")\n",
    "if opt==\"1\":\n",
    "    print \"Selected andriod\"\n",
    "    print \"info for android\"\n",
    "if opt==\"2\":\n",
    "    print \"Selected ios\"\n",
    "    print \"info for ios\"\n",
    "if opt==\"3\":\n",
    "    print \"Selected windows\"\n",
    "    print \"info for windows\""
   ]
  },
  {
   "cell_type": "code",
   "execution_count": 74,
   "metadata": {
    "collapsed": false
   },
   "outputs": [
    {
     "name": "stdout",
     "output_type": "stream",
     "text": [
      "Mobile os:\n",
      "\t1.Android\n",
      "\t2.ios\n",
      "\t3.windows\n",
      "enter an option:3\n",
      "Selected windows\n",
      "info for windows\n"
     ]
    }
   ],
   "source": [
    "print \"Mobile os:\\n\\t1.Android\\n\\t2.ios\\n\\t3.windows\"\n",
    "opt=raw_input(\"enter an option:\")\n",
    "if opt==\"1\":\n",
    "    print \"Selected andriod\"\n",
    "    print \"info for android\"\n",
    "if opt==\"2\":\n",
    "    print \"Selected ios\"\n",
    "    print \"info for ios\"\n",
    "if opt==\"3\":\n",
    "    print \"Selected windows\"\n",
    "    print \"info for windows\""
   ]
  },
  {
   "cell_type": "code",
   "execution_count": 75,
   "metadata": {
    "collapsed": false
   },
   "outputs": [
    {
     "name": "stdout",
     "output_type": "stream",
     "text": [
      "Mobile os:\n",
      "\t1.Android\n",
      "\t2.ios\n",
      "\t3.windows\n",
      "enter an option:4\n"
     ]
    }
   ],
   "source": [
    "print \"Mobile os:\\n\\t1.Android\\n\\t2.ios\\n\\t3.windows\"\n",
    "opt=raw_input(\"enter an option:\")\n",
    "if opt==\"1\":\n",
    "    print \"Selected andriod\"\n",
    "    print \"info for android\"\n",
    "if opt==\"2\":\n",
    "    print \"Selected ios\"\n",
    "    print \"info for ios\"\n",
    "if opt==\"3\":\n",
    "    print \"Selected windows\"\n",
    "    print \"info for windows\""
   ]
  },
  {
   "cell_type": "code",
   "execution_count": 1,
   "metadata": {
    "collapsed": true
   },
   "outputs": [],
   "source": [
    "l=[1,2,3,1,2,3,1,2,3,1,2,3,1,2,3]"
   ]
  },
  {
   "cell_type": "code",
   "execution_count": 2,
   "metadata": {
    "collapsed": true
   },
   "outputs": [],
   "source": [
    "i=l.index(1)"
   ]
  },
  {
   "cell_type": "code",
   "execution_count": 3,
   "metadata": {
    "collapsed": false
   },
   "outputs": [
    {
     "data": {
      "text/plain": [
       "0"
      ]
     },
     "execution_count": 3,
     "metadata": {},
     "output_type": "execute_result"
    }
   ],
   "source": [
    "i"
   ]
  },
  {
   "cell_type": "code",
   "execution_count": 5,
   "metadata": {
    "collapsed": false
   },
   "outputs": [],
   "source": [
    "j=l.index(1,i+1)"
   ]
  },
  {
   "cell_type": "code",
   "execution_count": 6,
   "metadata": {
    "collapsed": false
   },
   "outputs": [
    {
     "data": {
      "text/plain": [
       "3"
      ]
     },
     "execution_count": 6,
     "metadata": {},
     "output_type": "execute_result"
    }
   ],
   "source": [
    "j"
   ]
  },
  {
   "cell_type": "code",
   "execution_count": 8,
   "metadata": {
    "collapsed": false
   },
   "outputs": [
    {
     "data": {
      "text/plain": [
       "6"
      ]
     },
     "execution_count": 8,
     "metadata": {},
     "output_type": "execute_result"
    }
   ],
   "source": [
    "l.index(1,j+1)"
   ]
  },
  {
   "cell_type": "code",
   "execution_count": null,
   "metadata": {
    "collapsed": true
   },
   "outputs": [],
   "source": []
  }
 ],
 "metadata": {
  "kernelspec": {
   "display_name": "Python 2",
   "language": "python",
   "name": "python2"
  },
  "language_info": {
   "codemirror_mode": {
    "name": "ipython",
    "version": 2
   },
   "file_extension": ".py",
   "mimetype": "text/x-python",
   "name": "python",
   "nbconvert_exporter": "python",
   "pygments_lexer": "ipython2",
   "version": "2.7.13"
  }
 },
 "nbformat": 4,
 "nbformat_minor": 2
}
