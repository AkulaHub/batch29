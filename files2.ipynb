{
 "cells": [
  {
   "cell_type": "code",
   "execution_count": 1,
   "metadata": {
    "collapsed": true
   },
   "outputs": [],
   "source": [
    "f=open('data.csv')"
   ]
  },
  {
   "cell_type": "code",
   "execution_count": 2,
   "metadata": {
    "collapsed": true
   },
   "outputs": [],
   "source": [
    "data = f.read()"
   ]
  },
  {
   "cell_type": "code",
   "execution_count": 3,
   "metadata": {
    "collapsed": false
   },
   "outputs": [
    {
     "name": "stdout",
     "output_type": "stream",
     "text": [
      "id,name,sal\n",
      "1,name1,123456\n",
      "2,name2,23423424\n",
      "3,name3,233432454\n",
      "4,name4,4365464564\n",
      "12,anil,3242354\n"
     ]
    }
   ],
   "source": [
    "print data"
   ]
  },
  {
   "cell_type": "code",
   "execution_count": 4,
   "metadata": {
    "collapsed": false
   },
   "outputs": [
    {
     "name": "stdout",
     "output_type": "stream",
     "text": [
      "\n"
     ]
    }
   ],
   "source": [
    "data1=f.read()\n",
    "print data1"
   ]
  },
  {
   "cell_type": "code",
   "execution_count": 5,
   "metadata": {
    "collapsed": false
   },
   "outputs": [
    {
     "name": "stdout",
     "output_type": "stream",
     "text": [
      "id,name,sa\n"
     ]
    }
   ],
   "source": [
    "f=open('data.csv')\n",
    "data=f.read(10)\n",
    "print data"
   ]
  },
  {
   "cell_type": "code",
   "execution_count": 6,
   "metadata": {
    "collapsed": false
   },
   "outputs": [
    {
     "name": "stdout",
     "output_type": "stream",
     "text": [
      "l\n",
      "1,name1,123456\n",
      "2,n\n"
     ]
    }
   ],
   "source": [
    "data1 = f.read(20)\n",
    "print data1"
   ]
  },
  {
   "cell_type": "code",
   "execution_count": 7,
   "metadata": {
    "collapsed": true
   },
   "outputs": [],
   "source": [
    "data2=f.read()"
   ]
  },
  {
   "cell_type": "code",
   "execution_count": 8,
   "metadata": {
    "collapsed": false
   },
   "outputs": [
    {
     "name": "stdout",
     "output_type": "stream",
     "text": [
      "ame2,23423424\n",
      "3,name3,233432454\n",
      "4,name4,4365464564\n",
      "12,anil,3242354\n"
     ]
    }
   ],
   "source": [
    "print data2"
   ]
  },
  {
   "cell_type": "code",
   "execution_count": 9,
   "metadata": {
    "collapsed": false
   },
   "outputs": [
    {
     "name": "stdout",
     "output_type": "stream",
     "text": [
      "id,name,sal\n",
      "\n",
      "1,name1,123456\n",
      "\n"
     ]
    }
   ],
   "source": [
    "f=open('data.csv')\n",
    "print f.readline()\n",
    "print f.readline()\n"
   ]
  },
  {
   "cell_type": "code",
   "execution_count": 10,
   "metadata": {
    "collapsed": false
   },
   "outputs": [
    {
     "name": "stdout",
     "output_type": "stream",
     "text": [
      "['2,name2,23423424\\n', '3,name3,233432454\\n', '4,name4,4365464564\\n', '12,anil,3242354']\n"
     ]
    }
   ],
   "source": [
    "print f.readlines()"
   ]
  },
  {
   "cell_type": "code",
   "execution_count": 11,
   "metadata": {
    "collapsed": false
   },
   "outputs": [
    {
     "name": "stdout",
     "output_type": "stream",
     "text": [
      "0\n",
      "id,name,sal\n",
      "\n",
      "12\n",
      "1,name1,123456\n",
      "\n",
      "27\n",
      "['2,name2,23423424\\n', '3,name3,233432454\\n', '4,name4,4365464564\\n', '12,anil,3242354']\n",
      "96\n"
     ]
    }
   ],
   "source": [
    "f=open('data.csv')\n",
    "print f.tell()\n",
    "print f.readline()\n",
    "print f.tell()\n",
    "print f.readline()\n",
    "print f.tell()\n",
    "print f.readlines()\n",
    "print f.tell()\n"
   ]
  },
  {
   "cell_type": "code",
   "execution_count": 12,
   "metadata": {
    "collapsed": false
   },
   "outputs": [
    {
     "name": "stdout",
     "output_type": "stream",
     "text": [
      "before read: 0\n",
      "After read 96\n",
      "id,name,sal\n",
      "1,name1,123456\n",
      "2,name2,23423424\n",
      "3,name3,233432454\n",
      "4,name4,4365464564\n",
      "12,anil,3242354\n",
      "after seek(0) 0\n"
     ]
    }
   ],
   "source": [
    "f=open('data.csv')\n",
    "print \"before read:\",f.tell()\n",
    "data=f.read()\n",
    "print \"After read\",f.tell()\n",
    "print data\n",
    "f.seek(0)\n",
    "print \"after seek(0)\",f.tell()\n"
   ]
  },
  {
   "cell_type": "code",
   "execution_count": 13,
   "metadata": {
    "collapsed": true
   },
   "outputs": [],
   "source": [
    "data=f.read()"
   ]
  },
  {
   "cell_type": "code",
   "execution_count": 14,
   "metadata": {
    "collapsed": false
   },
   "outputs": [
    {
     "name": "stdout",
     "output_type": "stream",
     "text": [
      "id,name,sal\n",
      "1,name1,123456\n",
      "2,name2,23423424\n",
      "3,name3,233432454\n",
      "4,name4,4365464564\n",
      "12,anil,3242354\n"
     ]
    }
   ],
   "source": [
    "print data"
   ]
  },
  {
   "cell_type": "code",
   "execution_count": 15,
   "metadata": {
    "collapsed": true
   },
   "outputs": [],
   "source": [
    "import os"
   ]
  },
  {
   "cell_type": "code",
   "execution_count": 17,
   "metadata": {
    "collapsed": false
   },
   "outputs": [
    {
     "data": {
      "text/plain": [
       "0"
      ]
     },
     "execution_count": 17,
     "metadata": {},
     "output_type": "execute_result"
    }
   ],
   "source": [
    "os.system(\"cp ms.jpg ms1.jpg\")"
   ]
  },
  {
   "cell_type": "code",
   "execution_count": 18,
   "metadata": {
    "collapsed": false
   },
   "outputs": [
    {
     "data": {
      "text/plain": [
       "0"
      ]
     },
     "execution_count": 18,
     "metadata": {},
     "output_type": "execute_result"
    }
   ],
   "source": [
    "os.system(\"ls -l\")"
   ]
  },
  {
   "cell_type": "code",
   "execution_count": 19,
   "metadata": {
    "collapsed": true
   },
   "outputs": [],
   "source": [
    "from subprocess import check_output\n"
   ]
  },
  {
   "cell_type": "code",
   "execution_count": 24,
   "metadata": {
    "collapsed": false
   },
   "outputs": [
    {
     "data": {
      "text/plain": [
       "'total 608\\n-rw-rw-r-- 1 tcloudost tcloudost    27 Jun 15 08:10 a.py\\n-rw-rw-r-- 1 tcloudost tcloudost   200 Jun  2 07:41 a.pyc\\n-rw-rw-r-- 1 tcloudost tcloudost 39363 Jun  9 09:46 condtional statements.ipynb\\n-rw-rw-r-- 1 tcloudost tcloudost    96 Jun 24 08:47 data.csv\\n-rw-rw-r-- 1 tcloudost tcloudost 33438 Jun  5 08:01 datatypes.ipynb\\n-rw-rw-r-- 1 tcloudost tcloudost    30 Jun 24 08:50 data.xlsx\\n-rw-rw-r-- 1 tcloudost tcloudost 11276 Jun 23 07:33 dictionaries.ipynb\\ndrwxrwxr-x 2 tcloudost tcloudost  4096 Jun 20 08:56 f1\\n-rw-rw-r-- 1 tcloudost tcloudost  7479 Jun 27 07:25 files2.ipynb\\n-rw-rw-r-- 1 tcloudost tcloudost 12321 Jun 24 08:58 files.ipynb\\n-rw-rw-r-- 1 tcloudost tcloudost 35591 Jun 22 08:19 functions-adv.ipynb\\n-rw-rw-r-- 1 tcloudost tcloudost 27287 Jun 14 09:34 functions.ipynb\\n-rw-rw-r-- 1 tcloudost tcloudost 45069 Jun 19 08:15 list2.ipynb\\n-rw-rw-r-- 1 tcloudost tcloudost 45071 Jun 20 08:07 list3.ipynb\\n-rw-rw-r-- 1 tcloudost tcloudost 40325 Jun 21 08:10 lists-dict.ipynb\\n-rw-rw-r-- 1 tcloudost tcloudost 29657 Jun 12 08:23 loop and ifelse.ipynb\\n-rw-rw-r-- 1 tcloudost tcloudost   447 Jun  9 09:33 mails.txt\\n-rw-rw-r-- 1 tcloudost tcloudost   447 Jun  9 09:33 mails.txt~\\n-rw-rw-r-- 1 tcloudost tcloudost  9890 Jun  1 08:00 memory management.ipynb\\ndrwxrwxr-x 4 tcloudost tcloudost  4096 Jun 24 07:43 modules\\n-rw-rw-r-- 1 tcloudost tcloudost 36103 Jun 27 07:23 ms1.jpg\\n-rw-rw-r-- 1 tcloudost tcloudost 36103 Aug 14  2016 ms.jpg\\n-rw-rw-r-- 1 tcloudost tcloudost 21153 Jun 13 08:02 prime numebr program.ipynb\\n-rw-rw-r-- 1 tcloudost tcloudost 43970 Jun 15 08:17 string funcitons2.ipynb\\n-rw-rw-r-- 1 tcloudost tcloudost 40677 Jun 16 08:11 string functions3.ipynb\\n-rw-rw-r-- 1 tcloudost tcloudost 36597 Jun  6 08:04 strings.ipynb\\n-rw-rw-r-- 1 tcloudost tcloudost  1452 Jun 24 08:28 Untitled.ipynb\\n'"
      ]
     },
     "execution_count": 24,
     "metadata": {},
     "output_type": "execute_result"
    }
   ],
   "source": [
    "check_output([\"ls\",\"-l\"])"
   ]
  },
  {
   "cell_type": "code",
   "execution_count": 25,
   "metadata": {
    "collapsed": true
   },
   "outputs": [],
   "source": [
    "f=open('ms.jpg','rb')\n",
    "data=f.read()\n",
    "f.close()\n",
    "f=open(\"ms2.jpg\",'wb')\n",
    "f.write(data)\n",
    "f.close()"
   ]
  },
  {
   "cell_type": "code",
   "execution_count": 26,
   "metadata": {
    "collapsed": false
   },
   "outputs": [
    {
     "ename": "TypeError",
     "evalue": "expected a string or other character buffer object",
     "output_type": "error",
     "traceback": [
      "\u001b[0;31m---------------------------------------------------------------------------\u001b[0m",
      "\u001b[0;31mTypeError\u001b[0m                                 Traceback (most recent call last)",
      "\u001b[0;32m<ipython-input-26-ed7e49f6f9dd>\u001b[0m in \u001b[0;36m<module>\u001b[0;34m()\u001b[0m\n\u001b[1;32m      1\u001b[0m \u001b[0mconfig\u001b[0m\u001b[0;34m=\u001b[0m\u001b[0;34m{\u001b[0m\u001b[0;34m\"host\"\u001b[0m\u001b[0;34m:\u001b[0m\u001b[0;34m\"localhost\"\u001b[0m\u001b[0;34m,\u001b[0m\u001b[0;34m'username'\u001b[0m\u001b[0;34m:\u001b[0m\u001b[0;34m\"tcloudost\"\u001b[0m\u001b[0;34m,\u001b[0m\u001b[0;34m\"password\"\u001b[0m\u001b[0;34m:\u001b[0m\u001b[0;34m\"pyhon\"\u001b[0m\u001b[0;34m}\u001b[0m\u001b[0;34m\u001b[0m\u001b[0m\n\u001b[1;32m      2\u001b[0m \u001b[0mf\u001b[0m\u001b[0;34m=\u001b[0m\u001b[0mopen\u001b[0m\u001b[0;34m(\u001b[0m\u001b[0;34m\"confi.txt\"\u001b[0m\u001b[0;34m,\u001b[0m\u001b[0;34m'w'\u001b[0m\u001b[0;34m)\u001b[0m\u001b[0;34m\u001b[0m\u001b[0m\n\u001b[0;32m----> 3\u001b[0;31m \u001b[0mf\u001b[0m\u001b[0;34m.\u001b[0m\u001b[0mwrite\u001b[0m\u001b[0;34m(\u001b[0m\u001b[0mconfig\u001b[0m\u001b[0;34m)\u001b[0m\u001b[0;34m\u001b[0m\u001b[0m\n\u001b[0m\u001b[1;32m      4\u001b[0m \u001b[0mf\u001b[0m\u001b[0;34m.\u001b[0m\u001b[0mclose\u001b[0m\u001b[0;34m(\u001b[0m\u001b[0;34m)\u001b[0m\u001b[0;34m\u001b[0m\u001b[0m\n",
      "\u001b[0;31mTypeError\u001b[0m: expected a string or other character buffer object"
     ]
    }
   ],
   "source": [
    "config={\"host\":\"localhost\",'username':\"tcloudost\",\"password\":\"pyhon\"}\n",
    "f=open(\"confi.txt\",'w')\n",
    "f.write(config)\n",
    "f.close()"
   ]
  },
  {
   "cell_type": "code",
   "execution_count": 27,
   "metadata": {
    "collapsed": true
   },
   "outputs": [],
   "source": [
    "config={\"host\":\"localhost\",'username':\"tcloudost\",\"password\":\"pyhon\"}\n",
    "f=open(\"confi.txt\",'w')\n",
    "f.writelines(config)\n",
    "f.close()"
   ]
  },
  {
   "cell_type": "code",
   "execution_count": 28,
   "metadata": {
    "collapsed": true
   },
   "outputs": [],
   "source": [
    "config={\"host\":\"localhost\",'username':\"tcloudost\",\"password\":\"pyhon\"}\n",
    "f=open(\"confi.txt\",'w')\n",
    "#f.writelines(config)\n",
    "for i in config:\n",
    "    f.write(i)\n",
    "f.close()"
   ]
  },
  {
   "cell_type": "code",
   "execution_count": 29,
   "metadata": {
    "collapsed": false
   },
   "outputs": [
    {
     "ename": "TypeError",
     "evalue": "expected a string or other character buffer object",
     "output_type": "error",
     "traceback": [
      "\u001b[0;31m---------------------------------------------------------------------------\u001b[0m",
      "\u001b[0;31mTypeError\u001b[0m                                 Traceback (most recent call last)",
      "\u001b[0;32m<ipython-input-29-f9cc8e3aceb2>\u001b[0m in \u001b[0;36m<module>\u001b[0;34m()\u001b[0m\n\u001b[1;32m      3\u001b[0m \u001b[0;31m#f.writelines(config)\u001b[0m\u001b[0;34m\u001b[0m\u001b[0;34m\u001b[0m\u001b[0m\n\u001b[1;32m      4\u001b[0m \u001b[0;32mfor\u001b[0m \u001b[0mi\u001b[0m \u001b[0;32min\u001b[0m \u001b[0mconfig\u001b[0m\u001b[0;34m:\u001b[0m\u001b[0;34m\u001b[0m\u001b[0m\n\u001b[0;32m----> 5\u001b[0;31m     \u001b[0mf\u001b[0m\u001b[0;34m.\u001b[0m\u001b[0mwrite\u001b[0m\u001b[0;34m(\u001b[0m\u001b[0mi\u001b[0m\u001b[0;34m)\u001b[0m\u001b[0;34m\u001b[0m\u001b[0m\n\u001b[0m\u001b[1;32m      6\u001b[0m \u001b[0mf\u001b[0m\u001b[0;34m.\u001b[0m\u001b[0mclose\u001b[0m\u001b[0;34m(\u001b[0m\u001b[0;34m)\u001b[0m\u001b[0;34m\u001b[0m\u001b[0m\n",
      "\u001b[0;31mTypeError\u001b[0m: expected a string or other character buffer object"
     ]
    }
   ],
   "source": [
    "config={\"host\":\"localhost\",'username':\"tcloudost\",\"password\":\"pyhon\",2:345}\n",
    "f=open(\"confi.txt\",'w')\n",
    "#f.writelines(config)\n",
    "for i in config:\n",
    "    f.write(i)\n",
    "f.close()"
   ]
  },
  {
   "cell_type": "code",
   "execution_count": 30,
   "metadata": {
    "collapsed": false
   },
   "outputs": [
    {
     "ename": "TypeError",
     "evalue": "writelines() argument must be a sequence of strings",
     "output_type": "error",
     "traceback": [
      "\u001b[0;31m---------------------------------------------------------------------------\u001b[0m",
      "\u001b[0;31mTypeError\u001b[0m                                 Traceback (most recent call last)",
      "\u001b[0;32m<ipython-input-30-278d3591eb84>\u001b[0m in \u001b[0;36m<module>\u001b[0;34m()\u001b[0m\n\u001b[1;32m      1\u001b[0m \u001b[0mconfig\u001b[0m\u001b[0;34m=\u001b[0m\u001b[0;34m{\u001b[0m\u001b[0;34m\"host\"\u001b[0m\u001b[0;34m:\u001b[0m\u001b[0;34m\"localhost\"\u001b[0m\u001b[0;34m,\u001b[0m\u001b[0;34m'username'\u001b[0m\u001b[0;34m:\u001b[0m\u001b[0;34m\"tcloudost\"\u001b[0m\u001b[0;34m,\u001b[0m\u001b[0;34m\"password\"\u001b[0m\u001b[0;34m:\u001b[0m\u001b[0;34m\"pyhon\"\u001b[0m\u001b[0;34m,\u001b[0m\u001b[0;36m2\u001b[0m\u001b[0;34m:\u001b[0m\u001b[0;36m345\u001b[0m\u001b[0;34m}\u001b[0m\u001b[0;34m\u001b[0m\u001b[0m\n\u001b[1;32m      2\u001b[0m \u001b[0mf\u001b[0m\u001b[0;34m=\u001b[0m\u001b[0mopen\u001b[0m\u001b[0;34m(\u001b[0m\u001b[0;34m\"confi.txt\"\u001b[0m\u001b[0;34m,\u001b[0m\u001b[0;34m'w'\u001b[0m\u001b[0;34m)\u001b[0m\u001b[0;34m\u001b[0m\u001b[0m\n\u001b[0;32m----> 3\u001b[0;31m \u001b[0mf\u001b[0m\u001b[0;34m.\u001b[0m\u001b[0mwritelines\u001b[0m\u001b[0;34m(\u001b[0m\u001b[0mconfig\u001b[0m\u001b[0;34m)\u001b[0m\u001b[0;34m\u001b[0m\u001b[0m\n\u001b[0m\u001b[1;32m      4\u001b[0m '''\n\u001b[1;32m      5\u001b[0m \u001b[0;32mfor\u001b[0m \u001b[0mi\u001b[0m \u001b[0;32min\u001b[0m \u001b[0mconfig\u001b[0m\u001b[0;34m:\u001b[0m\u001b[0;34m\u001b[0m\u001b[0m\n",
      "\u001b[0;31mTypeError\u001b[0m: writelines() argument must be a sequence of strings"
     ]
    }
   ],
   "source": [
    "config={\"host\":\"localhost\",'username':\"tcloudost\",\"password\":\"pyhon\",2:345}\n",
    "f=open(\"confi.txt\",'w')\n",
    "f.writelines(config)\n",
    "'''\n",
    "for i in config:\n",
    "    f.write(i)\n",
    "'''\n",
    "\n",
    "f.close()"
   ]
  },
  {
   "cell_type": "code",
   "execution_count": 31,
   "metadata": {
    "collapsed": true
   },
   "outputs": [],
   "source": [
    "config={\"host\":\"localhost\",'username':\"tcloudost\",\"password\":\"pyhon\"}\n",
    "f=open(\"config.txt\",'w')\n",
    "f.write(str(config))\n",
    "f.close()"
   ]
  },
  {
   "cell_type": "code",
   "execution_count": 32,
   "metadata": {
    "collapsed": true
   },
   "outputs": [],
   "source": [
    "f=open(\"config.txt\")\n",
    "data=f.read()\n",
    "f.close()"
   ]
  },
  {
   "cell_type": "code",
   "execution_count": 33,
   "metadata": {
    "collapsed": false
   },
   "outputs": [
    {
     "data": {
      "text/plain": [
       "str"
      ]
     },
     "execution_count": 33,
     "metadata": {},
     "output_type": "execute_result"
    }
   ],
   "source": [
    "type(data)"
   ]
  },
  {
   "cell_type": "code",
   "execution_count": 34,
   "metadata": {
    "collapsed": false
   },
   "outputs": [
    {
     "name": "stdout",
     "output_type": "stream",
     "text": [
      "{\n"
     ]
    }
   ],
   "source": [
    "for i in data:\n",
    "    print i\n",
    "    break"
   ]
  },
  {
   "cell_type": "code",
   "execution_count": 35,
   "metadata": {
    "collapsed": true
   },
   "outputs": [],
   "source": [
    "import pickle"
   ]
  },
  {
   "cell_type": "code",
   "execution_count": 36,
   "metadata": {
    "collapsed": true
   },
   "outputs": [],
   "source": [
    "import pickle\n",
    "config={\"host\":\"localhost\",'username':\"tcloudost\",\"password\":\"pyhon\"}\n",
    "f=open(\"config1.txt\",'w')\n",
    "pickle.dump(config,f)\n",
    "f.close()"
   ]
  },
  {
   "cell_type": "code",
   "execution_count": 37,
   "metadata": {
    "collapsed": false
   },
   "outputs": [
    {
     "name": "stdout",
     "output_type": "stream",
     "text": [
      "{'username': 'tcloudost', 'host': 'localhost', 'password': 'pyhon'}\n",
      "<type 'dict'>\n"
     ]
    }
   ],
   "source": [
    "import pickle\n",
    "f=open(\"config1.txt\")\n",
    "data = pickle.load(f)\n",
    "print data\n",
    "print type(data)\n",
    "f.close()"
   ]
  },
  {
   "cell_type": "code",
   "execution_count": null,
   "metadata": {
    "collapsed": true
   },
   "outputs": [],
   "source": []
  }
 ],
 "metadata": {
  "kernelspec": {
   "display_name": "Python 2",
   "language": "python",
   "name": "python2"
  },
  "language_info": {
   "codemirror_mode": {
    "name": "ipython",
    "version": 2
   },
   "file_extension": ".py",
   "mimetype": "text/x-python",
   "name": "python",
   "nbconvert_exporter": "python",
   "pygments_lexer": "ipython2",
   "version": "2.7.13"
  }
 },
 "nbformat": 4,
 "nbformat_minor": 2
}
