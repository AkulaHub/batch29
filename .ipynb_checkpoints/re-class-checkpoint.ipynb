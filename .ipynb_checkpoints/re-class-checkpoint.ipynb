{
 "cells": [
  {
   "cell_type": "code",
   "execution_count": 1,
   "metadata": {
    "collapsed": true
   },
   "outputs": [],
   "source": [
    "f=open(\"data.csv\")"
   ]
  },
  {
   "cell_type": "code",
   "execution_count": 2,
   "metadata": {
    "collapsed": true
   },
   "outputs": [],
   "source": [
    "data=f.read()"
   ]
  },
  {
   "cell_type": "code",
   "execution_count": 3,
   "metadata": {
    "collapsed": false
   },
   "outputs": [
    {
     "data": {
      "text/plain": [
       "'id,name,sal\\n1,name1,123456\\n2,name2,23423424\\n3,name3,233432454\\n4,name4,4365464564\\n12,anil,3242354'"
      ]
     },
     "execution_count": 3,
     "metadata": {},
     "output_type": "execute_result"
    }
   ],
   "source": [
    "data"
   ]
  },
  {
   "cell_type": "code",
   "execution_count": 4,
   "metadata": {
    "collapsed": false
   },
   "outputs": [
    {
     "name": "stdout",
     "output_type": "stream",
     "text": [
      "id,name,sal\n",
      "1,name1,123456\n",
      "2,name2,23423424\n",
      "3,name3,233432454\n",
      "4,name4,4365464564\n",
      "12,anil,3242354\n"
     ]
    }
   ],
   "source": [
    "print data"
   ]
  },
  {
   "cell_type": "code",
   "execution_count": 5,
   "metadata": {
    "collapsed": true
   },
   "outputs": [],
   "source": [
    "f.close()"
   ]
  },
  {
   "cell_type": "code",
   "execution_count": 6,
   "metadata": {
    "collapsed": false
   },
   "outputs": [
    {
     "ename": "ValueError",
     "evalue": "I/O operation on closed file",
     "output_type": "error",
     "traceback": [
      "\u001b[0;31m---------------------------------------------------------------------------\u001b[0m",
      "\u001b[0;31mValueError\u001b[0m                                Traceback (most recent call last)",
      "\u001b[0;32m<ipython-input-6-040ffad2fd98>\u001b[0m in \u001b[0;36m<module>\u001b[0;34m()\u001b[0m\n\u001b[0;32m----> 1\u001b[0;31m \u001b[0mdata\u001b[0m\u001b[0;34m=\u001b[0m\u001b[0mf\u001b[0m\u001b[0;34m.\u001b[0m\u001b[0mread\u001b[0m\u001b[0;34m(\u001b[0m\u001b[0;34m)\u001b[0m\u001b[0;34m\u001b[0m\u001b[0m\n\u001b[0m",
      "\u001b[0;31mValueError\u001b[0m: I/O operation on closed file"
     ]
    }
   ],
   "source": [
    "data=f.read()"
   ]
  },
  {
   "cell_type": "code",
   "execution_count": 7,
   "metadata": {
    "collapsed": false
   },
   "outputs": [
    {
     "name": "stdout",
     "output_type": "stream",
     "text": [
      "\n"
     ]
    }
   ],
   "source": [
    "f=open(\"data.csv\")\n",
    "data=f.read()\n",
    "data1=f.read()\n",
    "print data1"
   ]
  },
  {
   "cell_type": "code",
   "execution_count": 8,
   "metadata": {
    "collapsed": false
   },
   "outputs": [
    {
     "name": "stdout",
     "output_type": "stream",
     "text": [
      "0\n",
      "96\n",
      "96\n"
     ]
    }
   ],
   "source": [
    "f=open(\"data.csv\")\n",
    "print f.tell()\n",
    "data=f.read()\n",
    "print f.tell()\n",
    "data1=f.read()\n",
    "print f.tell()"
   ]
  },
  {
   "cell_type": "code",
   "execution_count": 9,
   "metadata": {
    "collapsed": false
   },
   "outputs": [
    {
     "name": "stdout",
     "output_type": "stream",
     "text": [
      "0\n",
      "96\n",
      "0\n",
      "96\n"
     ]
    }
   ],
   "source": [
    "f=open(\"data.csv\")\n",
    "print f.tell()\n",
    "data=f.read()\n",
    "print f.tell()\n",
    "f.seek(0)\n",
    "print f.tell()\n",
    "data1=f.read()\n",
    "print f.tell()"
   ]
  },
  {
   "cell_type": "code",
   "execution_count": 10,
   "metadata": {
    "collapsed": true
   },
   "outputs": [],
   "source": [
    "f=open('data.csv')\n",
    "data=f.read(20)"
   ]
  },
  {
   "cell_type": "code",
   "execution_count": 11,
   "metadata": {
    "collapsed": false
   },
   "outputs": [
    {
     "data": {
      "text/plain": [
       "'id,name,sal\\n1,name1,'"
      ]
     },
     "execution_count": 11,
     "metadata": {},
     "output_type": "execute_result"
    }
   ],
   "source": [
    "data"
   ]
  },
  {
   "cell_type": "code",
   "execution_count": 12,
   "metadata": {
    "collapsed": true
   },
   "outputs": [],
   "source": [
    "data1=f.read(30)"
   ]
  },
  {
   "cell_type": "code",
   "execution_count": 13,
   "metadata": {
    "collapsed": false
   },
   "outputs": [
    {
     "data": {
      "text/plain": [
       "'123456\\n2,name2,23423424\\n3,name'"
      ]
     },
     "execution_count": 13,
     "metadata": {},
     "output_type": "execute_result"
    }
   ],
   "source": [
    "data1"
   ]
  },
  {
   "cell_type": "code",
   "execution_count": 14,
   "metadata": {
    "collapsed": false
   },
   "outputs": [
    {
     "name": "stdout",
     "output_type": "stream",
     "text": [
      "id,name,sal\n",
      "1,name1,123456\n",
      "2,name2,23423424\n",
      "3,name3,233432454\n",
      "4,name4,4365464564\n",
      "12,anil,3242354\n"
     ]
    }
   ],
   "source": [
    "data=open(\"data.csv\").read()\n",
    "print data"
   ]
  },
  {
   "cell_type": "code",
   "execution_count": 15,
   "metadata": {
    "collapsed": false
   },
   "outputs": [
    {
     "data": {
      "text/plain": [
       "str"
      ]
     },
     "execution_count": 15,
     "metadata": {},
     "output_type": "execute_result"
    }
   ],
   "source": [
    "type(data)"
   ]
  },
  {
   "cell_type": "code",
   "execution_count": 16,
   "metadata": {
    "collapsed": false
   },
   "outputs": [
    {
     "name": "stdout",
     "output_type": "stream",
     "text": [
      "i\n"
     ]
    }
   ],
   "source": [
    "for i in data:\n",
    "    print i\n",
    "    break"
   ]
  },
  {
   "cell_type": "code",
   "execution_count": 17,
   "metadata": {
    "collapsed": false
   },
   "outputs": [
    {
     "name": "stdout",
     "output_type": "stream",
     "text": [
      "['id,name,sal', '1,name1,123456', '2,name2,23423424', '3,name3,233432454', '4,name4,4365464564', '12,anil,3242354']\n"
     ]
    }
   ],
   "source": [
    "data1=data.split('\\n')\n",
    "print data1"
   ]
  },
  {
   "cell_type": "code",
   "execution_count": 20,
   "metadata": {
    "collapsed": false
   },
   "outputs": [
    {
     "name": "stdout",
     "output_type": "stream",
     "text": [
      "id,name,sal\n"
     ]
    }
   ],
   "source": [
    "for i in data1:\n",
    "    print i\n",
    "    break"
   ]
  },
  {
   "cell_type": "code",
   "execution_count": 19,
   "metadata": {
    "collapsed": false
   },
   "outputs": [
    {
     "data": {
      "text/plain": [
       "list"
      ]
     },
     "execution_count": 19,
     "metadata": {},
     "output_type": "execute_result"
    }
   ],
   "source": [
    "type(data1)"
   ]
  },
  {
   "cell_type": "code",
   "execution_count": 21,
   "metadata": {
    "collapsed": true
   },
   "outputs": [],
   "source": [
    "f=open('data.csv')\n",
    "data=f.readlines()"
   ]
  },
  {
   "cell_type": "code",
   "execution_count": 22,
   "metadata": {
    "collapsed": false
   },
   "outputs": [
    {
     "name": "stdout",
     "output_type": "stream",
     "text": [
      "['id,name,sal\\n', '1,name1,123456\\n', '2,name2,23423424\\n', '3,name3,233432454\\n', '4,name4,4365464564\\n', '12,anil,3242354']\n"
     ]
    }
   ],
   "source": [
    "print data"
   ]
  },
  {
   "cell_type": "code",
   "execution_count": 23,
   "metadata": {
    "collapsed": false
   },
   "outputs": [
    {
     "name": "stdout",
     "output_type": "stream",
     "text": [
      "id,name,sal\n",
      "\n",
      "1,name1,123456\n",
      "\n"
     ]
    }
   ],
   "source": [
    "f=open('data.csv')\n",
    "print f.readline()\n",
    "print f.readline()"
   ]
  },
  {
   "cell_type": "code",
   "execution_count": 25,
   "metadata": {
    "collapsed": false
   },
   "outputs": [
    {
     "name": "stdout",
     "output_type": "stream",
     "text": [
      "2,name2,23423424\n",
      "\n"
     ]
    }
   ],
   "source": [
    "print f.readline()"
   ]
  },
  {
   "cell_type": "code",
   "execution_count": 26,
   "metadata": {
    "collapsed": false
   },
   "outputs": [
    {
     "data": {
      "text/plain": [
       "['3,name3,233432454\\n', '4,name4,4365464564\\n', '12,anil,3242354']"
      ]
     },
     "execution_count": 26,
     "metadata": {},
     "output_type": "execute_result"
    }
   ],
   "source": [
    "f.readlines()"
   ]
  },
  {
   "cell_type": "code",
   "execution_count": 27,
   "metadata": {
    "collapsed": true
   },
   "outputs": [],
   "source": [
    "f=open(\"data1.csv\",'w')\n",
    "f.write(\"some text\")"
   ]
  },
  {
   "cell_type": "code",
   "execution_count": 28,
   "metadata": {
    "collapsed": true
   },
   "outputs": [],
   "source": [
    "f.close()"
   ]
  },
  {
   "cell_type": "code",
   "execution_count": 29,
   "metadata": {
    "collapsed": true
   },
   "outputs": [],
   "source": [
    "f=open('data1.csv','w')"
   ]
  },
  {
   "cell_type": "code",
   "execution_count": 30,
   "metadata": {
    "collapsed": true
   },
   "outputs": [],
   "source": [
    "f.write(\"soem text\")\n",
    "f.flush()\n",
    "f.write(\"\\ndata after flush\")\n",
    "f.close()"
   ]
  },
  {
   "cell_type": "code",
   "execution_count": 31,
   "metadata": {
    "collapsed": true
   },
   "outputs": [],
   "source": [
    "names=['name1','nam,e2','name3']\n",
    "f=open(\"data1.csv\",'a')\n",
    "f.writelines(names)\n",
    "f.close()"
   ]
  },
  {
   "cell_type": "code",
   "execution_count": 32,
   "metadata": {
    "collapsed": false
   },
   "outputs": [
    {
     "ename": "TypeError",
     "evalue": "expected a string or other character buffer object",
     "output_type": "error",
     "traceback": [
      "\u001b[0;31m---------------------------------------------------------------------------\u001b[0m",
      "\u001b[0;31mTypeError\u001b[0m                                 Traceback (most recent call last)",
      "\u001b[0;32m<ipython-input-32-03e90c5b36b4>\u001b[0m in \u001b[0;36m<module>\u001b[0;34m()\u001b[0m\n\u001b[1;32m      1\u001b[0m \u001b[0mconfig\u001b[0m\u001b[0;34m=\u001b[0m  \u001b[0;34m{\u001b[0m\u001b[0;34m'host'\u001b[0m\u001b[0;34m:\u001b[0m\u001b[0;34m\"localhost\"\u001b[0m\u001b[0;34m,\u001b[0m\u001b[0;34m'username'\u001b[0m\u001b[0;34m:\u001b[0m\u001b[0;34m\"user1\"\u001b[0m\u001b[0;34m,\u001b[0m\u001b[0;34m'password'\u001b[0m\u001b[0;34m:\u001b[0m\u001b[0;34m\"pwd1\"\u001b[0m\u001b[0;34m}\u001b[0m\u001b[0;34m\u001b[0m\u001b[0m\n\u001b[1;32m      2\u001b[0m \u001b[0mf\u001b[0m\u001b[0;34m=\u001b[0m\u001b[0mopen\u001b[0m\u001b[0;34m(\u001b[0m\u001b[0;34m'data1.csv'\u001b[0m\u001b[0;34m,\u001b[0m\u001b[0;34m'w'\u001b[0m\u001b[0;34m)\u001b[0m\u001b[0;34m\u001b[0m\u001b[0m\n\u001b[0;32m----> 3\u001b[0;31m \u001b[0mf\u001b[0m\u001b[0;34m.\u001b[0m\u001b[0mwrite\u001b[0m\u001b[0;34m(\u001b[0m\u001b[0mconfig\u001b[0m\u001b[0;34m)\u001b[0m\u001b[0;34m\u001b[0m\u001b[0m\n\u001b[0m\u001b[1;32m      4\u001b[0m \u001b[0mf\u001b[0m\u001b[0;34m.\u001b[0m\u001b[0mclose\u001b[0m\u001b[0;34m(\u001b[0m\u001b[0;34m)\u001b[0m\u001b[0;34m\u001b[0m\u001b[0m\n",
      "\u001b[0;31mTypeError\u001b[0m: expected a string or other character buffer object"
     ]
    }
   ],
   "source": [
    "config=  {'host':\"localhost\",'username':\"user1\",'password':\"pwd1\"}\n",
    "f=open('data1.csv','w')\n",
    "f.write(config)\n",
    "f.close()"
   ]
  },
  {
   "cell_type": "code",
   "execution_count": 33,
   "metadata": {
    "collapsed": true
   },
   "outputs": [],
   "source": [
    "config=  {'host':\"localhost\",'username':\"user1\",'password':\"pwd1\"}\n",
    "f=open('data1.csv','w')\n",
    "f.write(str(config))\n",
    "f.close()"
   ]
  },
  {
   "cell_type": "code",
   "execution_count": 34,
   "metadata": {
    "collapsed": false
   },
   "outputs": [
    {
     "name": "stdout",
     "output_type": "stream",
     "text": [
      "{'username': 'user1', 'host': 'localhost', 'password': 'pwd1'}\n",
      "<type 'str'>\n"
     ]
    }
   ],
   "source": [
    "f=open(\"data1.csv\")\n",
    "data=f.read()\n",
    "print data\n",
    "print type(data)"
   ]
  },
  {
   "cell_type": "code",
   "execution_count": 35,
   "metadata": {
    "collapsed": true
   },
   "outputs": [],
   "source": [
    "import pickle\n",
    "config=  {'host':\"localhost\",'username':\"user1\",'password':\"pwd1\"}\n",
    "f=open('data1.csv','w')\n",
    "pickle.dump(config, f)\n",
    "f.close()"
   ]
  },
  {
   "cell_type": "code",
   "execution_count": 36,
   "metadata": {
    "collapsed": false
   },
   "outputs": [
    {
     "name": "stdout",
     "output_type": "stream",
     "text": [
      "{'username': 'user1', 'host': 'localhost', 'password': 'pwd1'}\n",
      "<type 'dict'>\n"
     ]
    }
   ],
   "source": [
    "f=open('data1.csv','r')\n",
    "data=pickle.load(f)\n",
    "print data\n",
    "print type(data)"
   ]
  },
  {
   "cell_type": "code",
   "execution_count": 37,
   "metadata": {
    "collapsed": true
   },
   "outputs": [],
   "source": [
    "f=open(\"data2.csv\")\n",
    "data=f.readlines()"
   ]
  },
  {
   "cell_type": "code",
   "execution_count": 38,
   "metadata": {
    "collapsed": false
   },
   "outputs": [
    {
     "name": "stdout",
     "output_type": "stream",
     "text": [
      "['1,Anil Kumar,8976876545,anil@gmail.com\\n', 'Sunil Kumar,8976876546,sunil123@yahoo.com,2\\n', '3,6789876545,Ajay Kumar,Ajay@hotmail.co.in\\n', '\\n']\n"
     ]
    }
   ],
   "source": [
    "print data"
   ]
  },
  {
   "cell_type": "code",
   "execution_count": 39,
   "metadata": {
    "collapsed": false
   },
   "outputs": [
    {
     "name": "stdout",
     "output_type": "stream",
     "text": [
      "['1', 'Anil Kumar', '8976876545', 'anil@gmail.com\\n']\n",
      "['Sunil Kumar', '8976876546', 'sunil123@yahoo.com', '2\\n']\n",
      "['3', '6789876545', 'Ajay Kumar', 'Ajay@hotmail.co.in\\n']\n",
      "['\\n']\n"
     ]
    }
   ],
   "source": [
    "for i in data:\n",
    "    print i.split(',')"
   ]
  },
  {
   "cell_type": "code",
   "execution_count": 40,
   "metadata": {
    "collapsed": false
   },
   "outputs": [
    {
     "name": "stdout",
     "output_type": "stream",
     "text": [
      "8976876545\n",
      "sunil123@yahoo.com\n",
      "Ajay Kumar\n"
     ]
    },
    {
     "ename": "IndexError",
     "evalue": "list index out of range",
     "output_type": "error",
     "traceback": [
      "\u001b[0;31m---------------------------------------------------------------------------\u001b[0m",
      "\u001b[0;31mIndexError\u001b[0m                                Traceback (most recent call last)",
      "\u001b[0;32m<ipython-input-40-cb6b757cbe25>\u001b[0m in \u001b[0;36m<module>\u001b[0;34m()\u001b[0m\n\u001b[1;32m      1\u001b[0m \u001b[0;32mfor\u001b[0m \u001b[0mi\u001b[0m \u001b[0;32min\u001b[0m \u001b[0mdata\u001b[0m\u001b[0;34m:\u001b[0m\u001b[0;34m\u001b[0m\u001b[0m\n\u001b[0;32m----> 2\u001b[0;31m     \u001b[0;32mprint\u001b[0m \u001b[0mi\u001b[0m\u001b[0;34m.\u001b[0m\u001b[0msplit\u001b[0m\u001b[0;34m(\u001b[0m\u001b[0;34m','\u001b[0m\u001b[0;34m)\u001b[0m\u001b[0;34m[\u001b[0m\u001b[0;36m2\u001b[0m\u001b[0;34m]\u001b[0m\u001b[0;34m\u001b[0m\u001b[0m\n\u001b[0m",
      "\u001b[0;31mIndexError\u001b[0m: list index out of range"
     ]
    }
   ],
   "source": [
    "for i in data:\n",
    "    print i.split(',')[2]"
   ]
  },
  {
   "cell_type": "code",
   "execution_count": 42,
   "metadata": {
    "collapsed": false
   },
   "outputs": [
    {
     "name": "stdout",
     "output_type": "stream",
     "text": [
      "['8976876545', '8976876546', '6789876545']\n"
     ]
    }
   ],
   "source": [
    "import re\n",
    "f=open(\"data2.csv\")\n",
    "data=f.read()\n",
    "print re.findall(\"[0-9]{10}\",data)"
   ]
  },
  {
   "cell_type": "code",
   "execution_count": 43,
   "metadata": {
    "collapsed": false
   },
   "outputs": [
    {
     "name": "stdout",
     "output_type": "stream",
     "text": [
      "1,Anil Kumar,8976876545,anil@gmail.com\n",
      "Sunil Kumar,8976876546,sunil123@yahoo.com,2\n",
      "3,6789876545,Ajay Kumar,Ajay@hotmail.co.in\n",
      "\n",
      "\n"
     ]
    }
   ],
   "source": [
    "#[]{}$^.*+?\n",
    "print data"
   ]
  },
  {
   "cell_type": "code",
   "execution_count": 44,
   "metadata": {
    "collapsed": false
   },
   "outputs": [
    {
     "name": "stdout",
     "output_type": "stream",
     "text": [
      "['a', 'a', 'a', 'c', 'a', 'a', 'c', 'a', 'a', 'a', 'a', 'c']\n"
     ]
    }
   ],
   "source": [
    "print re.findall(\"[abc]\",data)"
   ]
  },
  {
   "cell_type": "code",
   "execution_count": 45,
   "metadata": {
    "collapsed": false
   },
   "outputs": [
    {
     "name": "stdout",
     "output_type": "stream",
     "text": [
      "['1', '8', '9', '7', '6', '8', '7', '6', '5', '4', '5', '8', '9', '7', '6', '8', '7', '6', '5', '4', '6', '1', '2', '3', '2', '3', '6', '7', '8', '9', '8', '7', '6', '5', '4', '5']\n"
     ]
    }
   ],
   "source": [
    "print re.findall(\"[0-9]\",data)"
   ]
  },
  {
   "cell_type": "code",
   "execution_count": 46,
   "metadata": {
    "collapsed": false
   },
   "outputs": [
    {
     "name": "stdout",
     "output_type": "stream",
     "text": [
      "[]\n"
     ]
    }
   ],
   "source": [
    "print re.findall(\"[0-9][a-z]\",data)"
   ]
  },
  {
   "cell_type": "code",
   "execution_count": 47,
   "metadata": {
    "collapsed": false
   },
   "outputs": [
    {
     "name": "stdout",
     "output_type": "stream",
     "text": [
      "['l1']\n"
     ]
    }
   ],
   "source": [
    "print re.findall(\"[a-z][0-9]\",data)"
   ]
  },
  {
   "cell_type": "code",
   "execution_count": 48,
   "metadata": {
    "collapsed": false
   },
   "outputs": [
    {
     "name": "stdout",
     "output_type": "stream",
     "text": [
      "['nil', 'uma', 'ani', 'gma', 'com', 'uni', 'uma', 'sun', 'yah', 'com', 'jay', 'uma', 'jay', 'hot', 'mai']\n"
     ]
    }
   ],
   "source": [
    "print re.findall(\"[a-z]{3}\",data)"
   ]
  },
  {
   "cell_type": "code",
   "execution_count": 49,
   "metadata": {
    "collapsed": false
   },
   "outputs": [
    {
     "name": "stdout",
     "output_type": "stream",
     "text": [
      "['Ani', 'Kum', 'ani', 'gma', 'com', 'Sun', 'Kum', 'sun', 'yah', 'com', 'Aja', 'Kum', 'Aja', 'hot', 'mai']\n"
     ]
    }
   ],
   "source": [
    "print re.findall(\"[a-zA-Z]{3}\",data)"
   ]
  },
  {
   "cell_type": "code",
   "execution_count": 50,
   "metadata": {
    "collapsed": false
   },
   "outputs": [
    {
     "name": "stdout",
     "output_type": "stream",
     "text": [
      "['Ani', 'Kum', 'ani', 'gma', 'com', 'Sun', 'Kum', 'sun', 'yah', 'com', 'Aja', 'Kum', 'Aja', 'hot', 'mai']\n"
     ]
    }
   ],
   "source": [
    "print re.findall(\"[a-z]{3}\",data,re.I)"
   ]
  },
  {
   "cell_type": "code",
   "execution_count": 51,
   "metadata": {
    "collapsed": false
   },
   "outputs": [
    {
     "name": "stdout",
     "output_type": "stream",
     "text": [
      "['Anil', 'Kumar', 'anil', 'gmail', 'com', 'Sunil', 'Kumar', 'sunil', 'yahoo', 'com', 'Ajay', 'Kumar', 'Ajay', 'hotma']\n"
     ]
    }
   ],
   "source": [
    "print re.findall(\"[a-z]{3,5}\",data,re.I)"
   ]
  },
  {
   "cell_type": "code",
   "execution_count": 52,
   "metadata": {
    "collapsed": false
   },
   "outputs": [
    {
     "name": "stdout",
     "output_type": "stream",
     "text": [
      "['Anil ', 'Kumar', 'anil', 'gmail', 'com', 'Sunil', ' Kuma', 'sunil', 'yahoo', 'com', 'Ajay ', 'Kumar', 'Ajay', 'hotma']\n"
     ]
    }
   ],
   "source": [
    "print re.findall(\"[a-z ]{3,5}\",data,re.I)"
   ]
  },
  {
   "cell_type": "code",
   "execution_count": 70,
   "metadata": {
    "collapsed": false
   },
   "outputs": [
    {
     "name": "stdout",
     "output_type": "stream",
     "text": [
      "['Anil', 'Kumar', 'anil', 'gmail', 'com', 'Sunil', 'Kumar', 'sunil', 'yahoo', 'com', 'Ajay', 'Kumar', 'Ajay', 'hotmail', 'co', 'in']\n"
     ]
    }
   ],
   "source": [
    "print re.findall(\"[a-z]+\",data,re.I)"
   ]
  },
  {
   "cell_type": "code",
   "execution_count": 54,
   "metadata": {
    "collapsed": false
   },
   "outputs": [
    {
     "name": "stdout",
     "output_type": "stream",
     "text": [
      "['', '', 'Anil Kumar', '', '', '', '', '', '', '', '', '', '', '', '', 'anil', '', 'gmail', '', 'com', '', 'Sunil Kumar', '', '', '', '', '', '', '', '', '', '', '', '', 'sunil', '', '', '', '', 'yahoo', '', 'com', '', '', '', '', '', '', '', '', '', '', '', '', '', '', '', '', 'Ajay Kumar', '', 'Ajay', '', 'hotmail', '', 'co', '', 'in', '', '', '']\n"
     ]
    }
   ],
   "source": [
    "print re.findall(\"[a-z ]*\",data,re.I)"
   ]
  },
  {
   "cell_type": "code",
   "execution_count": 55,
   "metadata": {
    "collapsed": false
   },
   "outputs": [
    {
     "name": "stdout",
     "output_type": "stream",
     "text": [
      "['1', ',', 'A', 'n', 'i', 'l', ' ', 'K', 'u', 'm', 'a', 'r', ',', '8', '9', '7', '6', '8', '7', '6', '5', '4', '5', ',', 'a', 'n', 'i', 'l', '@', 'g', 'm', 'a', 'i', 'l', '.', 'c', 'o', 'm', 'S', 'u', 'n', 'i', 'l', ' ', 'K', 'u', 'm', 'a', 'r', ',', '8', '9', '7', '6', '8', '7', '6', '5', '4', '6', ',', 's', 'u', 'n', 'i', 'l', '1', '2', '3', '@', 'y', 'a', 'h', 'o', 'o', '.', 'c', 'o', 'm', ',', '2', '3', ',', '6', '7', '8', '9', '8', '7', '6', '5', '4', '5', ',', 'A', 'j', 'a', 'y', ' ', 'K', 'u', 'm', 'a', 'r', ',', 'A', 'j', 'a', 'y', '@', 'h', 'o', 't', 'm', 'a', 'i', 'l', '.', 'c', 'o', '.', 'i', 'n']\n"
     ]
    }
   ],
   "source": [
    "print re.findall(\".\",data,re.I)"
   ]
  },
  {
   "cell_type": "code",
   "execution_count": 56,
   "metadata": {
    "collapsed": false
   },
   "outputs": [
    {
     "data": {
      "text/plain": [
       "'1,Anil Kumar,8976876545,anil@gmail.com\\nSunil Kumar,8976876546,sunil123@yahoo.com,2\\n3,6789876545,Ajay Kumar,Ajay@hotmail.co.in\\n\\n'"
      ]
     },
     "execution_count": 56,
     "metadata": {},
     "output_type": "execute_result"
    }
   ],
   "source": [
    "data"
   ]
  },
  {
   "cell_type": "code",
   "execution_count": 57,
   "metadata": {
    "collapsed": false
   },
   "outputs": [
    {
     "name": "stdout",
     "output_type": "stream",
     "text": [
      "['1', ',', 'A', 'n', 'i', 'l', ' ', 'K', 'u', 'm', 'a', 'r', ',', '8', '9', '7', '6', '8', '7', '6', '5', '4', '5', ',', 'a', 'n', 'i', 'l', '@', 'g', 'm', 'a', 'i', 'l', '.', 'c', 'o', 'm', '\\n', 'S', 'u', 'n', 'i', 'l', ' ', 'K', 'u', 'm', 'a', 'r', ',', '8', '9', '7', '6', '8', '7', '6', '5', '4', '6', ',', 's', 'u', 'n', 'i', 'l', '1', '2', '3', '@', 'y', 'a', 'h', 'o', 'o', '.', 'c', 'o', 'm', ',', '2', '\\n', '3', ',', '6', '7', '8', '9', '8', '7', '6', '5', '4', '5', ',', 'A', 'j', 'a', 'y', ' ', 'K', 'u', 'm', 'a', 'r', ',', 'A', 'j', 'a', 'y', '@', 'h', 'o', 't', 'm', 'a', 'i', 'l', '.', 'c', 'o', '.', 'i', 'n', '\\n', '\\n']\n"
     ]
    }
   ],
   "source": [
    "print re.findall(\".\",data,re.I|re.DOTALL)"
   ]
  },
  {
   "cell_type": "code",
   "execution_count": 58,
   "metadata": {
    "collapsed": false
   },
   "outputs": [
    {
     "ename": "NameError",
     "evalue": "name 'op1' is not defined",
     "output_type": "error",
     "traceback": [
      "\u001b[0;31m---------------------------------------------------------------------------\u001b[0m",
      "\u001b[0;31mNameError\u001b[0m                                 Traceback (most recent call last)",
      "\u001b[0;32m<ipython-input-58-7567075d9384>\u001b[0m in \u001b[0;36m<module>\u001b[0;34m()\u001b[0m\n\u001b[1;32m      2\u001b[0m     \u001b[0;32mdef\u001b[0m \u001b[0mop1\u001b[0m\u001b[0;34m(\u001b[0m\u001b[0ma\u001b[0m\u001b[0;34m,\u001b[0m\u001b[0mb\u001b[0m\u001b[0;34m)\u001b[0m\u001b[0;34m:\u001b[0m\u001b[0;34m\u001b[0m\u001b[0m\n\u001b[1;32m      3\u001b[0m         \u001b[0;32mprint\u001b[0m \u001b[0ma\u001b[0m\u001b[0;34m,\u001b[0m\u001b[0mb\u001b[0m\u001b[0;34m\u001b[0m\u001b[0m\n\u001b[0;32m----> 4\u001b[0;31m \u001b[0mop1\u001b[0m\u001b[0;34m(\u001b[0m\u001b[0;36m10\u001b[0m\u001b[0;34m,\u001b[0m\u001b[0;36m20\u001b[0m\u001b[0;34m)\u001b[0m\u001b[0;34m\u001b[0m\u001b[0m\n\u001b[0m",
      "\u001b[0;31mNameError\u001b[0m: name 'op1' is not defined"
     ]
    }
   ],
   "source": [
    "class CalssName:\n",
    "    def op1(a,b):\n",
    "        print a,b\n",
    "op1(10,20)"
   ]
  },
  {
   "cell_type": "code",
   "execution_count": 59,
   "metadata": {
    "collapsed": false
   },
   "outputs": [
    {
     "ename": "TypeError",
     "evalue": "unbound method op1() must be called with CalssName instance as first argument (got int instance instead)",
     "output_type": "error",
     "traceback": [
      "\u001b[0;31m---------------------------------------------------------------------------\u001b[0m",
      "\u001b[0;31mTypeError\u001b[0m                                 Traceback (most recent call last)",
      "\u001b[0;32m<ipython-input-59-52bb35dc9226>\u001b[0m in \u001b[0;36m<module>\u001b[0;34m()\u001b[0m\n\u001b[1;32m      2\u001b[0m     \u001b[0;32mdef\u001b[0m \u001b[0mop1\u001b[0m\u001b[0;34m(\u001b[0m\u001b[0ma\u001b[0m\u001b[0;34m,\u001b[0m\u001b[0mb\u001b[0m\u001b[0;34m)\u001b[0m\u001b[0;34m:\u001b[0m\u001b[0;34m\u001b[0m\u001b[0m\n\u001b[1;32m      3\u001b[0m         \u001b[0;32mprint\u001b[0m \u001b[0ma\u001b[0m\u001b[0;34m,\u001b[0m\u001b[0mb\u001b[0m\u001b[0;34m\u001b[0m\u001b[0m\n\u001b[0;32m----> 4\u001b[0;31m \u001b[0mCalssName\u001b[0m\u001b[0;34m.\u001b[0m\u001b[0mop1\u001b[0m\u001b[0;34m(\u001b[0m\u001b[0;36m10\u001b[0m\u001b[0;34m,\u001b[0m\u001b[0;36m20\u001b[0m\u001b[0;34m)\u001b[0m\u001b[0;34m\u001b[0m\u001b[0m\n\u001b[0m",
      "\u001b[0;31mTypeError\u001b[0m: unbound method op1() must be called with CalssName instance as first argument (got int instance instead)"
     ]
    }
   ],
   "source": [
    "class CalssName:\n",
    "    def op1(a,b):\n",
    "        print a,b\n",
    "CalssName.op1(10,20)"
   ]
  },
  {
   "cell_type": "code",
   "execution_count": 60,
   "metadata": {
    "collapsed": false
   },
   "outputs": [
    {
     "ename": "TypeError",
     "evalue": "unbound method op1() must be called with CalssName instance as first argument (got int instance instead)",
     "output_type": "error",
     "traceback": [
      "\u001b[0;31m---------------------------------------------------------------------------\u001b[0m",
      "\u001b[0;31mTypeError\u001b[0m                                 Traceback (most recent call last)",
      "\u001b[0;32m<ipython-input-60-f6cb862fbe6b>\u001b[0m in \u001b[0;36m<module>\u001b[0;34m()\u001b[0m\n\u001b[1;32m      3\u001b[0m         \u001b[0;32mprint\u001b[0m \u001b[0ma\u001b[0m\u001b[0;34m,\u001b[0m\u001b[0mb\u001b[0m\u001b[0;34m\u001b[0m\u001b[0m\n\u001b[1;32m      4\u001b[0m \u001b[0minst\u001b[0m \u001b[0;34m=\u001b[0m \u001b[0mCalssName\u001b[0m\u001b[0;34m(\u001b[0m\u001b[0;34m)\u001b[0m\u001b[0;34m\u001b[0m\u001b[0m\n\u001b[0;32m----> 5\u001b[0;31m \u001b[0mCalssName\u001b[0m\u001b[0;34m.\u001b[0m\u001b[0mop1\u001b[0m\u001b[0;34m(\u001b[0m\u001b[0;36m10\u001b[0m\u001b[0;34m,\u001b[0m\u001b[0;36m20\u001b[0m\u001b[0;34m)\u001b[0m\u001b[0;34m\u001b[0m\u001b[0m\n\u001b[0m",
      "\u001b[0;31mTypeError\u001b[0m: unbound method op1() must be called with CalssName instance as first argument (got int instance instead)"
     ]
    }
   ],
   "source": [
    "class CalssName:\n",
    "    def op1(a,b):\n",
    "        print a,b\n",
    "inst = CalssName()\n",
    "CalssName.op1(10,20)"
   ]
  },
  {
   "cell_type": "code",
   "execution_count": 61,
   "metadata": {
    "collapsed": false
   },
   "outputs": [
    {
     "ename": "TypeError",
     "evalue": "op1() takes exactly 2 arguments (3 given)",
     "output_type": "error",
     "traceback": [
      "\u001b[0;31m---------------------------------------------------------------------------\u001b[0m",
      "\u001b[0;31mTypeError\u001b[0m                                 Traceback (most recent call last)",
      "\u001b[0;32m<ipython-input-61-cd583ed9468c>\u001b[0m in \u001b[0;36m<module>\u001b[0;34m()\u001b[0m\n\u001b[1;32m      3\u001b[0m         \u001b[0;32mprint\u001b[0m \u001b[0ma\u001b[0m\u001b[0;34m,\u001b[0m\u001b[0mb\u001b[0m\u001b[0;34m\u001b[0m\u001b[0m\n\u001b[1;32m      4\u001b[0m \u001b[0minst\u001b[0m \u001b[0;34m=\u001b[0m \u001b[0mCalssName\u001b[0m\u001b[0;34m(\u001b[0m\u001b[0;34m)\u001b[0m\u001b[0;34m\u001b[0m\u001b[0m\n\u001b[0;32m----> 5\u001b[0;31m \u001b[0mCalssName\u001b[0m\u001b[0;34m.\u001b[0m\u001b[0mop1\u001b[0m\u001b[0;34m(\u001b[0m\u001b[0minst\u001b[0m\u001b[0;34m,\u001b[0m\u001b[0;36m10\u001b[0m\u001b[0;34m,\u001b[0m\u001b[0;36m20\u001b[0m\u001b[0;34m)\u001b[0m\u001b[0;34m\u001b[0m\u001b[0m\n\u001b[0m",
      "\u001b[0;31mTypeError\u001b[0m: op1() takes exactly 2 arguments (3 given)"
     ]
    }
   ],
   "source": [
    "class CalssName:\n",
    "    def op1(a,b):\n",
    "        print a,b\n",
    "inst = CalssName()\n",
    "CalssName.op1(inst,10,20)"
   ]
  },
  {
   "cell_type": "code",
   "execution_count": 62,
   "metadata": {
    "collapsed": false
   },
   "outputs": [
    {
     "name": "stdout",
     "output_type": "stream",
     "text": [
      "<__main__.CalssName instance at 0x7ff5cc5a1758> 10\n"
     ]
    }
   ],
   "source": [
    "class CalssName:\n",
    "    def op1(a,b):\n",
    "        print a,b\n",
    "inst = CalssName()\n",
    "CalssName.op1(inst,10)"
   ]
  },
  {
   "cell_type": "code",
   "execution_count": 64,
   "metadata": {
    "collapsed": false
   },
   "outputs": [
    {
     "name": "stdout",
     "output_type": "stream",
     "text": [
      "__main__.CalssName\n",
      "<__main__.CalssName instance at 0x7ff5cc5cbb90>\n",
      "<__main__.CalssName instance at 0x7ff5cc5cbb90> 10\n"
     ]
    }
   ],
   "source": [
    "class CalssName:\n",
    "    def op1(a,b):\n",
    "        print a,b\n",
    "print CalssName\n",
    "inst = CalssName()\n",
    "print inst\n",
    "CalssName.op1(inst,10)"
   ]
  },
  {
   "cell_type": "code",
   "execution_count": 65,
   "metadata": {
    "collapsed": false
   },
   "outputs": [
    {
     "name": "stdout",
     "output_type": "stream",
     "text": [
      "<function fun at 0x7ff5cc668c08>\n"
     ]
    }
   ],
   "source": [
    "def fun():\n",
    "    print \"dsfsdfsdf\"\n",
    "print fun"
   ]
  },
  {
   "cell_type": "code",
   "execution_count": 66,
   "metadata": {
    "collapsed": false
   },
   "outputs": [
    {
     "name": "stdout",
     "output_type": "stream",
     "text": [
      "<__main__.CalssName instance at 0x7ff5cc5a1098> 10\n",
      "<__main__.CalssName instance at 0x7ff5cc5cbb90> 10\n",
      "<__main__.CalssName instance at 0x7ff5cc5a19e0> 10\n"
     ]
    }
   ],
   "source": [
    "class CalssName:\n",
    "    def op1(a,b):\n",
    "        print a,b\n",
    "inst = CalssName()\n",
    "CalssName.op1(inst,10)\n",
    "inst1=CalssName()\n",
    "CalssName.op1(inst1,10)\n",
    "inst2=CalssName()\n",
    "CalssName.op1(inst2,10)"
   ]
  },
  {
   "cell_type": "code",
   "execution_count": 67,
   "metadata": {
    "collapsed": false
   },
   "outputs": [
    {
     "name": "stdout",
     "output_type": "stream",
     "text": [
      "<__main__.Emp instance at 0x7ff5cc5a1bd8>\n",
      "<__main__.Emp instance at 0x7ff5cc5a1758>\n",
      "<__main__.Emp instance at 0x7ff5cc5a1d40>\n"
     ]
    }
   ],
   "source": [
    "class Emp:\n",
    "    def get_data(a):\n",
    "        print a\n",
    "Anil=Emp()\n",
    "Emp.get_data(Anil)\n",
    "Sunil=Emp()\n",
    "Emp.get_data(Sunil)\n",
    "Rajesh=Emp()\n",
    "Emp.get_data(Rajesh)"
   ]
  },
  {
   "cell_type": "code",
   "execution_count": 68,
   "metadata": {
    "collapsed": false
   },
   "outputs": [
    {
     "ename": "TypeError",
     "evalue": "get_data() takes exactly 1 argument (2 given)",
     "output_type": "error",
     "traceback": [
      "\u001b[0;31m---------------------------------------------------------------------------\u001b[0m",
      "\u001b[0;31mTypeError\u001b[0m                                 Traceback (most recent call last)",
      "\u001b[0;32m<ipython-input-68-65f7d8de0097>\u001b[0m in \u001b[0;36m<module>\u001b[0;34m()\u001b[0m\n\u001b[0;32m----> 1\u001b[0;31m \u001b[0mAnil\u001b[0m\u001b[0;34m.\u001b[0m\u001b[0mget_data\u001b[0m\u001b[0;34m(\u001b[0m\u001b[0;36m10\u001b[0m\u001b[0;34m)\u001b[0m\u001b[0;34m\u001b[0m\u001b[0m\n\u001b[0m",
      "\u001b[0;31mTypeError\u001b[0m: get_data() takes exactly 1 argument (2 given)"
     ]
    }
   ],
   "source": [
    "Anil.get_data(10)"
   ]
  },
  {
   "cell_type": "code",
   "execution_count": 69,
   "metadata": {
    "collapsed": false
   },
   "outputs": [
    {
     "name": "stdout",
     "output_type": "stream",
     "text": [
      "<__main__.Emp instance at 0x7ff5cc5a1bd8>\n"
     ]
    }
   ],
   "source": [
    "Anil.get_data()"
   ]
  },
  {
   "cell_type": "code",
   "execution_count": null,
   "metadata": {
    "collapsed": true
   },
   "outputs": [],
   "source": []
  }
 ],
 "metadata": {
  "kernelspec": {
   "display_name": "Python 2",
   "language": "python",
   "name": "python2"
  },
  "language_info": {
   "codemirror_mode": {
    "name": "ipython",
    "version": 2
   },
   "file_extension": ".py",
   "mimetype": "text/x-python",
   "name": "python",
   "nbconvert_exporter": "python",
   "pygments_lexer": "ipython2",
   "version": "2.7.13"
  }
 },
 "nbformat": 4,
 "nbformat_minor": 2
}
