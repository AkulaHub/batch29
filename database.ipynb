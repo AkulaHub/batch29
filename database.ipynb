{
 "cells": [
  {
   "cell_type": "code",
   "execution_count": 1,
   "metadata": {
    "collapsed": true
   },
   "outputs": [],
   "source": [
    "import sqlite3"
   ]
  },
  {
   "cell_type": "code",
   "execution_count": 2,
   "metadata": {
    "collapsed": true
   },
   "outputs": [],
   "source": [
    "con = sqlite3.connect('db1.db')"
   ]
  },
  {
   "cell_type": "code",
   "execution_count": 4,
   "metadata": {
    "collapsed": false
   },
   "outputs": [],
   "source": [
    "cur= con.cursor()"
   ]
  },
  {
   "cell_type": "code",
   "execution_count": 5,
   "metadata": {
    "collapsed": false
   },
   "outputs": [
    {
     "data": {
      "text/plain": [
       "<sqlite3.Cursor at 0x7f2b145f3f80>"
      ]
     },
     "execution_count": 5,
     "metadata": {},
     "output_type": "execute_result"
    }
   ],
   "source": [
    "cur.execute(\"create table persons(id int,name varchar(200))\")"
   ]
  },
  {
   "cell_type": "code",
   "execution_count": 7,
   "metadata": {
    "collapsed": false
   },
   "outputs": [
    {
     "data": {
      "text/plain": [
       "<sqlite3.Cursor at 0x7f2b145f3f80>"
      ]
     },
     "execution_count": 7,
     "metadata": {},
     "output_type": "execute_result"
    }
   ],
   "source": [
    "cur.execute(\"insert into persons values(1,'name1')\")"
   ]
  },
  {
   "cell_type": "code",
   "execution_count": 8,
   "metadata": {
    "collapsed": true
   },
   "outputs": [],
   "source": [
    "con.close()"
   ]
  },
  {
   "cell_type": "code",
   "execution_count": 11,
   "metadata": {
    "collapsed": false
   },
   "outputs": [],
   "source": [
    "con = sqlite3.connect('db1.db')\n",
    "cur= con.cursor()\n",
    "cur.execute(\"insert into persons values(1,'name1')\")\n",
    "con.commit()"
   ]
  },
  {
   "cell_type": "code",
   "execution_count": 14,
   "metadata": {
    "collapsed": false
   },
   "outputs": [],
   "source": [
    "def insert(p_id,p_name):\n",
    "    q=\"insert into persons values(%s, 'name%s')\"%(p_id,p_name)\n",
    "    cur.execute(q)\n",
    "map(insert,range(1,101),range(1,101))\n",
    "con.commit()"
   ]
  },
  {
   "cell_type": "code",
   "execution_count": 15,
   "metadata": {
    "collapsed": true
   },
   "outputs": [],
   "source": [
    "data=cur.execute(\"select * from persons\")\n"
   ]
  },
  {
   "cell_type": "code",
   "execution_count": 16,
   "metadata": {
    "collapsed": false
   },
   "outputs": [
    {
     "name": "stdout",
     "output_type": "stream",
     "text": [
      "<sqlite3.Cursor object at 0x7f2b145906c0>\n"
     ]
    }
   ],
   "source": [
    "print data"
   ]
  },
  {
   "cell_type": "code",
   "execution_count": 17,
   "metadata": {
    "collapsed": false
   },
   "outputs": [
    {
     "name": "stdout",
     "output_type": "stream",
     "text": [
      "[(1, u'name1'), (1, u'name1'), (2, u'name2'), (3, u'name3'), (4, u'name4'), (5, u'name5'), (6, u'name6'), (7, u'name7'), (8, u'name8'), (9, u'name9'), (10, u'name10'), (11, u'name11'), (12, u'name12'), (13, u'name13'), (14, u'name14'), (15, u'name15'), (16, u'name16'), (17, u'name17'), (18, u'name18'), (19, u'name19'), (20, u'name20'), (21, u'name21'), (22, u'name22'), (23, u'name23'), (24, u'name24'), (25, u'name25'), (26, u'name26'), (27, u'name27'), (28, u'name28'), (29, u'name29'), (30, u'name30'), (31, u'name31'), (32, u'name32'), (33, u'name33'), (34, u'name34'), (35, u'name35'), (36, u'name36'), (37, u'name37'), (38, u'name38'), (39, u'name39'), (40, u'name40'), (41, u'name41'), (42, u'name42'), (43, u'name43'), (44, u'name44'), (45, u'name45'), (46, u'name46'), (47, u'name47'), (48, u'name48'), (49, u'name49'), (50, u'name50'), (51, u'name51'), (52, u'name52'), (53, u'name53'), (54, u'name54'), (55, u'name55'), (56, u'name56'), (57, u'name57'), (58, u'name58'), (59, u'name59'), (60, u'name60'), (61, u'name61'), (62, u'name62'), (63, u'name63'), (64, u'name64'), (65, u'name65'), (66, u'name66'), (67, u'name67'), (68, u'name68'), (69, u'name69'), (70, u'name70'), (71, u'name71'), (72, u'name72'), (73, u'name73'), (74, u'name74'), (75, u'name75'), (76, u'name76'), (77, u'name77'), (78, u'name78'), (79, u'name79'), (80, u'name80'), (81, u'name81'), (82, u'name82'), (83, u'name83'), (84, u'name84'), (85, u'name85'), (86, u'name86'), (87, u'name87'), (88, u'name88'), (89, u'name89'), (90, u'name90'), (91, u'name91'), (92, u'name92'), (93, u'name93'), (94, u'name94'), (95, u'name95'), (96, u'name96'), (97, u'name97'), (98, u'name98'), (99, u'name99'), (100, u'name100')]\n"
     ]
    }
   ],
   "source": [
    "print cur.fetchall()"
   ]
  },
  {
   "cell_type": "code",
   "execution_count": 18,
   "metadata": {
    "collapsed": false
   },
   "outputs": [
    {
     "data": {
      "text/plain": [
       "<sqlite3.Cursor at 0x7f2b145906c0>"
      ]
     },
     "execution_count": 18,
     "metadata": {},
     "output_type": "execute_result"
    }
   ],
   "source": [
    "cur.execute(\"update persons set name='Modified name2' where id=2\")"
   ]
  },
  {
   "cell_type": "code",
   "execution_count": 19,
   "metadata": {
    "collapsed": true
   },
   "outputs": [],
   "source": [
    "con.commit()"
   ]
  },
  {
   "cell_type": "code",
   "execution_count": 21,
   "metadata": {
    "collapsed": false
   },
   "outputs": [],
   "source": [
    "cur.execute(\"delete from persons where id=2\")\n",
    "con.commit()"
   ]
  },
  {
   "cell_type": "code",
   "execution_count": null,
   "metadata": {
    "collapsed": true
   },
   "outputs": [],
   "source": []
  }
 ],
 "metadata": {
  "kernelspec": {
   "display_name": "Python 2",
   "language": "python",
   "name": "python2"
  },
  "language_info": {
   "codemirror_mode": {
    "name": "ipython",
    "version": 2
   },
   "file_extension": ".py",
   "mimetype": "text/x-python",
   "name": "python",
   "nbconvert_exporter": "python",
   "pygments_lexer": "ipython2",
   "version": "2.7.13"
  }
 },
 "nbformat": 4,
 "nbformat_minor": 2
}
